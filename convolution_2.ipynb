{
 "cells": [
  {
   "cell_type": "code",
   "execution_count": 1,
   "metadata": {},
   "outputs": [
    {
     "name": "stderr",
     "output_type": "stream",
     "text": [
      "/opt/miniconda3/lib/python3.9/site-packages/tqdm/auto.py:22: TqdmWarning: IProgress not found. Please update jupyter and ipywidgets. See https://ipywidgets.readthedocs.io/en/stable/user_install.html\n",
      "  from .autonotebook import tqdm as notebook_tqdm\n"
     ]
    }
   ],
   "source": [
    "\n",
    "import pandas as pd\n",
    "import numpy as np \n",
    "import torch \n"
   ]
  },
  {
   "cell_type": "code",
   "execution_count": 2,
   "metadata": {},
   "outputs": [],
   "source": [
    "data_path = 'data/'"
   ]
  },
  {
   "cell_type": "code",
   "execution_count": 3,
   "metadata": {},
   "outputs": [],
   "source": [
    "train_df = pd.read_csv(data_path + 'train_v1.csv',index_col=\"seq_id\")\n"
   ]
  },
  {
   "cell_type": "code",
   "execution_count": 4,
   "metadata": {},
   "outputs": [],
   "source": [
    "train_df = train_df.dropna()\n",
    "train_df = train_df.drop(columns=['data_source'])"
   ]
  },
  {
   "cell_type": "code",
   "execution_count": 5,
   "metadata": {},
   "outputs": [
    {
     "data": {
      "text/html": [
       "<div>\n",
       "<style scoped>\n",
       "    .dataframe tbody tr th:only-of-type {\n",
       "        vertical-align: middle;\n",
       "    }\n",
       "\n",
       "    .dataframe tbody tr th {\n",
       "        vertical-align: top;\n",
       "    }\n",
       "\n",
       "    .dataframe thead th {\n",
       "        text-align: right;\n",
       "    }\n",
       "</style>\n",
       "<table border=\"1\" class=\"dataframe\">\n",
       "  <thead>\n",
       "    <tr style=\"text-align: right;\">\n",
       "      <th></th>\n",
       "      <th>protein_sequence</th>\n",
       "      <th>pH</th>\n",
       "      <th>tm</th>\n",
       "    </tr>\n",
       "    <tr>\n",
       "      <th>seq_id</th>\n",
       "      <th></th>\n",
       "      <th></th>\n",
       "      <th></th>\n",
       "    </tr>\n",
       "  </thead>\n",
       "  <tbody>\n",
       "    <tr>\n",
       "      <th>0</th>\n",
       "      <td>AAAAKAAALALLGEAPEVVDIWLPAGWRQPFRVFRLERKGDGVLVG...</td>\n",
       "      <td>7.0</td>\n",
       "      <td>75.7</td>\n",
       "    </tr>\n",
       "    <tr>\n",
       "      <th>1</th>\n",
       "      <td>AAADGEPLHNEEERAGAGQVGRSLPQESEEQRTGSRPRRRRDLGSR...</td>\n",
       "      <td>7.0</td>\n",
       "      <td>50.5</td>\n",
       "    </tr>\n",
       "    <tr>\n",
       "      <th>2</th>\n",
       "      <td>AAAFSTPRATSYRILSSAGSGSTRADAPQVRRLHTTRDLLAKDYYA...</td>\n",
       "      <td>7.0</td>\n",
       "      <td>40.5</td>\n",
       "    </tr>\n",
       "    <tr>\n",
       "      <th>3</th>\n",
       "      <td>AAASGLRTAIPAQPLRHLLQPAPRPCLRPFGLLSVRAGSARRSGLL...</td>\n",
       "      <td>7.0</td>\n",
       "      <td>47.2</td>\n",
       "    </tr>\n",
       "    <tr>\n",
       "      <th>4</th>\n",
       "      <td>AAATKSGPRRQSQGASVRTFTPFYFLVEPVDTLSVRGSSVILNCSA...</td>\n",
       "      <td>7.0</td>\n",
       "      <td>49.5</td>\n",
       "    </tr>\n",
       "  </tbody>\n",
       "</table>\n",
       "</div>"
      ],
      "text/plain": [
       "                                         protein_sequence   pH    tm\n",
       "seq_id                                                              \n",
       "0       AAAAKAAALALLGEAPEVVDIWLPAGWRQPFRVFRLERKGDGVLVG...  7.0  75.7\n",
       "1       AAADGEPLHNEEERAGAGQVGRSLPQESEEQRTGSRPRRRRDLGSR...  7.0  50.5\n",
       "2       AAAFSTPRATSYRILSSAGSGSTRADAPQVRRLHTTRDLLAKDYYA...  7.0  40.5\n",
       "3       AAASGLRTAIPAQPLRHLLQPAPRPCLRPFGLLSVRAGSARRSGLL...  7.0  47.2\n",
       "4       AAATKSGPRRQSQGASVRTFTPFYFLVEPVDTLSVRGSSVILNCSA...  7.0  49.5"
      ]
     },
     "execution_count": 5,
     "metadata": {},
     "output_type": "execute_result"
    }
   ],
   "source": [
    "train_df.head()"
   ]
  },
  {
   "cell_type": "code",
   "execution_count": 6,
   "metadata": {},
   "outputs": [],
   "source": [
    "from collections import Counter"
   ]
  },
  {
   "cell_type": "code",
   "execution_count": 7,
   "metadata": {},
   "outputs": [],
   "source": [
    "def f(s):\n",
    "    counter = Counter(s)\n",
    "    for p in s  : \n",
    "        if p in map : \n",
    "            map[p]+=counter[p]\n",
    "        else : \n",
    "            map[p]= counter[p]\n",
    "        \n"
   ]
  },
  {
   "cell_type": "code",
   "execution_count": 8,
   "metadata": {},
   "outputs": [],
   "source": [
    "map = {} \n",
    "mapper = train_df.apply(lambda row : f(row['protein_sequence']),axis=1)\n"
   ]
  },
  {
   "cell_type": "code",
   "execution_count": 9,
   "metadata": {},
   "outputs": [],
   "source": [
    "map = dict(sorted(map.items(), key=lambda item: item[1],reverse=True))"
   ]
  },
  {
   "cell_type": "code",
   "execution_count": 10,
   "metadata": {},
   "outputs": [],
   "source": [
    "i = 1\n",
    "for key, value in map.items():\n",
    "    map[key]= i\n",
    "    i+=1"
   ]
  },
  {
   "cell_type": "code",
   "execution_count": 11,
   "metadata": {},
   "outputs": [],
   "source": [
    "def chr_to_int(s):\n",
    "    l = []\n",
    "    for ch in s :\n",
    "       l.append(map[ch])\n",
    "    return l\n"
   ]
  },
  {
   "cell_type": "code",
   "execution_count": 12,
   "metadata": {},
   "outputs": [],
   "source": [
    "train_df['numerical_sequence'] = train_df.apply(lambda row : chr_to_int(row['protein_sequence']),axis=1)"
   ]
  },
  {
   "cell_type": "code",
   "execution_count": 13,
   "metadata": {},
   "outputs": [],
   "source": [
    "train_df['length'] = train_df['protein_sequence'].str.len()"
   ]
  },
  {
   "cell_type": "code",
   "execution_count": 14,
   "metadata": {},
   "outputs": [
    {
     "data": {
      "text/html": [
       "<div>\n",
       "<style scoped>\n",
       "    .dataframe tbody tr th:only-of-type {\n",
       "        vertical-align: middle;\n",
       "    }\n",
       "\n",
       "    .dataframe tbody tr th {\n",
       "        vertical-align: top;\n",
       "    }\n",
       "\n",
       "    .dataframe thead th {\n",
       "        text-align: right;\n",
       "    }\n",
       "</style>\n",
       "<table border=\"1\" class=\"dataframe\">\n",
       "  <thead>\n",
       "    <tr style=\"text-align: right;\">\n",
       "      <th></th>\n",
       "      <th>protein_sequence</th>\n",
       "      <th>pH</th>\n",
       "      <th>tm</th>\n",
       "      <th>numerical_sequence</th>\n",
       "      <th>length</th>\n",
       "    </tr>\n",
       "    <tr>\n",
       "      <th>seq_id</th>\n",
       "      <th></th>\n",
       "      <th></th>\n",
       "      <th></th>\n",
       "      <th></th>\n",
       "      <th></th>\n",
       "    </tr>\n",
       "  </thead>\n",
       "  <tbody>\n",
       "    <tr>\n",
       "      <th>0</th>\n",
       "      <td>AAAAKAAALALLGEAPEVVDIWLPAGWRQPFRVFRLERKGDGVLVG...</td>\n",
       "      <td>7.0</td>\n",
       "      <td>75.7</td>\n",
       "      <td>[4, 4, 4, 4, 6, 4, 4, 4, 1, 4, 1, 1, 5, 3, 4, ...</td>\n",
       "      <td>341</td>\n",
       "    </tr>\n",
       "    <tr>\n",
       "      <th>1</th>\n",
       "      <td>AAADGEPLHNEEERAGAGQVGRSLPQESEEQRTGSRPRRRRDLGSR...</td>\n",
       "      <td>7.0</td>\n",
       "      <td>50.5</td>\n",
       "      <td>[4, 4, 4, 8, 5, 3, 9, 1, 17, 14, 3, 3, 3, 10, ...</td>\n",
       "      <td>286</td>\n",
       "    </tr>\n",
       "    <tr>\n",
       "      <th>2</th>\n",
       "      <td>AAAFSTPRATSYRILSSAGSGSTRADAPQVRRLHTTRDLLAKDYYA...</td>\n",
       "      <td>7.0</td>\n",
       "      <td>40.5</td>\n",
       "      <td>[4, 4, 4, 15, 2, 11, 9, 10, 4, 11, 2, 16, 10, ...</td>\n",
       "      <td>497</td>\n",
       "    </tr>\n",
       "    <tr>\n",
       "      <th>3</th>\n",
       "      <td>AAASGLRTAIPAQPLRHLLQPAPRPCLRPFGLLSVRAGSARRSGLL...</td>\n",
       "      <td>7.0</td>\n",
       "      <td>47.2</td>\n",
       "      <td>[4, 4, 4, 2, 5, 1, 10, 11, 4, 12, 9, 4, 13, 9,...</td>\n",
       "      <td>265</td>\n",
       "    </tr>\n",
       "    <tr>\n",
       "      <th>4</th>\n",
       "      <td>AAATKSGPRRQSQGASVRTFTPFYFLVEPVDTLSVRGSSVILNCSA...</td>\n",
       "      <td>7.0</td>\n",
       "      <td>49.5</td>\n",
       "      <td>[4, 4, 4, 11, 6, 2, 5, 9, 10, 10, 13, 2, 13, 5...</td>\n",
       "      <td>1451</td>\n",
       "    </tr>\n",
       "    <tr>\n",
       "      <th>...</th>\n",
       "      <td>...</td>\n",
       "      <td>...</td>\n",
       "      <td>...</td>\n",
       "      <td>...</td>\n",
       "      <td>...</td>\n",
       "    </tr>\n",
       "    <tr>\n",
       "      <th>31385</th>\n",
       "      <td>YYMYSGGGSALAAGGGGAGRKGDWNDIDSIKKKDLHHSRGDEKAQG...</td>\n",
       "      <td>7.0</td>\n",
       "      <td>51.8</td>\n",
       "      <td>[16, 16, 18, 16, 2, 5, 5, 5, 2, 4, 1, 4, 4, 5,...</td>\n",
       "      <td>549</td>\n",
       "    </tr>\n",
       "    <tr>\n",
       "      <th>31386</th>\n",
       "      <td>YYNDQHRLSSYSVETAMFLSWERAIVKPGAMFKKAVIGFNCNVDLI...</td>\n",
       "      <td>7.0</td>\n",
       "      <td>37.2</td>\n",
       "      <td>[16, 16, 14, 8, 13, 17, 10, 1, 2, 2, 16, 2, 7,...</td>\n",
       "      <td>469</td>\n",
       "    </tr>\n",
       "    <tr>\n",
       "      <th>31387</th>\n",
       "      <td>YYQRTLGAELLYKISFGEMPKSAQDSAENCPSGMQFPDTAIAHANV...</td>\n",
       "      <td>7.0</td>\n",
       "      <td>64.6</td>\n",
       "      <td>[16, 16, 13, 10, 11, 1, 5, 4, 3, 1, 1, 16, 6, ...</td>\n",
       "      <td>128</td>\n",
       "    </tr>\n",
       "    <tr>\n",
       "      <th>31388</th>\n",
       "      <td>YYSFSDNITTVFLSRQAIDDDHSLSLGTISDVVESENGVVAADDAR...</td>\n",
       "      <td>7.0</td>\n",
       "      <td>50.7</td>\n",
       "      <td>[16, 16, 2, 15, 2, 8, 14, 12, 11, 11, 7, 15, 1...</td>\n",
       "      <td>593</td>\n",
       "    </tr>\n",
       "    <tr>\n",
       "      <th>31389</th>\n",
       "      <td>YYVPDEYWQSLEVAHKLTFGYGYLTWEWVQGIRSYVYPLLIAGLYK...</td>\n",
       "      <td>7.0</td>\n",
       "      <td>37.6</td>\n",
       "      <td>[16, 16, 7, 9, 8, 3, 16, 20, 13, 2, 1, 3, 7, 4...</td>\n",
       "      <td>537</td>\n",
       "    </tr>\n",
       "  </tbody>\n",
       "</table>\n",
       "<p>27727 rows × 5 columns</p>\n",
       "</div>"
      ],
      "text/plain": [
       "                                         protein_sequence   pH    tm  \\\n",
       "seq_id                                                                 \n",
       "0       AAAAKAAALALLGEAPEVVDIWLPAGWRQPFRVFRLERKGDGVLVG...  7.0  75.7   \n",
       "1       AAADGEPLHNEEERAGAGQVGRSLPQESEEQRTGSRPRRRRDLGSR...  7.0  50.5   \n",
       "2       AAAFSTPRATSYRILSSAGSGSTRADAPQVRRLHTTRDLLAKDYYA...  7.0  40.5   \n",
       "3       AAASGLRTAIPAQPLRHLLQPAPRPCLRPFGLLSVRAGSARRSGLL...  7.0  47.2   \n",
       "4       AAATKSGPRRQSQGASVRTFTPFYFLVEPVDTLSVRGSSVILNCSA...  7.0  49.5   \n",
       "...                                                   ...  ...   ...   \n",
       "31385   YYMYSGGGSALAAGGGGAGRKGDWNDIDSIKKKDLHHSRGDEKAQG...  7.0  51.8   \n",
       "31386   YYNDQHRLSSYSVETAMFLSWERAIVKPGAMFKKAVIGFNCNVDLI...  7.0  37.2   \n",
       "31387   YYQRTLGAELLYKISFGEMPKSAQDSAENCPSGMQFPDTAIAHANV...  7.0  64.6   \n",
       "31388   YYSFSDNITTVFLSRQAIDDDHSLSLGTISDVVESENGVVAADDAR...  7.0  50.7   \n",
       "31389   YYVPDEYWQSLEVAHKLTFGYGYLTWEWVQGIRSYVYPLLIAGLYK...  7.0  37.6   \n",
       "\n",
       "                                       numerical_sequence  length  \n",
       "seq_id                                                             \n",
       "0       [4, 4, 4, 4, 6, 4, 4, 4, 1, 4, 1, 1, 5, 3, 4, ...     341  \n",
       "1       [4, 4, 4, 8, 5, 3, 9, 1, 17, 14, 3, 3, 3, 10, ...     286  \n",
       "2       [4, 4, 4, 15, 2, 11, 9, 10, 4, 11, 2, 16, 10, ...     497  \n",
       "3       [4, 4, 4, 2, 5, 1, 10, 11, 4, 12, 9, 4, 13, 9,...     265  \n",
       "4       [4, 4, 4, 11, 6, 2, 5, 9, 10, 10, 13, 2, 13, 5...    1451  \n",
       "...                                                   ...     ...  \n",
       "31385   [16, 16, 18, 16, 2, 5, 5, 5, 2, 4, 1, 4, 4, 5,...     549  \n",
       "31386   [16, 16, 14, 8, 13, 17, 10, 1, 2, 2, 16, 2, 7,...     469  \n",
       "31387   [16, 16, 13, 10, 11, 1, 5, 4, 3, 1, 1, 16, 6, ...     128  \n",
       "31388   [16, 16, 2, 15, 2, 8, 14, 12, 11, 11, 7, 15, 1...     593  \n",
       "31389   [16, 16, 7, 9, 8, 3, 16, 20, 13, 2, 1, 3, 7, 4...     537  \n",
       "\n",
       "[27727 rows x 5 columns]"
      ]
     },
     "execution_count": 14,
     "metadata": {},
     "output_type": "execute_result"
    }
   ],
   "source": [
    "train_df"
   ]
  },
  {
   "cell_type": "code",
   "execution_count": 15,
   "metadata": {},
   "outputs": [],
   "source": [
    "max_length = max(train_df['length'])"
   ]
  },
  {
   "cell_type": "code",
   "execution_count": 16,
   "metadata": {},
   "outputs": [
    {
     "data": {
      "text/plain": [
       "8798"
      ]
     },
     "execution_count": 16,
     "metadata": {},
     "output_type": "execute_result"
    }
   ],
   "source": [
    "max_length"
   ]
  },
  {
   "cell_type": "markdown",
   "metadata": {},
   "source": [
    "# Adding inverted sequences"
   ]
  },
  {
   "cell_type": "code",
   "execution_count": 17,
   "metadata": {},
   "outputs": [],
   "source": [
    "inverted_df = train_df.copy()\n",
    "inverted_df['protein_sequence'] = inverted_df.apply(lambda row : row['protein_sequence'][::-1],axis=1)\n",
    "inverted_df['numerical_sequence'] = inverted_df.apply(lambda row : chr_to_int(row['protein_sequence']),axis=1)"
   ]
  },
  {
   "cell_type": "code",
   "execution_count": 18,
   "metadata": {},
   "outputs": [
    {
     "data": {
      "text/html": [
       "<div>\n",
       "<style scoped>\n",
       "    .dataframe tbody tr th:only-of-type {\n",
       "        vertical-align: middle;\n",
       "    }\n",
       "\n",
       "    .dataframe tbody tr th {\n",
       "        vertical-align: top;\n",
       "    }\n",
       "\n",
       "    .dataframe thead th {\n",
       "        text-align: right;\n",
       "    }\n",
       "</style>\n",
       "<table border=\"1\" class=\"dataframe\">\n",
       "  <thead>\n",
       "    <tr style=\"text-align: right;\">\n",
       "      <th></th>\n",
       "      <th>protein_sequence</th>\n",
       "      <th>pH</th>\n",
       "      <th>tm</th>\n",
       "      <th>numerical_sequence</th>\n",
       "      <th>length</th>\n",
       "    </tr>\n",
       "    <tr>\n",
       "      <th>seq_id</th>\n",
       "      <th></th>\n",
       "      <th></th>\n",
       "      <th></th>\n",
       "      <th></th>\n",
       "      <th></th>\n",
       "    </tr>\n",
       "  </thead>\n",
       "  <tbody>\n",
       "    <tr>\n",
       "      <th>0</th>\n",
       "      <td>RYVERDPWAALCRGEDFDTLAVSVFPREGIYAQLKEQALRVLNVFF...</td>\n",
       "      <td>7.0</td>\n",
       "      <td>75.7</td>\n",
       "      <td>[10, 16, 7, 3, 10, 8, 9, 20, 4, 4, 1, 19, 10, ...</td>\n",
       "      <td>341</td>\n",
       "    </tr>\n",
       "    <tr>\n",
       "      <th>1</th>\n",
       "      <td>SAQAPLDQGWSILSNSAQALETISVRGRQRIFNAVAALEEPTIYIF...</td>\n",
       "      <td>7.0</td>\n",
       "      <td>50.5</td>\n",
       "      <td>[2, 4, 13, 4, 9, 1, 8, 13, 5, 20, 2, 12, 1, 2,...</td>\n",
       "      <td>286</td>\n",
       "    </tr>\n",
       "    <tr>\n",
       "      <th>2</th>\n",
       "      <td>FMSKIKSIFGGGGGDGQGSGSGGGEKAKTKKNDTWQDKGESEEAGP...</td>\n",
       "      <td>7.0</td>\n",
       "      <td>40.5</td>\n",
       "      <td>[15, 18, 2, 6, 12, 6, 2, 12, 15, 5, 5, 5, 5, 5...</td>\n",
       "      <td>497</td>\n",
       "    </tr>\n",
       "    <tr>\n",
       "      <th>3</th>\n",
       "      <td>NKVFSKLDELFTIYEQHELATSLEVLEDAFTNDVGRDALFDMLHDY...</td>\n",
       "      <td>7.0</td>\n",
       "      <td>47.2</td>\n",
       "      <td>[14, 6, 7, 15, 2, 6, 1, 8, 3, 1, 15, 11, 12, 1...</td>\n",
       "      <td>265</td>\n",
       "    </tr>\n",
       "    <tr>\n",
       "      <th>4</th>\n",
       "      <td>TTIANLDKMLGELHAMEKTLEDPEYSSESDELMRTTEQVEPASPVV...</td>\n",
       "      <td>7.0</td>\n",
       "      <td>49.5</td>\n",
       "      <td>[11, 11, 12, 4, 14, 1, 8, 6, 18, 1, 5, 3, 1, 1...</td>\n",
       "      <td>1451</td>\n",
       "    </tr>\n",
       "  </tbody>\n",
       "</table>\n",
       "</div>"
      ],
      "text/plain": [
       "                                         protein_sequence   pH    tm  \\\n",
       "seq_id                                                                 \n",
       "0       RYVERDPWAALCRGEDFDTLAVSVFPREGIYAQLKEQALRVLNVFF...  7.0  75.7   \n",
       "1       SAQAPLDQGWSILSNSAQALETISVRGRQRIFNAVAALEEPTIYIF...  7.0  50.5   \n",
       "2       FMSKIKSIFGGGGGDGQGSGSGGGEKAKTKKNDTWQDKGESEEAGP...  7.0  40.5   \n",
       "3       NKVFSKLDELFTIYEQHELATSLEVLEDAFTNDVGRDALFDMLHDY...  7.0  47.2   \n",
       "4       TTIANLDKMLGELHAMEKTLEDPEYSSESDELMRTTEQVEPASPVV...  7.0  49.5   \n",
       "\n",
       "                                       numerical_sequence  length  \n",
       "seq_id                                                             \n",
       "0       [10, 16, 7, 3, 10, 8, 9, 20, 4, 4, 1, 19, 10, ...     341  \n",
       "1       [2, 4, 13, 4, 9, 1, 8, 13, 5, 20, 2, 12, 1, 2,...     286  \n",
       "2       [15, 18, 2, 6, 12, 6, 2, 12, 15, 5, 5, 5, 5, 5...     497  \n",
       "3       [14, 6, 7, 15, 2, 6, 1, 8, 3, 1, 15, 11, 12, 1...     265  \n",
       "4       [11, 11, 12, 4, 14, 1, 8, 6, 18, 1, 5, 3, 1, 1...    1451  "
      ]
     },
     "execution_count": 18,
     "metadata": {},
     "output_type": "execute_result"
    }
   ],
   "source": [
    "inverted_df.head(5)"
   ]
  },
  {
   "cell_type": "code",
   "execution_count": 19,
   "metadata": {},
   "outputs": [
    {
     "data": {
      "text/html": [
       "<div>\n",
       "<style scoped>\n",
       "    .dataframe tbody tr th:only-of-type {\n",
       "        vertical-align: middle;\n",
       "    }\n",
       "\n",
       "    .dataframe tbody tr th {\n",
       "        vertical-align: top;\n",
       "    }\n",
       "\n",
       "    .dataframe thead th {\n",
       "        text-align: right;\n",
       "    }\n",
       "</style>\n",
       "<table border=\"1\" class=\"dataframe\">\n",
       "  <thead>\n",
       "    <tr style=\"text-align: right;\">\n",
       "      <th></th>\n",
       "      <th>protein_sequence</th>\n",
       "      <th>pH</th>\n",
       "      <th>tm</th>\n",
       "      <th>numerical_sequence</th>\n",
       "      <th>length</th>\n",
       "    </tr>\n",
       "    <tr>\n",
       "      <th>seq_id</th>\n",
       "      <th></th>\n",
       "      <th></th>\n",
       "      <th></th>\n",
       "      <th></th>\n",
       "      <th></th>\n",
       "    </tr>\n",
       "  </thead>\n",
       "  <tbody>\n",
       "    <tr>\n",
       "      <th>0</th>\n",
       "      <td>AAAAKAAALALLGEAPEVVDIWLPAGWRQPFRVFRLERKGDGVLVG...</td>\n",
       "      <td>7.0</td>\n",
       "      <td>75.7</td>\n",
       "      <td>[4, 4, 4, 4, 6, 4, 4, 4, 1, 4, 1, 1, 5, 3, 4, ...</td>\n",
       "      <td>341</td>\n",
       "    </tr>\n",
       "    <tr>\n",
       "      <th>1</th>\n",
       "      <td>AAADGEPLHNEEERAGAGQVGRSLPQESEEQRTGSRPRRRRDLGSR...</td>\n",
       "      <td>7.0</td>\n",
       "      <td>50.5</td>\n",
       "      <td>[4, 4, 4, 8, 5, 3, 9, 1, 17, 14, 3, 3, 3, 10, ...</td>\n",
       "      <td>286</td>\n",
       "    </tr>\n",
       "    <tr>\n",
       "      <th>2</th>\n",
       "      <td>AAAFSTPRATSYRILSSAGSGSTRADAPQVRRLHTTRDLLAKDYYA...</td>\n",
       "      <td>7.0</td>\n",
       "      <td>40.5</td>\n",
       "      <td>[4, 4, 4, 15, 2, 11, 9, 10, 4, 11, 2, 16, 10, ...</td>\n",
       "      <td>497</td>\n",
       "    </tr>\n",
       "    <tr>\n",
       "      <th>3</th>\n",
       "      <td>AAASGLRTAIPAQPLRHLLQPAPRPCLRPFGLLSVRAGSARRSGLL...</td>\n",
       "      <td>7.0</td>\n",
       "      <td>47.2</td>\n",
       "      <td>[4, 4, 4, 2, 5, 1, 10, 11, 4, 12, 9, 4, 13, 9,...</td>\n",
       "      <td>265</td>\n",
       "    </tr>\n",
       "    <tr>\n",
       "      <th>4</th>\n",
       "      <td>AAATKSGPRRQSQGASVRTFTPFYFLVEPVDTLSVRGSSVILNCSA...</td>\n",
       "      <td>7.0</td>\n",
       "      <td>49.5</td>\n",
       "      <td>[4, 4, 4, 11, 6, 2, 5, 9, 10, 10, 13, 2, 13, 5...</td>\n",
       "      <td>1451</td>\n",
       "    </tr>\n",
       "  </tbody>\n",
       "</table>\n",
       "</div>"
      ],
      "text/plain": [
       "                                         protein_sequence   pH    tm  \\\n",
       "seq_id                                                                 \n",
       "0       AAAAKAAALALLGEAPEVVDIWLPAGWRQPFRVFRLERKGDGVLVG...  7.0  75.7   \n",
       "1       AAADGEPLHNEEERAGAGQVGRSLPQESEEQRTGSRPRRRRDLGSR...  7.0  50.5   \n",
       "2       AAAFSTPRATSYRILSSAGSGSTRADAPQVRRLHTTRDLLAKDYYA...  7.0  40.5   \n",
       "3       AAASGLRTAIPAQPLRHLLQPAPRPCLRPFGLLSVRAGSARRSGLL...  7.0  47.2   \n",
       "4       AAATKSGPRRQSQGASVRTFTPFYFLVEPVDTLSVRGSSVILNCSA...  7.0  49.5   \n",
       "\n",
       "                                       numerical_sequence  length  \n",
       "seq_id                                                             \n",
       "0       [4, 4, 4, 4, 6, 4, 4, 4, 1, 4, 1, 1, 5, 3, 4, ...     341  \n",
       "1       [4, 4, 4, 8, 5, 3, 9, 1, 17, 14, 3, 3, 3, 10, ...     286  \n",
       "2       [4, 4, 4, 15, 2, 11, 9, 10, 4, 11, 2, 16, 10, ...     497  \n",
       "3       [4, 4, 4, 2, 5, 1, 10, 11, 4, 12, 9, 4, 13, 9,...     265  \n",
       "4       [4, 4, 4, 11, 6, 2, 5, 9, 10, 10, 13, 2, 13, 5...    1451  "
      ]
     },
     "execution_count": 19,
     "metadata": {},
     "output_type": "execute_result"
    }
   ],
   "source": [
    "train_df.head(5)"
   ]
  },
  {
   "cell_type": "code",
   "execution_count": 20,
   "metadata": {},
   "outputs": [
    {
     "data": {
      "text/plain": [
       "True"
      ]
     },
     "execution_count": 20,
     "metadata": {},
     "output_type": "execute_result"
    }
   ],
   "source": [
    "train_df.loc[0]['protein_sequence'][::-1] == inverted_df.loc[0]['protein_sequence']"
   ]
  },
  {
   "cell_type": "code",
   "execution_count": 21,
   "metadata": {},
   "outputs": [],
   "source": [
    "train_df = pd.concat([train_df,inverted_df],ignore_index=True)"
   ]
  },
  {
   "cell_type": "markdown",
   "metadata": {},
   "source": [
    "## padding with zeros "
   ]
  },
  {
   "cell_type": "code",
   "execution_count": 22,
   "metadata": {},
   "outputs": [],
   "source": [
    "## add 0 to numerical_sequence to make all of them the same length\n",
    "padded_train_df = train_df.copy()\n",
    "padded_train_df['numerical_sequence'] = train_df.apply(lambda row : row['numerical_sequence'] + [0]*(max_length - row['length']),axis=1)"
   ]
  },
  {
   "cell_type": "code",
   "execution_count": null,
   "metadata": {},
   "outputs": [],
   "source": []
  },
  {
   "cell_type": "code",
   "execution_count": 23,
   "metadata": {},
   "outputs": [],
   "source": [
    "padded_train_df.drop(columns=['protein_sequence'],inplace=True)"
   ]
  },
  {
   "cell_type": "code",
   "execution_count": 24,
   "metadata": {},
   "outputs": [],
   "source": [
    "padded_train_df['y'] = padded_train_df['tm']"
   ]
  },
  {
   "cell_type": "code",
   "execution_count": 25,
   "metadata": {},
   "outputs": [],
   "source": [
    "padded_train_df.drop(columns=['tm'],inplace=True)"
   ]
  },
  {
   "cell_type": "code",
   "execution_count": 26,
   "metadata": {},
   "outputs": [],
   "source": [
    "padded_train_df['numerical_sequence'] = padded_train_df.apply(lambda row : np.array(row['numerical_sequence']),axis=1)"
   ]
  },
  {
   "cell_type": "code",
   "execution_count": 45,
   "metadata": {},
   "outputs": [
    {
     "data": {
      "text/plain": [
       "55454"
      ]
     },
     "execution_count": 45,
     "metadata": {},
     "output_type": "execute_result"
    }
   ],
   "source": []
  },
  {
   "cell_type": "markdown",
   "metadata": {},
   "source": [
    "## Create 1d conv net"
   ]
  },
  {
   "cell_type": "markdown",
   "metadata": {},
   "source": [
    "1. get DataLoader from train_dl"
   ]
  },
  {
   "cell_type": "code",
   "execution_count": 27,
   "metadata": {},
   "outputs": [],
   "source": [
    "import torch"
   ]
  },
  {
   "cell_type": "code",
   "execution_count": 28,
   "metadata": {},
   "outputs": [],
   "source": [
    "from torch.utils.data import Dataset\n",
    "\n",
    "class MyDataset(Dataset):\n",
    " \n",
    "  def __init__(self,df):\n",
    "    \n",
    "    sequence= df.iloc[:]['numerical_sequence']\n",
    "    numerical = df.iloc[:,[0,2]].values\n",
    "    y=df.iloc[:,3].values\n",
    "    print(sequence)\n",
    "    self.x_sequence=torch.tensor(sequence)\n",
    "    self.y=torch.tensor(y,dtype=torch.float32)\n",
    "    self.num=torch.tensor(numerical,dtype=torch.float32)\n",
    " \n",
    "  def __len__(self):\n",
    "    return len(self.y)\n",
    "   \n",
    "  def __getitem__(self,idx):\n",
    "    return self.x_sequence[idx],self.y[idx] , self.num[idx]\n"
   ]
  },
  {
   "cell_type": "code",
   "execution_count": 29,
   "metadata": {},
   "outputs": [
    {
     "name": "stdout",
     "output_type": "stream",
     "text": [
      "0        [4, 4, 4, 4, 6, 4, 4, 4, 1, 4, 1, 1, 5, 3, 4, ...\n",
      "1        [4, 4, 4, 8, 5, 3, 9, 1, 17, 14, 3, 3, 3, 10, ...\n",
      "2        [4, 4, 4, 15, 2, 11, 9, 10, 4, 11, 2, 16, 10, ...\n",
      "3        [4, 4, 4, 2, 5, 1, 10, 11, 4, 12, 9, 4, 13, 9,...\n",
      "4        [4, 4, 4, 11, 6, 2, 5, 9, 10, 10, 13, 2, 13, 5...\n",
      "                               ...                        \n",
      "55449    [13, 1, 14, 1, 2, 15, 6, 20, 13, 13, 2, 1, 4, ...\n",
      "55450    [17, 11, 9, 10, 14, 1, 10, 16, 15, 13, 2, 16, ...\n",
      "55451    [11, 9, 13, 13, 6, 7, 7, 14, 12, 18, 20, 9, 7,...\n",
      "55452    [4, 4, 9, 6, 5, 8, 6, 10, 9, 8, 2, 7, 4, 11, 1...\n",
      "55453    [15, 1, 14, 3, 14, 3, 14, 4, 1, 7, 1, 8, 3, 1,...\n",
      "Name: numerical_sequence, Length: 55454, dtype: object\n"
     ]
    },
    {
     "name": "stderr",
     "output_type": "stream",
     "text": [
      "/var/folders/xl/7xxnqhrj2l7f4ypwccgd0rnm0000gn/T/ipykernel_18666/3268918604.py:11: UserWarning: Creating a tensor from a list of numpy.ndarrays is extremely slow. Please consider converting the list to a single numpy.ndarray with numpy.array() before converting to a tensor. (Triggered internally at /Users/runner/work/_temp/anaconda/conda-bld/pytorch_1666646981653/work/torch/csrc/utils/tensor_new.cpp:233.)\n",
      "  self.x_sequence=torch.tensor(sequence)\n"
     ]
    }
   ],
   "source": [
    "df = MyDataset(padded_train_df)\n",
    "train_dl = torch.utils.data.DataLoader(df, batch_size=32, shuffle=True)"
   ]
  },
  {
   "cell_type": "code",
   "execution_count": 32,
   "metadata": {},
   "outputs": [],
   "source": [
    "import matplotlib\n",
    "import matplotlib.pyplot as plt"
   ]
  },
  {
   "cell_type": "code",
   "execution_count": 33,
   "metadata": {},
   "outputs": [],
   "source": [
    "import torch.nn as nn\n",
    "\n",
    "get_mlp = lambda image_size: torch.nn.Sequential(\n",
    "    torch.nn.Flatten(),\n",
    "    torch.nn.Linear(image_size * image_size, 256),\n",
    "    torch.nn.ReLU(),\n",
    "    torch.nn.Linear(256, 256),\n",
    "    torch.nn.ReLU(),\n",
    "    torch.nn.Linear(256, 256),\n",
    "    torch.nn.ReLU(),\n",
    "    torch.nn.Linear(256, 256),\n",
    "    torch.nn.ReLU(),\n",
    "    torch.nn.Linear(256, 10),\n",
    "    )\n",
    "\n",
    "get_cnn = lambda image_size: torch.nn.Sequential(\n",
    "    torch.nn.Conv2d(in_channels=1, out_channels=32, kernel_size=5, stride=1, padding=2),\n",
    "    torch.nn.ReLU(),\n",
    "    torch.nn.Conv2d(32, 64, 5, stride=2, padding=2),\n",
    "    torch.nn.ReLU(),\n",
    "    torch.nn.Conv2d(64, 64, 5, stride=1, padding=2),\n",
    "    torch.nn.ReLU(),\n",
    "    torch.nn.Conv2d(64, 128, 5, stride=2, padding=2),\n",
    "    torch.nn.ReLU(),\n",
    "    torch.nn.AdaptiveAvgPool2d(1),\n",
    "    torch.nn.Conv2d(128, 10, 1),\n",
    "    torch.nn.Flatten(),\n",
    "    )\n",
    "\n",
    "\n",
    "\n",
    "    \n",
    "protein_sequence = lambda length: nn.Sequential(\n",
    "    nn.Conv1d(length, 64,kernel_size=8, stride=1),\n",
    "    nn.ReLU(),\n",
    "    nn.MaxPool1d(2),\n",
    "    nn.Dropout(),\n",
    "\n",
    "    nn.Conv1d(32, 64,kernel_size=5, stride=1), #Taille de output de pooling est donné par cette formule : (64 + 2*0 - 1* (2-1) - 1)/2 + 1 (=32 ici)\n",
    "    #La notre dernier array qu'on utilise avec le linear sera 32 : ca va ou il faut plus petit ?\n",
    "    nn.ReLU(),\n",
    "    nn.MaxPool1d(2), \n",
    "    nn.Dropout(),\n",
    "\n",
    "    )\n",
    "\n",
    "prot_seq_one_pooling= lambda length:nn.Sequential(\n",
    "\n",
    "    #With pooling only at the end (seen in paper)\n",
    "\n",
    "    nn.Conv1d(length, 64,kernel_size=8, stride=1),\n",
    "    nn.ReLU(),\n",
    "    nn.Dropout(),\n",
    "    nn.Conv1d(64, 64, 5, stride=1, padding=2), \n",
    "    nn.ReLU(), \n",
    "    nn.Dropout(),\n",
    "    nn.Conv1d(64, 64, 5, stride=1, padding=2), \n",
    "    nn.ReLU(), \n",
    "    nn.Dropout(),\n",
    "    nn.Conv1d(64, 64, 5, stride=1, padding=2), \n",
    "    nn.ReLU(), \n",
    "    nn.Dropout(),\n",
    "    nn.Conv1d(64, 64, 5, stride=1, padding=2), \n",
    "    nn.ReLU(), \n",
    "    nn.Dropout(),\n",
    "    nn.Conv1d(64, 64, 5, stride=1, padding=1), \n",
    "    nn.ReLU(), \n",
    "    nn.Dropout(),\n",
    "    nn.AdaptiveAvgPool1d(32), #argument = output size \n",
    "    nn.Conv1d(32, 32, 5, stride=1, padding=1), \n",
    "    nn.ReLU(), \n",
    "    nn.Dropout(),\n",
    "\n",
    "\n",
    "    )\n",
    "numerical= lambda length:nn.Sequential(\n",
    "    nn.Linear(2, 64),\n",
    "    nn.ReLU(),\n",
    "    nn.Dropout(),\n",
    "    nn.Linear(64, 64),\n",
    "    nn.ReLU(),\n",
    "    )\n",
    "mlp = lambda length:nn.Sequential(\n",
    "    nn.Linear(96, 64),#input devrait être 32 + 64 plutôt non si on utilise MaxPoolId(2)? (était marqué 128 en input avant) Comme on fait le pooling\n",
    "    nn.ReLU(),\n",
    "    nn.Dropout(),\n",
    "    nn.Linear(64, 1),\n",
    "    )\n",
    "\n",
    "def forward(self, x,y):\n",
    "    x = self.protein_sequence(x)\n",
    "    y = self.numerical(y)\n",
    "    x = torch.cat((x, y), 1)\n",
    "    x = self.mlp(x)\n",
    "    return x"
   ]
  },
  {
   "cell_type": "code",
   "execution_count": 34,
   "metadata": {},
   "outputs": [],
   "source": [
    "def train_epoch(model, optimizer, scheduler, criterion, train_loader, epoch, device):\n",
    "    ### SOLUTION\n",
    "    model.train()\n",
    "    loss_history = []\n",
    "    accuracy_history = []\n",
    "    lr_history = []\n",
    "    for batch_idx, (data, target) in enumerate(train_loader):\n",
    "        data, target = data.to(device), target.to(device)\n",
    "        optimizer.zero_grad()\n",
    "        output = model(data)\n",
    "        loss = criterion(output, target)\n",
    "        loss.backward()\n",
    "        optimizer.step()\n",
    "        scheduler.step()\n",
    "\n",
    "        pred = output.argmax(dim=1, keepdim=True)\n",
    "        correct = pred.eq(target.view_as(pred)).sum().item()\n",
    "        loss_float = loss.item()\n",
    "        accuracy_float = correct / len(data)\n",
    "\n",
    "        loss_history.append(loss_float)\n",
    "        accuracy_history.append(accuracy_float)\n",
    "        lr_history.append(scheduler.get_last_lr()[0])\n",
    "        if batch_idx % (len(train_loader.dataset) // len(data) // 10) == 0:\n",
    "            print(\n",
    "                f\"Train Epoch: {epoch}-{batch_idx:03d} \"\n",
    "                f\"batch_loss={loss_float:0.2e} \"\n",
    "                f\"batch_acc={accuracy_float:0.3f} \"\n",
    "                f\"lr={scheduler.get_last_lr()[0]:0.3e} \"\n",
    "            )\n",
    "\n",
    "\n",
    "    return loss_history, accuracy_history, lr_history"
   ]
  },
  {
   "cell_type": "code",
   "execution_count": 35,
   "metadata": {},
   "outputs": [],
   "source": [
    "@torch.no_grad()\n",
    "def validate(model, device, val_loader, criterion):\n",
    "    model.eval()  # Important: eval mode (affects dropout, batch norm etc)\n",
    "    test_loss = 0\n",
    "    correct = 0\n",
    "    for data, target in val_loader:\n",
    "        data, target = data.to(device), target.to(device)\n",
    "        output = model(data)\n",
    "        test_loss += criterion(output, target).item() * len(data)\n",
    "        pred = output.argmax(\n",
    "            dim=1, keepdim=True\n",
    "        )  # get the index of the max log-probability\n",
    "        correct += pred.eq(target.view_as(pred)).sum().item()\n",
    "\n",
    "    test_loss /= len(val_loader.dataset)\n",
    "\n",
    "    print(\n",
    "        \"Test set: Average loss: {:.4f}, Accuracy: {}/{} ({:.0f}%)\".format(\n",
    "            test_loss,\n",
    "            correct,\n",
    "            len(val_loader.dataset),\n",
    "            100.0 * correct / len(val_loader.dataset),\n",
    "        )\n",
    "    )\n",
    "    return test_loss, correct / len(val_loader.dataset)"
   ]
  },
  {
   "cell_type": "code",
   "execution_count": 36,
   "metadata": {},
   "outputs": [],
   "source": [
    "@torch.no_grad()\n",
    "def get_predictions(model, device, val_loader, criterion, num=None):\n",
    "    model.eval()\n",
    "    points = []\n",
    "    for data, target in val_loader:\n",
    "        data, target = data.to(device), target.to(device)\n",
    "        output = model(data)\n",
    "        loss = criterion(output, target)\n",
    "        pred = output.argmax(dim=1, keepdim=True)\n",
    "\n",
    "        data = np.split(data.cpu().numpy(), len(data))\n",
    "        loss = np.split(loss.cpu().numpy(), len(data))\n",
    "        pred = np.split(pred.cpu().numpy(), len(data))\n",
    "        target = np.split(target.cpu().numpy(), len(data))\n",
    "        points.extend(zip(data, loss, pred, target))\n",
    "\n",
    "        if num is not None and len(points) > num:\n",
    "            break\n",
    "\n",
    "    return points"
   ]
  },
  {
   "cell_type": "code",
   "execution_count": 52,
   "metadata": {},
   "outputs": [],
   "source": [
    "\n",
    "def run_training(\n",
    "    model_factory,\n",
    "    num_epochs,\n",
    "    optimizer_kwargs,\n",
    "    train_loader, \n",
    "    val_loader,\n",
    "    device=\"cuda\",\n",
    "    \n",
    "):\n",
    "    \n",
    "\n",
    "    # ===== Model, Optimizer and Criterion =====\n",
    "    model = model_factory()\n",
    "    model = model.to(device=device)\n",
    "    optimizer = torch.optim.AdamW(model.parameters(), **optimizer_kwargs)\n",
    "    criterion = torch.nn.functional.cross_entropy\n",
    "    scheduler = torch.optim.lr_scheduler.CosineAnnealingLR(\n",
    "        optimizer,\n",
    "        T_max=(len(train_loader.dataset) * num_epochs) // train_loader.batch_size,\n",
    "    )\n",
    "\n",
    "    # ===== Train Model =====\n",
    "    lr_history = []\n",
    "    train_loss_history = []\n",
    "    train_acc_history = []\n",
    "    val_loss_history = []\n",
    "    val_acc_history = []\n",
    "    for epoch in range(1, num_epochs + 1):\n",
    "        train_loss, train_acc, lrs = train_epoch(\n",
    "            model, optimizer, scheduler, criterion, train_loader, epoch, device\n",
    "        )\n",
    "        train_loss_history.extend(train_loss)\n",
    "        train_acc_history.extend(train_acc)\n",
    "        lr_history.extend(lrs)\n",
    "\n",
    "        val_loss, val_acc = validate(model, device, val_loader, criterion)\n",
    "        val_loss_history.append(val_loss)\n",
    "        val_acc_history.append(val_acc)\n",
    "\n",
    "    # ===== Plot training curves =====\n",
    "    n_train = len(train_acc_history)\n",
    "    t_train = num_epochs * np.arange(n_train) / n_train\n",
    "    t_val = np.arange(1, num_epochs + 1)\n",
    "\n",
    "    plt.figure(figsize=(6.4 * 3, 4.8))\n",
    "    plt.subplot(1, 3, 1)\n",
    "    plt.plot(t_train, train_acc_history, label=\"Train\")\n",
    "    plt.plot(t_val, val_acc_history, label=\"Val\")\n",
    "    plt.legend()\n",
    "    plt.xlabel(\"Epoch\")\n",
    "    plt.ylabel(\"Accuracy\")\n",
    "\n",
    "    plt.subplot(1, 3, 2)\n",
    "    plt.plot(t_train, train_loss_history, label=\"Train\")\n",
    "    plt.plot(t_val, val_loss_history, label=\"Val\")\n",
    "    plt.legend()\n",
    "    plt.xlabel(\"Epoch\")\n",
    "    plt.ylabel(\"Loss\")\n",
    "\n",
    "    plt.subplot(1, 3, 3)\n",
    "    plt.plot(t_train, lr_history)\n",
    "    plt.xlabel(\"Epoch\")\n",
    "    plt.ylabel(\"Learning Rate\")\n",
    "\n",
    "    # ===== Plot low/high loss predictions on validation set =====\n",
    "    points = get_predictions(\n",
    "        model,\n",
    "        device,\n",
    "        val_loader,\n",
    "        partial(torch.nn.functional.cross_entropy, reduction=\"none\"),\n",
    "    )\n",
    "    points.sort(key=lambda x: x[1])\n",
    "    plt.figure(figsize=(15, 6))\n",
    "    for k in range(5):\n",
    "        plt.subplot(2, 5, k + 1)\n",
    "        plt.imshow(points[k][0][0, 0], cmap=\"gray\")\n",
    "        plt.title(f\"true={int(points[k][3])} pred={int(points[k][2])}\")\n",
    "        plt.subplot(2, 5, 5 + k + 1)\n",
    "        plt.imshow(points[-k - 1][0][0, 0], cmap=\"gray\")\n",
    "        plt.title(f\"true={int(points[-k-1][3])} pred={int(points[-k-1][2])}\")\n",
    "\n",
    "    return sum(train_acc) / len(train_acc), val_acc"
   ]
  },
  {
   "cell_type": "code",
   "execution_count": 47,
   "metadata": {},
   "outputs": [
    {
     "name": "stdout",
     "output_type": "stream",
     "text": [
      "1733\n"
     ]
    }
   ],
   "source": [
    "#Pourquoi train_dl est si court ? padded_train est bien 55454... A VOIR\n",
    "print(len(train_dl))\n",
    "\n",
    "train_x_serie, val_x_serie= torch.utils.data.random_split(train_dl,[1387, 346])"
   ]
  },
  {
   "cell_type": "code",
   "execution_count": 61,
   "metadata": {},
   "outputs": [],
   "source": [
    "length = max_length\n",
    "model_factory = lambda: get_mlp(length)\n",
    "num_epochs = 5\n",
    "device = torch.device(\"cuda\" if torch.cuda.is_available() else \"cpu\")\n",
    "\n",
    "optimizer_kwargs = dict(\n",
    "    lr=1e-3,\n",
    "    weight_decay=1e-2\n",
    ")\n",
    "\n",
    "run_training(\n",
    "    model_factory=model_factory,\n",
    "    num_epochs=num_epochs,\n",
    "    optimizer_kwargs=optimizer_kwargs,\n",
    "    train_loader = train_x_serie, \n",
    "    val_loader = val_x_serie,\n",
    "    device = device\n",
    "    )   "
   ]
  }
 ],
 "metadata": {
  "kernelspec": {
   "display_name": "Python 3.9.13 ('base')",
   "language": "python",
   "name": "python3"
  },
  "language_info": {
   "codemirror_mode": {
    "name": "ipython",
    "version": 3
   },
   "file_extension": ".py",
   "mimetype": "text/x-python",
   "name": "python",
   "nbconvert_exporter": "python",
   "pygments_lexer": "ipython3",
   "version": "3.9.13"
  },
  "orig_nbformat": 4,
  "vscode": {
   "interpreter": {
    "hash": "3d597f4c481aa0f25dceb95d2a0067e73c0966dcbd003d741d821a7208527ecf"
   }
  }
 },
 "nbformat": 4,
 "nbformat_minor": 2
}
