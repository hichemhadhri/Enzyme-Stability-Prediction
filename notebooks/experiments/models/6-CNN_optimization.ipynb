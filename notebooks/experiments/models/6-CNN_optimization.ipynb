{
 "cells": [
  {
   "cell_type": "markdown",
   "metadata": {},
   "source": [
    "This notebook aims to optimize the parameters of our CNN + MLP models"
   ]
  },
  {
   "cell_type": "code",
   "execution_count": 1,
   "metadata": {},
   "outputs": [],
   "source": [
    "import pandas as pd\n",
    "import numpy as np \n",
    "import matplotlib.pyplot as plt\n",
    "import torch \n",
    "from torch.utils.data import Dataset\n",
    "import torch.nn as nn\n",
    "from torch.nn import Linear, ReLU, CrossEntropyLoss, Sequential, Conv2d, MaxPool2d, Module, Softmax, BatchNorm2d, Dropout\n",
    "from torch.optim import Adam\n",
    "\n",
    "from scipy.stats import spearmanr\n",
    "\n",
    "from sklearn.metrics import mean_squared_error\n",
    "from sklearn import metrics\n",
    "\n",
    "import os\n",
    "from collections import Counter\n",
    "import optuna\n",
    "import torch.optim as optim\n",
    "import torch.nn.functional as F\n",
    "from helpers import *"
   ]
  },
  {
   "cell_type": "markdown",
   "metadata": {},
   "source": [
    "1. Load the dataset "
   ]
  },
  {
   "cell_type": "code",
   "execution_count": 2,
   "metadata": {},
   "outputs": [
    {
     "data": {
      "text/html": [
       "<div>\n",
       "<style scoped>\n",
       "    .dataframe tbody tr th:only-of-type {\n",
       "        vertical-align: middle;\n",
       "    }\n",
       "\n",
       "    .dataframe tbody tr th {\n",
       "        vertical-align: top;\n",
       "    }\n",
       "\n",
       "    .dataframe thead th {\n",
       "        text-align: right;\n",
       "    }\n",
       "</style>\n",
       "<table border=\"1\" class=\"dataframe\">\n",
       "  <thead>\n",
       "    <tr style=\"text-align: right;\">\n",
       "      <th></th>\n",
       "      <th>protein_sequence</th>\n",
       "      <th>pH</th>\n",
       "      <th>tm</th>\n",
       "    </tr>\n",
       "    <tr>\n",
       "      <th>seq_id</th>\n",
       "      <th></th>\n",
       "      <th></th>\n",
       "      <th></th>\n",
       "    </tr>\n",
       "  </thead>\n",
       "  <tbody>\n",
       "    <tr>\n",
       "      <th>0</th>\n",
       "      <td>AAAAKAAALALLGEAPEVVDIWLPAGWRQPFRVFRLERKGDGVLVG...</td>\n",
       "      <td>7.0</td>\n",
       "      <td>75.7</td>\n",
       "    </tr>\n",
       "    <tr>\n",
       "      <th>1</th>\n",
       "      <td>AAADGEPLHNEEERAGAGQVGRSLPQESEEQRTGSRPRRRRDLGSR...</td>\n",
       "      <td>7.0</td>\n",
       "      <td>50.5</td>\n",
       "    </tr>\n",
       "    <tr>\n",
       "      <th>2</th>\n",
       "      <td>AAAFSTPRATSYRILSSAGSGSTRADAPQVRRLHTTRDLLAKDYYA...</td>\n",
       "      <td>7.0</td>\n",
       "      <td>40.5</td>\n",
       "    </tr>\n",
       "    <tr>\n",
       "      <th>3</th>\n",
       "      <td>AAASGLRTAIPAQPLRHLLQPAPRPCLRPFGLLSVRAGSARRSGLL...</td>\n",
       "      <td>7.0</td>\n",
       "      <td>47.2</td>\n",
       "    </tr>\n",
       "    <tr>\n",
       "      <th>4</th>\n",
       "      <td>AAATKSGPRRQSQGASVRTFTPFYFLVEPVDTLSVRGSSVILNCSA...</td>\n",
       "      <td>7.0</td>\n",
       "      <td>49.5</td>\n",
       "    </tr>\n",
       "  </tbody>\n",
       "</table>\n",
       "</div>"
      ],
      "text/plain": [
       "                                         protein_sequence   pH    tm\n",
       "seq_id                                                              \n",
       "0       AAAAKAAALALLGEAPEVVDIWLPAGWRQPFRVFRLERKGDGVLVG...  7.0  75.7\n",
       "1       AAADGEPLHNEEERAGAGQVGRSLPQESEEQRTGSRPRRRRDLGSR...  7.0  50.5\n",
       "2       AAAFSTPRATSYRILSSAGSGSTRADAPQVRRLHTTRDLLAKDYYA...  7.0  40.5\n",
       "3       AAASGLRTAIPAQPLRHLLQPAPRPCLRPFGLLSVRAGSARRSGLL...  7.0  47.2\n",
       "4       AAATKSGPRRQSQGASVRTFTPFYFLVEPVDTLSVRGSSVILNCSA...  7.0  49.5"
      ]
     },
     "execution_count": 2,
     "metadata": {},
     "output_type": "execute_result"
    }
   ],
   "source": [
    "#load training data (will be put in a function later)  \n",
    "path = os.getcwd()\n",
    "for i in range(3) :\n",
    "\n",
    "    path = os.path.dirname(path)\n",
    "\n",
    "path += '/data/'\n",
    "train_df = pd.read_csv(path + 'train_v1.csv',index_col=\"seq_id\")\n",
    "train_df = train_df.drop(columns=['data_source'])\n",
    "train_df = train_df.dropna()\n",
    "train_df.head()"
   ]
  },
  {
   "cell_type": "code",
   "execution_count": 3,
   "metadata": {},
   "outputs": [],
   "source": [
    "test_df = pd.read_csv(path+ 'test.csv',index_col='seq_id')\n",
    "test_df = test_df.drop(columns=['data_source'])\n",
    "test_df['length'] = test_df['protein_sequence'].str.len()"
   ]
  },
  {
   "cell_type": "markdown",
   "metadata": {},
   "source": [
    "2. Translate Amino-acids to numbers and create a One-Channel array for each sequence"
   ]
  },
  {
   "cell_type": "code",
   "execution_count": 4,
   "metadata": {},
   "outputs": [],
   "source": [
    "#add a new column that contains the length of each protein sequence (before padding)\n",
    "train_df['length'] = train_df['protein_sequence'].str.len()"
   ]
  },
  {
   "cell_type": "code",
   "execution_count": 5,
   "metadata": {},
   "outputs": [],
   "source": [
    "# fix max_length to be 500\n",
    "max_length = 500\n",
    "\n",
    "#drop rows that exceeds this value\n",
    "\n",
    "train_df = train_df[train_df['length'] < max_length]"
   ]
  },
  {
   "cell_type": "code",
   "execution_count": 6,
   "metadata": {},
   "outputs": [
    {
     "data": {
      "text/plain": [
       "20510"
      ]
     },
     "execution_count": 6,
     "metadata": {},
     "output_type": "execute_result"
    }
   ],
   "source": [
    "len(train_df)"
   ]
  },
  {
   "cell_type": "code",
   "execution_count": 7,
   "metadata": {},
   "outputs": [],
   "source": [
    "# new column with encoded sequence (apply for each sequence)\n",
    "train_df['encoded_sequence'] = train_df['protein_sequence'].apply(lambda x: encode_seq(x, max_length))\n",
    "test_df['encoded_sequence'] = test_df['protein_sequence'].apply(lambda x: encode_seq(x, max_length))"
   ]
  },
  {
   "cell_type": "code",
   "execution_count": 8,
   "metadata": {},
   "outputs": [
    {
     "data": {
      "text/html": [
       "<div>\n",
       "<style scoped>\n",
       "    .dataframe tbody tr th:only-of-type {\n",
       "        vertical-align: middle;\n",
       "    }\n",
       "\n",
       "    .dataframe tbody tr th {\n",
       "        vertical-align: top;\n",
       "    }\n",
       "\n",
       "    .dataframe thead th {\n",
       "        text-align: right;\n",
       "    }\n",
       "</style>\n",
       "<table border=\"1\" class=\"dataframe\">\n",
       "  <thead>\n",
       "    <tr style=\"text-align: right;\">\n",
       "      <th></th>\n",
       "      <th>protein_sequence</th>\n",
       "      <th>pH</th>\n",
       "      <th>tm</th>\n",
       "      <th>length</th>\n",
       "      <th>encoded_sequence</th>\n",
       "    </tr>\n",
       "    <tr>\n",
       "      <th>seq_id</th>\n",
       "      <th></th>\n",
       "      <th></th>\n",
       "      <th></th>\n",
       "      <th></th>\n",
       "      <th></th>\n",
       "    </tr>\n",
       "  </thead>\n",
       "  <tbody>\n",
       "    <tr>\n",
       "      <th>0</th>\n",
       "      <td>AAAAKAAALALLGEAPEVVDIWLPAGWRQPFRVFRLERKGDGVLVG...</td>\n",
       "      <td>7.0</td>\n",
       "      <td>75.7</td>\n",
       "      <td>341</td>\n",
       "      <td>[[1.0, 1.0, 1.0, 1.0, 0.0, 1.0, 1.0, 1.0, 0.0,...</td>\n",
       "    </tr>\n",
       "    <tr>\n",
       "      <th>1</th>\n",
       "      <td>AAADGEPLHNEEERAGAGQVGRSLPQESEEQRTGSRPRRRRDLGSR...</td>\n",
       "      <td>7.0</td>\n",
       "      <td>50.5</td>\n",
       "      <td>286</td>\n",
       "      <td>[[1.0, 1.0, 1.0, 0.0, 0.0, 0.0, 0.0, 0.0, 0.0,...</td>\n",
       "    </tr>\n",
       "    <tr>\n",
       "      <th>2</th>\n",
       "      <td>AAAFSTPRATSYRILSSAGSGSTRADAPQVRRLHTTRDLLAKDYYA...</td>\n",
       "      <td>7.0</td>\n",
       "      <td>40.5</td>\n",
       "      <td>497</td>\n",
       "      <td>[[1.0, 1.0, 1.0, 0.0, 0.0, 0.0, 0.0, 0.0, 1.0,...</td>\n",
       "    </tr>\n",
       "    <tr>\n",
       "      <th>3</th>\n",
       "      <td>AAASGLRTAIPAQPLRHLLQPAPRPCLRPFGLLSVRAGSARRSGLL...</td>\n",
       "      <td>7.0</td>\n",
       "      <td>47.2</td>\n",
       "      <td>265</td>\n",
       "      <td>[[1.0, 1.0, 1.0, 0.0, 0.0, 0.0, 0.0, 0.0, 1.0,...</td>\n",
       "    </tr>\n",
       "    <tr>\n",
       "      <th>5</th>\n",
       "      <td>AACFWRRTVIPKPPFRGISTTSARSTVMPAWVIDKYGKNEVLRFTQ...</td>\n",
       "      <td>7.0</td>\n",
       "      <td>48.4</td>\n",
       "      <td>380</td>\n",
       "      <td>[[1.0, 1.0, 0.0, 0.0, 0.0, 0.0, 0.0, 0.0, 0.0,...</td>\n",
       "    </tr>\n",
       "  </tbody>\n",
       "</table>\n",
       "</div>"
      ],
      "text/plain": [
       "                                         protein_sequence   pH    tm  length  \\\n",
       "seq_id                                                                         \n",
       "0       AAAAKAAALALLGEAPEVVDIWLPAGWRQPFRVFRLERKGDGVLVG...  7.0  75.7     341   \n",
       "1       AAADGEPLHNEEERAGAGQVGRSLPQESEEQRTGSRPRRRRDLGSR...  7.0  50.5     286   \n",
       "2       AAAFSTPRATSYRILSSAGSGSTRADAPQVRRLHTTRDLLAKDYYA...  7.0  40.5     497   \n",
       "3       AAASGLRTAIPAQPLRHLLQPAPRPCLRPFGLLSVRAGSARRSGLL...  7.0  47.2     265   \n",
       "5       AACFWRRTVIPKPPFRGISTTSARSTVMPAWVIDKYGKNEVLRFTQ...  7.0  48.4     380   \n",
       "\n",
       "                                         encoded_sequence  \n",
       "seq_id                                                     \n",
       "0       [[1.0, 1.0, 1.0, 1.0, 0.0, 1.0, 1.0, 1.0, 0.0,...  \n",
       "1       [[1.0, 1.0, 1.0, 0.0, 0.0, 0.0, 0.0, 0.0, 0.0,...  \n",
       "2       [[1.0, 1.0, 1.0, 0.0, 0.0, 0.0, 0.0, 0.0, 1.0,...  \n",
       "3       [[1.0, 1.0, 1.0, 0.0, 0.0, 0.0, 0.0, 0.0, 1.0,...  \n",
       "5       [[1.0, 1.0, 0.0, 0.0, 0.0, 0.0, 0.0, 0.0, 0.0,...  "
      ]
     },
     "execution_count": 8,
     "metadata": {},
     "output_type": "execute_result"
    }
   ],
   "source": [
    "#final dataframe \n",
    "train_df.head()"
   ]
  },
  {
   "cell_type": "code",
   "execution_count": 9,
   "metadata": {},
   "outputs": [],
   "source": [
    "df = train_df.copy()"
   ]
  },
  {
   "cell_type": "code",
   "execution_count": 10,
   "metadata": {},
   "outputs": [],
   "source": [
    "df = df.reset_index(drop=True)"
   ]
  },
  {
   "cell_type": "code",
   "execution_count": 11,
   "metadata": {},
   "outputs": [],
   "source": [
    "test_df = test_df.reset_index(drop=True)"
   ]
  },
  {
   "cell_type": "markdown",
   "metadata": {},
   "source": [
    "3. Split to train and validation sets"
   ]
  },
  {
   "cell_type": "code",
   "execution_count": 12,
   "metadata": {},
   "outputs": [
    {
     "name": "stdout",
     "output_type": "stream",
     "text": [
      "train_df has shape : (16408, 5) \n",
      " test_df has shape :  (4102, 5)\n"
     ]
    }
   ],
   "source": [
    "#split padded_train_df into train and validation sets (will be put in a function later)\n",
    "train_df , val_df = split_train_test(df,frac=0.8)\n"
   ]
  },
  {
   "cell_type": "markdown",
   "metadata": {},
   "source": [
    "4. Create the CNN +MLP model"
   ]
  },
  {
   "cell_type": "code",
   "execution_count": 13,
   "metadata": {},
   "outputs": [],
   "source": [
    "class EnzymesDataset(Dataset):\n",
    " \n",
    "    def __init__(self,df,train=True):\n",
    "    \n",
    "        # the Amino acid sequences as an int array\n",
    "        sequence= df['encoded_sequence']\n",
    "        # numerical : pH and length\n",
    "        numerical = df[['pH','length']].values\n",
    "\n",
    "        # y : the target (tm)\n",
    "        if train == True : \n",
    "            y=df['tm'].values\n",
    "        else : \n",
    "            y = np.zeros(len(sequence))\n",
    "        self.y=torch.tensor(y,dtype=torch.float32)\n",
    "        #creta tensors from the numpy arrays\n",
    "        self.x_sequence=torch.tensor(sequence)\n",
    "       \n",
    "        self.num=torch.tensor(numerical,dtype=torch.float32)\n",
    "   \n",
    " \n",
    "    def __len__(self):\n",
    "        return len(self.y)\n",
    "   \n",
    "    def __getitem__(self,idx):\n",
    "        return self.x_sequence[idx],self.y[idx] , self.num[idx]\n"
   ]
  },
  {
   "cell_type": "code",
   "execution_count": 14,
   "metadata": {},
   "outputs": [],
   "source": [
    "# hyperparameters\n",
    "batch_size = 64\n",
    "learning_rate = 0.001 # Suggested for Adam\n",
    "num_epochs = 100\n"
   ]
  },
  {
   "cell_type": "code",
   "execution_count": 15,
   "metadata": {},
   "outputs": [
    {
     "name": "stderr",
     "output_type": "stream",
     "text": [
      "/tmp/ipykernel_1411985/545355855.py:17: UserWarning: Creating a tensor from a list of numpy.ndarrays is extremely slow. Please consider converting the list to a single numpy.ndarray with numpy.array() before converting to a tensor. (Triggered internally at ../torch/csrc/utils/tensor_new.cpp:230.)\n",
      "  self.x_sequence=torch.tensor(sequence)\n"
     ]
    }
   ],
   "source": [
    "# create pytorch dataframes\n",
    "train_d = EnzymesDataset(train_df)\n",
    "val_d = EnzymesDataset(val_df)\n",
    "\n",
    "\n",
    "# create pytorch dataloaders\n",
    "train_dl = torch.utils.data.DataLoader(train_d, batch_size=batch_size, shuffle=True)\n",
    "val_dl = torch.utils.data.DataLoader(val_d, batch_size=batch_size, shuffle=True)"
   ]
  },
  {
   "cell_type": "code",
   "execution_count": 16,
   "metadata": {},
   "outputs": [],
   "source": [
    "class Conv1D_OneChannel(nn.Module):\n",
    "\n",
    "    def __init__(self, trial, n_filters, size_pooling, drop_f, nb_num, n_linear):\n",
    "        super().__init__()\n",
    "       \n",
    "        self.prot_seq_one_pooling = nn.Sequential(\n",
    "\n",
    "\n",
    "            nn.Conv1d(20, n_filters[0],kernel_size=3, stride=1, padding=1),\n",
    "            nn.ReLU(),\n",
    "            \n",
    "\n",
    "            nn.Conv1d(n_filters[0], n_filters[1],kernel_size=3, stride=1, padding=1), \n",
    "            nn.ReLU(), \n",
    "            \n",
    "            nn.Conv1d(n_filters[1], n_filters[2],kernel_size=3, stride=1, padding=1), \n",
    "            nn.ReLU(), \n",
    "            \n",
    "            nn.Conv1d(n_filters[2], n_filters[3],kernel_size=3, stride=1, padding=1), \n",
    "            nn.ReLU(), \n",
    "         \n",
    "            torch.nn.MaxPool1d(3), \n",
    "            \n",
    "            torch.nn.Flatten(),\n",
    "            torch.nn.Dropout2d(p=0.5, inplace=False),\n",
    "            nn.AdaptiveAvgPool1d(128),\n",
    "\n",
    "        )\n",
    "        \n",
    "        self.numerical = nn.Sequential(\n",
    "            nn.Linear(2, nb_num),\n",
    "            nn.ReLU(),\n",
    "            nn.Dropout(),\n",
    "            nn.Linear(nb_num, 2),\n",
    "            nn.ReLU(),\n",
    "            \n",
    "        )\n",
    "        self.mlp = nn.Sequential(\n",
    "            nn.Linear(130, n_linear[0]),#input devrait être 32 + 64 plutôt non si on utilise MaxPoolId(2)? (était marqué 128 en input avant) Comme on fait le pooling\n",
    "            nn.ReLU(),\n",
    " \n",
    "            nn.Linear(n_linear[0], n_linear[1]),\n",
    "            nn.ReLU(),\n",
    "            nn.Linear(n_linear[1], n_linear[2]),\n",
    "            nn.ReLU(),\n",
    "            nn.Linear(n_linear[2], 1),\n",
    "            \n",
    "        )\n",
    "\n",
    "    def forward(self, x,y):\n",
    "        \n",
    "        x = self.prot_seq_one_pooling(x.float())\n",
    "       \n",
    "        y = self.numerical(y)\n",
    "       \n",
    "        x = torch.cat((x.squeeze(1), y), 1)\n",
    "      \n",
    "        x = self.mlp(x)\n",
    "        return x"
   ]
  },
  {
   "cell_type": "code",
   "execution_count": 17,
   "metadata": {},
   "outputs": [],
   "source": [
    "def train(model, optimizer):\n",
    "    \n",
    "    model.train()\n",
    "    rho = 0 \n",
    "    train_loss = 0 \n",
    "    for batch_idx, (seq, target,num) in enumerate(train_loader):\n",
    "        if torch.cuda.is_available():\n",
    "            seq = seq.cuda()\n",
    "            target = target.cuda()\n",
    "            num = num.cuda()\n",
    "        optimizer.zero_grad()\n",
    "        \n",
    "        output = model(seq,num)\n",
    "        loss = criterion(output.squeeze(), target)\n",
    "        train_loss += loss.item()\n",
    "        loss.backward()\n",
    "        \n",
    "        optimizer.step()\n",
    "        # calculate Spearman's rank correlation coefficient\n",
    "        p, _ = spearmanr(target.cpu().detach().numpy(), output.squeeze().cpu().detach().numpy())\n",
    "        rho += p\n",
    "    \n",
    "    train_loss /= len(train_loader)\n",
    "    \n",
    "   \n",
    "    #print(   f\"Train Epoch: {epoch} \" f\" loss={train_loss:0.2e} \" )\n",
    "\n",
    "    rho = rho / len(train_loader)\n",
    "    return train_loss \n",
    "\n",
    "\n",
    "def test( model):\n",
    "  \n",
    "    model = model.eval()\n",
    "    test_loss = 0\n",
    "    rho = 0\n",
    "    with torch.no_grad():\n",
    "        for seq, target,num in test_loader:\n",
    "            if torch.cuda.is_available():\n",
    "                seq = seq.cuda()\n",
    "                target = target.cuda()\n",
    "                num = num.cuda()\n",
    "            output = model(seq,num)\n",
    "            test_loss += criterion(output.squeeze(), target).item()  # sum up batch loss\n",
    "            # calculate pearson correlation \n",
    "            #pearson, rmse, auc = Scoring(target.cpu().detach(), output.cpu().detach())\n",
    "            p, _ =  spearmanr(target.cpu().detach().numpy(), output.cpu().detach().numpy())\n",
    "            rho += p\n",
    "            \n",
    "\n",
    "    test_loss /= len(test_loader)\n",
    "    rho = rho / len(test_loader)\n",
    "    print(\n",
    "        f\"Test set: Average loss: {test_loss:0.2e} \"\n",
    "    )\n",
    "\n",
    "    return test_loss\n",
    "\n",
    "    \n",
    "\n",
    "#Objective function to be trained with optuna\n",
    "def objective(trial):\n",
    "    \n",
    "    \n",
    "    # Define range of values to be tested for the hyperparameters\n",
    "    \n",
    "    n_filters = []\n",
    "    for i in range(4):\n",
    "        n_filters.append(trial.suggest_int(f'n_filter_{i}', 4, 128, 5)) \n",
    "    \n",
    "    #n_filters = trial.suggest_int(f'n_filter_', 4, 128, 5)\n",
    "    \n",
    "    \n",
    "    #n_filters = [int(trial.suggest_discrete_uniform(\"num_filter_\"+str(i), 16, 128, 16)) for i in range(10)]              # Number of filters for the convolutional layers\n",
    "    size_pooling = trial.suggest_int(\"size_pooling\", 2, 12)  # Number of neurons of FC1 layer\n",
    "    drop_f = trial.suggest_float(\"drop_f\", 0.2, 0.5)     # Dropout for convolutional layer 2\n",
    "    nb_num = trial.suggest_int(\"nb_num\", 2, 100)\n",
    "    \n",
    "    n_linear = []\n",
    "    for i in range(3):\n",
    "        n_linear.append(trial.suggest_int(f'n_linear_{i}', 2, 300)) \n",
    "\n",
    "    # Generate the model\n",
    "    model = Conv1D_OneChannel(trial, n_filters, size_pooling, drop_f, nb_num, n_linear)\n",
    "    model = model.to(device)\n",
    "\n",
    "    # Generate the optimizers\n",
    "    optimizer_name = trial.suggest_categorical(\"optimizer\", [\"Adam\", \"RMSprop\", \"SGD\"])  # Optimizers\n",
    "    lr = trial.suggest_float(\"lr\", 1e-5, 1e-1, log=True)                                 # Learning rates\n",
    "    optimizer = getattr(optim, optimizer_name)(model.parameters(), lr=lr)\n",
    "\n",
    "    # Training of the model\n",
    "    for epoch in range(n_epochs):\n",
    "        train(model, optimizer)  # Train the model\n",
    "        loss = test(model)   # Evaluate the model\n",
    "\n",
    "        # For pruning (stops trial early if not promising)\n",
    "        trial.report(loss, epoch)\n",
    "        # Handle pruning based on the intermediate value.\n",
    "        #if trial.should_prune():\n",
    "            #raise optuna.exceptions.TrialPruned()\n",
    "\n",
    "    return loss\n",
    "\n"
   ]
  },
  {
   "cell_type": "markdown",
   "metadata": {},
   "source": [
    "5. Optimize the model"
   ]
  },
  {
   "cell_type": "code",
   "execution_count": 18,
   "metadata": {},
   "outputs": [
    {
     "name": "stderr",
     "output_type": "stream",
     "text": [
      "\u001b[32m[I 2022-12-22 10:10:21,259]\u001b[0m A new study created in memory with name: no-name-b0712058-e156-4108-a9cc-9e755621a1c0\u001b[0m\n",
      "/home/ml4science/anaconda3/lib/python3.9/site-packages/optuna/distributions.py:683: UserWarning: The distribution is specified by [4, 128] and step=5, but the range is not divisible by `step`. It will be replaced by [4, 124].\n",
      "  warnings.warn(\n",
      "/home/ml4science/anaconda3/lib/python3.9/site-packages/torch/nn/functional.py:1331: UserWarning: dropout2d: Received a 2-D input to dropout2d, which is deprecated and will result in an error in a future release. To retain the behavior and silence this warning, please use dropout instead. Note that dropout2d exists to provide channel-wise dropout on inputs with 2 spatial dimensions, a channel dimension, and an optional batch dimension (i.e. 3D or 4D inputs).\n",
      "  warnings.warn(warn_msg)\n",
      "/home/ml4science/anaconda3/lib/python3.9/site-packages/scipy/stats/_stats_py.py:4529: SpearmanRConstantInputWarning: An input array is constant; the correlation coefficient is not defined.\n",
      "  warnings.warn(SpearmanRConstantInputWarning())\n"
     ]
    },
    {
     "name": "stdout",
     "output_type": "stream",
     "text": [
      "Test set: Average loss: nan \n",
      "Test set: Average loss: nan \n",
      "Test set: Average loss: nan \n",
      "Test set: Average loss: nan \n",
      "Test set: Average loss: nan \n",
      "Test set: Average loss: nan \n",
      "Test set: Average loss: nan \n",
      "Test set: Average loss: nan \n",
      "Test set: Average loss: nan \n"
     ]
    },
    {
     "name": "stderr",
     "output_type": "stream",
     "text": [
      "\u001b[33m[W 2022-12-22 10:10:54,478]\u001b[0m Trial 0 failed because of the following error: The value nan is not acceptable.\u001b[0m\n"
     ]
    },
    {
     "name": "stdout",
     "output_type": "stream",
     "text": [
      "Test set: Average loss: nan \n",
      "Test set: Average loss: 1.50e+02 \n",
      "Test set: Average loss: 1.50e+02 \n",
      "Test set: Average loss: 1.42e+02 \n",
      "Test set: Average loss: 1.30e+02 \n",
      "Test set: Average loss: 1.51e+02 \n",
      "Test set: Average loss: 1.43e+02 \n",
      "Test set: Average loss: 1.46e+02 \n",
      "Test set: Average loss: 1.25e+02 \n",
      "Test set: Average loss: 1.38e+02 \n"
     ]
    },
    {
     "name": "stderr",
     "output_type": "stream",
     "text": [
      "\u001b[32m[I 2022-12-22 10:11:24,597]\u001b[0m Trial 1 finished with value: 118.9075704721304 and parameters: {'n_filter_0': 54, 'n_filter_1': 49, 'n_filter_2': 34, 'n_filter_3': 54, 'size_pooling': 2, 'drop_f': 0.48475742373978314, 'nb_num': 50, 'n_linear_0': 20, 'n_linear_1': 243, 'n_linear_2': 33, 'optimizer': 'RMSprop', 'lr': 0.00022590160060710976}. Best is trial 1 with value: 118.9075704721304.\u001b[0m\n"
     ]
    },
    {
     "name": "stdout",
     "output_type": "stream",
     "text": [
      "Test set: Average loss: 1.19e+02 \n",
      "Test set: Average loss: 6.48e+02 \n",
      "Test set: Average loss: 7.79e+02 \n",
      "Test set: Average loss: 6.11e+02 \n",
      "Test set: Average loss: 5.97e+02 \n",
      "Test set: Average loss: 5.55e+02 \n",
      "Test set: Average loss: 6.02e+02 \n",
      "Test set: Average loss: 5.42e+02 \n",
      "Test set: Average loss: 4.49e+02 \n",
      "Test set: Average loss: 3.53e+02 \n"
     ]
    },
    {
     "name": "stderr",
     "output_type": "stream",
     "text": [
      "\u001b[32m[I 2022-12-22 10:11:55,670]\u001b[0m Trial 2 finished with value: 392.1353454589844 and parameters: {'n_filter_0': 109, 'n_filter_1': 49, 'n_filter_2': 4, 'n_filter_3': 69, 'size_pooling': 5, 'drop_f': 0.4041281766214603, 'nb_num': 75, 'n_linear_0': 39, 'n_linear_1': 23, 'n_linear_2': 184, 'optimizer': 'SGD', 'lr': 1.7232018989330494e-05}. Best is trial 1 with value: 118.9075704721304.\u001b[0m\n"
     ]
    },
    {
     "name": "stdout",
     "output_type": "stream",
     "text": [
      "Test set: Average loss: 3.92e+02 \n",
      "Test set: Average loss: 2.82e+02 \n",
      "Test set: Average loss: 2.42e+02 \n",
      "Test set: Average loss: 1.83e+02 \n",
      "Test set: Average loss: 1.92e+02 \n",
      "Test set: Average loss: 1.86e+02 \n",
      "Test set: Average loss: 1.70e+02 \n",
      "Test set: Average loss: 2.21e+02 \n",
      "Test set: Average loss: 1.63e+02 \n",
      "Test set: Average loss: 1.65e+02 \n"
     ]
    },
    {
     "name": "stderr",
     "output_type": "stream",
     "text": [
      "\u001b[32m[I 2022-12-22 10:12:30,412]\u001b[0m Trial 3 finished with value: 180.5227090688852 and parameters: {'n_filter_0': 64, 'n_filter_1': 124, 'n_filter_2': 34, 'n_filter_3': 39, 'size_pooling': 4, 'drop_f': 0.26051577519979274, 'nb_num': 27, 'n_linear_0': 143, 'n_linear_1': 151, 'n_linear_2': 92, 'optimizer': 'RMSprop', 'lr': 0.02785368887591938}. Best is trial 1 with value: 118.9075704721304.\u001b[0m\n"
     ]
    },
    {
     "name": "stdout",
     "output_type": "stream",
     "text": [
      "Test set: Average loss: 1.81e+02 \n",
      "Test set: Average loss: 6.05e+04 \n",
      "Test set: Average loss: 3.77e+02 \n",
      "Test set: Average loss: 6.15e+03 \n",
      "Test set: Average loss: 1.58e+04 \n",
      "Test set: Average loss: 8.25e+03 \n",
      "Test set: Average loss: 1.70e+02 \n",
      "Test set: Average loss: 4.27e+02 \n",
      "Test set: Average loss: 5.20e+03 \n",
      "Test set: Average loss: 2.92e+03 \n"
     ]
    },
    {
     "name": "stderr",
     "output_type": "stream",
     "text": [
      "\u001b[32m[I 2022-12-22 10:13:15,799]\u001b[0m Trial 4 finished with value: 2911.290564903846 and parameters: {'n_filter_0': 84, 'n_filter_1': 124, 'n_filter_2': 104, 'n_filter_3': 104, 'size_pooling': 12, 'drop_f': 0.21612160433531746, 'nb_num': 63, 'n_linear_0': 90, 'n_linear_1': 173, 'n_linear_2': 209, 'optimizer': 'RMSprop', 'lr': 0.047163949550390764}. Best is trial 1 with value: 118.9075704721304.\u001b[0m\n"
     ]
    },
    {
     "name": "stdout",
     "output_type": "stream",
     "text": [
      "Test set: Average loss: 2.91e+03 \n",
      "Test set: Average loss: 6.66e+02 \n",
      "Test set: Average loss: 6.51e+02 \n",
      "Test set: Average loss: 6.62e+02 \n",
      "Test set: Average loss: 6.41e+02 \n",
      "Test set: Average loss: 7.35e+02 \n",
      "Test set: Average loss: 7.38e+02 \n",
      "Test set: Average loss: 7.87e+02 \n",
      "Test set: Average loss: 7.34e+02 \n",
      "Test set: Average loss: 8.62e+02 \n"
     ]
    },
    {
     "name": "stderr",
     "output_type": "stream",
     "text": [
      "\u001b[32m[I 2022-12-22 10:13:47,710]\u001b[0m Trial 5 finished with value: 724.4773503230168 and parameters: {'n_filter_0': 59, 'n_filter_1': 84, 'n_filter_2': 39, 'n_filter_3': 19, 'size_pooling': 6, 'drop_f': 0.301714428751607, 'nb_num': 30, 'n_linear_0': 249, 'n_linear_1': 210, 'n_linear_2': 131, 'optimizer': 'SGD', 'lr': 1.0339951318168022e-05}. Best is trial 1 with value: 118.9075704721304.\u001b[0m\n"
     ]
    },
    {
     "name": "stdout",
     "output_type": "stream",
     "text": [
      "Test set: Average loss: 7.24e+02 \n",
      "Test set: Average loss: nan \n",
      "Test set: Average loss: nan \n",
      "Test set: Average loss: nan \n",
      "Test set: Average loss: nan \n",
      "Test set: Average loss: nan \n",
      "Test set: Average loss: nan \n",
      "Test set: Average loss: nan \n",
      "Test set: Average loss: nan \n",
      "Test set: Average loss: nan \n"
     ]
    },
    {
     "name": "stderr",
     "output_type": "stream",
     "text": [
      "\u001b[33m[W 2022-12-22 10:14:14,037]\u001b[0m Trial 6 failed because of the following error: The value nan is not acceptable.\u001b[0m\n"
     ]
    },
    {
     "name": "stdout",
     "output_type": "stream",
     "text": [
      "Test set: Average loss: nan \n",
      "Test set: Average loss: 2.58e+03 \n",
      "Test set: Average loss: 1.65e+02 \n",
      "Test set: Average loss: 1.75e+02 \n",
      "Test set: Average loss: 1.68e+02 \n",
      "Test set: Average loss: 1.64e+02 \n",
      "Test set: Average loss: 1.63e+02 \n",
      "Test set: Average loss: 1.61e+02 \n",
      "Test set: Average loss: 1.62e+02 \n",
      "Test set: Average loss: 1.60e+02 \n"
     ]
    },
    {
     "name": "stderr",
     "output_type": "stream",
     "text": [
      "\u001b[32m[I 2022-12-22 10:14:45,282]\u001b[0m Trial 7 finished with value: 154.12869614821213 and parameters: {'n_filter_0': 109, 'n_filter_1': 64, 'n_filter_2': 9, 'n_filter_3': 39, 'size_pooling': 5, 'drop_f': 0.29326072837361644, 'nb_num': 87, 'n_linear_0': 154, 'n_linear_1': 53, 'n_linear_2': 136, 'optimizer': 'SGD', 'lr': 6.669006262475692e-05}. Best is trial 1 with value: 118.9075704721304.\u001b[0m\n"
     ]
    },
    {
     "name": "stdout",
     "output_type": "stream",
     "text": [
      "Test set: Average loss: 1.54e+02 \n",
      "Test set: Average loss: 1.72e+02 \n",
      "Test set: Average loss: 1.68e+02 \n",
      "Test set: Average loss: 1.74e+02 \n",
      "Test set: Average loss: 1.80e+02 \n",
      "Test set: Average loss: 1.63e+02 \n",
      "Test set: Average loss: 1.65e+02 \n",
      "Test set: Average loss: 1.97e+02 \n",
      "Test set: Average loss: 1.67e+02 \n",
      "Test set: Average loss: 1.75e+02 \n"
     ]
    },
    {
     "name": "stderr",
     "output_type": "stream",
     "text": [
      "\u001b[32m[I 2022-12-22 10:15:16,808]\u001b[0m Trial 8 finished with value: 184.08164391150842 and parameters: {'n_filter_0': 119, 'n_filter_1': 34, 'n_filter_2': 74, 'n_filter_3': 4, 'size_pooling': 11, 'drop_f': 0.47910776571461416, 'nb_num': 61, 'n_linear_0': 187, 'n_linear_1': 193, 'n_linear_2': 108, 'optimizer': 'Adam', 'lr': 0.021063969471461795}. Best is trial 1 with value: 118.9075704721304.\u001b[0m\n"
     ]
    },
    {
     "name": "stdout",
     "output_type": "stream",
     "text": [
      "Test set: Average loss: 1.84e+02 \n",
      "Test set: Average loss: 1.22e+03 \n",
      "Test set: Average loss: 2.90e+02 \n",
      "Test set: Average loss: 1.74e+02 \n",
      "Test set: Average loss: 1.61e+02 \n",
      "Test set: Average loss: 1.57e+02 \n",
      "Test set: Average loss: 1.57e+02 \n",
      "Test set: Average loss: 1.50e+02 \n",
      "Test set: Average loss: 1.50e+02 \n",
      "Test set: Average loss: 1.46e+02 \n"
     ]
    },
    {
     "name": "stderr",
     "output_type": "stream",
     "text": [
      "\u001b[32m[I 2022-12-22 10:16:05,472]\u001b[0m Trial 9 finished with value: 146.54964282696065 and parameters: {'n_filter_0': 89, 'n_filter_1': 124, 'n_filter_2': 104, 'n_filter_3': 109, 'size_pooling': 2, 'drop_f': 0.2337881227111913, 'nb_num': 96, 'n_linear_0': 192, 'n_linear_1': 256, 'n_linear_2': 168, 'optimizer': 'Adam', 'lr': 1.8543162090870225e-05}. Best is trial 1 with value: 118.9075704721304.\u001b[0m\n"
     ]
    },
    {
     "name": "stdout",
     "output_type": "stream",
     "text": [
      "Test set: Average loss: 1.47e+02 \n",
      "Test set: Average loss: 1.43e+02 \n",
      "Test set: Average loss: 1.18e+02 \n",
      "Test set: Average loss: 1.39e+02 \n",
      "Test set: Average loss: 1.14e+02 \n",
      "Test set: Average loss: 1.12e+02 \n",
      "Test set: Average loss: 1.07e+02 \n",
      "Test set: Average loss: 1.11e+02 \n",
      "Test set: Average loss: 9.75e+01 \n",
      "Test set: Average loss: 9.82e+01 \n"
     ]
    },
    {
     "name": "stderr",
     "output_type": "stream",
     "text": [
      "\u001b[32m[I 2022-12-22 10:16:40,608]\u001b[0m Trial 10 finished with value: 102.77227830153245 and parameters: {'n_filter_0': 74, 'n_filter_1': 4, 'n_filter_2': 124, 'n_filter_3': 89, 'size_pooling': 10, 'drop_f': 0.47600370270282527, 'nb_num': 77, 'n_linear_0': 193, 'n_linear_1': 17, 'n_linear_2': 25, 'optimizer': 'Adam', 'lr': 0.002319763220065536}. Best is trial 10 with value: 102.77227830153245.\u001b[0m\n"
     ]
    },
    {
     "name": "stdout",
     "output_type": "stream",
     "text": [
      "Test set: Average loss: 1.03e+02 \n",
      "Test set: Average loss: 1.69e+02 \n",
      "Test set: Average loss: 1.86e+02 \n",
      "Test set: Average loss: 1.71e+02 \n",
      "Test set: Average loss: 1.71e+02 \n",
      "Test set: Average loss: 1.67e+02 \n",
      "Test set: Average loss: 1.65e+02 \n",
      "Test set: Average loss: 1.69e+02 \n",
      "Test set: Average loss: 1.65e+02 \n",
      "Test set: Average loss: 1.72e+02 \n"
     ]
    },
    {
     "name": "stderr",
     "output_type": "stream",
     "text": [
      "\u001b[32m[I 2022-12-22 10:17:14,099]\u001b[0m Trial 11 finished with value: 163.37734973614033 and parameters: {'n_filter_0': 39, 'n_filter_1': 14, 'n_filter_2': 89, 'n_filter_3': 104, 'size_pooling': 6, 'drop_f': 0.4183165051628054, 'nb_num': 71, 'n_linear_0': 159, 'n_linear_1': 67, 'n_linear_2': 257, 'optimizer': 'Adam', 'lr': 0.03493077307558937}. Best is trial 10 with value: 102.77227830153245.\u001b[0m\n"
     ]
    },
    {
     "name": "stdout",
     "output_type": "stream",
     "text": [
      "Test set: Average loss: 1.63e+02 \n",
      "Test set: Average loss: 2.91e+03 \n",
      "Test set: Average loss: 2.87e+03 \n",
      "Test set: Average loss: 2.87e+03 \n",
      "Test set: Average loss: 2.83e+03 \n",
      "Test set: Average loss: 2.82e+03 \n",
      "Test set: Average loss: 2.78e+03 \n",
      "Test set: Average loss: 2.73e+03 \n",
      "Test set: Average loss: 2.72e+03 \n",
      "Test set: Average loss: 2.69e+03 \n"
     ]
    },
    {
     "name": "stderr",
     "output_type": "stream",
     "text": [
      "\u001b[32m[I 2022-12-22 10:17:45,190]\u001b[0m Trial 12 finished with value: 2669.5791954627402 and parameters: {'n_filter_0': 4, 'n_filter_1': 9, 'n_filter_2': 124, 'n_filter_3': 84, 'size_pooling': 9, 'drop_f': 0.36767142010410364, 'nb_num': 6, 'n_linear_0': 251, 'n_linear_1': 111, 'n_linear_2': 6, 'optimizer': 'Adam', 'lr': 0.0010603606173337611}. Best is trial 10 with value: 102.77227830153245.\u001b[0m\n"
     ]
    },
    {
     "name": "stdout",
     "output_type": "stream",
     "text": [
      "Test set: Average loss: 2.67e+03 \n",
      "Test set: Average loss: 1.60e+02 \n",
      "Test set: Average loss: 1.37e+02 \n",
      "Test set: Average loss: 1.97e+02 \n",
      "Test set: Average loss: 1.24e+02 \n",
      "Test set: Average loss: 2.90e+02 \n",
      "Test set: Average loss: 1.22e+02 \n",
      "Test set: Average loss: 1.35e+02 \n",
      "Test set: Average loss: 1.43e+02 \n",
      "Test set: Average loss: 2.15e+02 \n"
     ]
    },
    {
     "name": "stderr",
     "output_type": "stream",
     "text": [
      "\u001b[32m[I 2022-12-22 10:18:18,935]\u001b[0m Trial 13 finished with value: 107.61307290884164 and parameters: {'n_filter_0': 34, 'n_filter_1': 89, 'n_filter_2': 49, 'n_filter_3': 74, 'size_pooling': 9, 'drop_f': 0.4964250130780905, 'nb_num': 42, 'n_linear_0': 25, 'n_linear_1': 290, 'n_linear_2': 6, 'optimizer': 'RMSprop', 'lr': 0.0009846115383602301}. Best is trial 10 with value: 102.77227830153245.\u001b[0m\n"
     ]
    },
    {
     "name": "stdout",
     "output_type": "stream",
     "text": [
      "Test set: Average loss: 1.08e+02 \n",
      "Test set: Average loss: 1.84e+02 \n",
      "Test set: Average loss: 1.59e+02 \n",
      "Test set: Average loss: 1.55e+02 \n",
      "Test set: Average loss: 1.50e+02 \n",
      "Test set: Average loss: 2.32e+02 \n",
      "Test set: Average loss: 1.38e+02 \n",
      "Test set: Average loss: 1.93e+02 \n",
      "Test set: Average loss: 1.28e+02 \n",
      "Test set: Average loss: 1.41e+02 \n"
     ]
    },
    {
     "name": "stderr",
     "output_type": "stream",
     "text": [
      "\u001b[32m[I 2022-12-22 10:18:53,247]\u001b[0m Trial 14 finished with value: 160.9311760535607 and parameters: {'n_filter_0': 24, 'n_filter_1': 94, 'n_filter_2': 64, 'n_filter_3': 84, 'size_pooling': 9, 'drop_f': 0.4449006740399538, 'nb_num': 40, 'n_linear_0': 298, 'n_linear_1': 289, 'n_linear_2': 63, 'optimizer': 'RMSprop', 'lr': 0.0024546399067814514}. Best is trial 10 with value: 102.77227830153245.\u001b[0m\n"
     ]
    },
    {
     "name": "stdout",
     "output_type": "stream",
     "text": [
      "Test set: Average loss: 1.61e+02 \n",
      "Test set: Average loss: 1.52e+02 \n",
      "Test set: Average loss: 1.34e+02 \n",
      "Test set: Average loss: 1.16e+02 \n",
      "Test set: Average loss: 1.13e+02 \n",
      "Test set: Average loss: 1.04e+02 \n",
      "Test set: Average loss: 9.13e+01 \n",
      "Test set: Average loss: 9.68e+01 \n",
      "Test set: Average loss: 1.15e+02 \n",
      "Test set: Average loss: 1.02e+02 \n"
     ]
    },
    {
     "name": "stderr",
     "output_type": "stream",
     "text": [
      "\u001b[32m[I 2022-12-22 10:19:27,242]\u001b[0m Trial 15 finished with value: 113.52406534048227 and parameters: {'n_filter_0': 24, 'n_filter_1': 94, 'n_filter_2': 54, 'n_filter_3': 79, 'size_pooling': 10, 'drop_f': 0.4950075213645475, 'nb_num': 47, 'n_linear_0': 85, 'n_linear_1': 116, 'n_linear_2': 49, 'optimizer': 'Adam', 'lr': 0.00550002476312834}. Best is trial 10 with value: 102.77227830153245.\u001b[0m\n"
     ]
    },
    {
     "name": "stdout",
     "output_type": "stream",
     "text": [
      "Test set: Average loss: 1.14e+02 \n",
      "Test set: Average loss: 1.60e+02 \n",
      "Test set: Average loss: 1.35e+02 \n",
      "Test set: Average loss: 1.27e+02 \n",
      "Test set: Average loss: 1.24e+02 \n",
      "Test set: Average loss: 1.22e+02 \n",
      "Test set: Average loss: 1.26e+02 \n",
      "Test set: Average loss: 1.29e+02 \n",
      "Test set: Average loss: 1.26e+02 \n",
      "Test set: Average loss: 1.21e+02 \n"
     ]
    },
    {
     "name": "stderr",
     "output_type": "stream",
     "text": [
      "\u001b[32m[I 2022-12-22 10:20:11,903]\u001b[0m Trial 16 finished with value: 118.86716871995192 and parameters: {'n_filter_0': 84, 'n_filter_1': 79, 'n_filter_2': 124, 'n_filter_3': 124, 'size_pooling': 8, 'drop_f': 0.44462759167269067, 'nb_num': 85, 'n_linear_0': 87, 'n_linear_1': 10, 'n_linear_2': 6, 'optimizer': 'RMSprop', 'lr': 0.00032171304448849286}. Best is trial 10 with value: 102.77227830153245.\u001b[0m\n"
     ]
    },
    {
     "name": "stdout",
     "output_type": "stream",
     "text": [
      "Test set: Average loss: 1.19e+02 \n",
      "Test set: Average loss: 1.33e+02 \n",
      "Test set: Average loss: 1.51e+02 \n",
      "Test set: Average loss: 1.51e+02 \n",
      "Test set: Average loss: 1.06e+02 \n",
      "Test set: Average loss: 1.06e+02 \n",
      "Test set: Average loss: 1.04e+02 \n",
      "Test set: Average loss: 1.06e+02 \n",
      "Test set: Average loss: 1.16e+02 \n",
      "Test set: Average loss: 1.01e+02 \n"
     ]
    },
    {
     "name": "stderr",
     "output_type": "stream",
     "text": [
      "\u001b[32m[I 2022-12-22 10:20:42,856]\u001b[0m Trial 17 finished with value: 101.47993146456204 and parameters: {'n_filter_0': 39, 'n_filter_1': 29, 'n_filter_2': 79, 'n_filter_3': 59, 'size_pooling': 12, 'drop_f': 0.37338562115361634, 'nb_num': 13, 'n_linear_0': 234, 'n_linear_1': 297, 'n_linear_2': 76, 'optimizer': 'Adam', 'lr': 0.006830808855482082}. Best is trial 17 with value: 101.47993146456204.\u001b[0m\n"
     ]
    },
    {
     "name": "stdout",
     "output_type": "stream",
     "text": [
      "Test set: Average loss: 1.01e+02 \n",
      "Test set: Average loss: 1.32e+02 \n",
      "Test set: Average loss: 1.21e+02 \n",
      "Test set: Average loss: 1.14e+02 \n",
      "Test set: Average loss: 1.00e+02 \n",
      "Test set: Average loss: 1.03e+02 \n",
      "Test set: Average loss: 1.53e+02 \n",
      "Test set: Average loss: 1.12e+02 \n"
     ]
    },
    {
     "name": "stderr",
     "output_type": "stream",
     "text": [
      "\u001b[32m[I 2022-12-22 10:21:14,798]\u001b[0m Trial 18 finished with value: 128.48542536222018 and parameters: {'n_filter_0': 44, 'n_filter_1': 24, 'n_filter_2': 89, 'n_filter_3': 49, 'size_pooling': 12, 'drop_f': 0.35939852723670696, 'nb_num': 11, 'n_linear_0': 233, 'n_linear_1': 108, 'n_linear_2': 89, 'optimizer': 'Adam', 'lr': 0.008752714803256232}. Best is trial 17 with value: 101.47993146456204.\u001b[0m\n"
     ]
    },
    {
     "name": "stdout",
     "output_type": "stream",
     "text": [
      "Test set: Average loss: 1.28e+02 \n",
      "Test set: Average loss: 1.29e+02 \n",
      "Test set: Average loss: 1.16e+02 \n",
      "Test set: Average loss: 1.12e+02 \n",
      "Test set: Average loss: 1.05e+02 \n",
      "Test set: Average loss: 1.20e+02 \n",
      "Test set: Average loss: 1.04e+02 \n",
      "Test set: Average loss: 1.29e+02 \n",
      "Test set: Average loss: 1.12e+02 \n",
      "Test set: Average loss: 9.70e+01 \n"
     ]
    },
    {
     "name": "stderr",
     "output_type": "stream",
     "text": [
      "\u001b[32m[I 2022-12-22 10:21:49,206]\u001b[0m Trial 19 finished with value: 112.38988753098708 and parameters: {'n_filter_0': 79, 'n_filter_1': 4, 'n_filter_2': 109, 'n_filter_3': 59, 'size_pooling': 11, 'drop_f': 0.391175758876967, 'nb_num': 24, 'n_linear_0': 213, 'n_linear_1': 72, 'n_linear_2': 64, 'optimizer': 'Adam', 'lr': 0.0069034249526624914}. Best is trial 17 with value: 101.47993146456204.\u001b[0m\n"
     ]
    },
    {
     "name": "stdout",
     "output_type": "stream",
     "text": [
      "Test set: Average loss: 1.12e+02 \n",
      "Best trial:\n",
      "  Value:  101.47993146456204\n",
      "  Params: \n",
      "    n_filter_0: 39\n",
      "    n_filter_1: 29\n",
      "    n_filter_2: 79\n",
      "    n_filter_3: 59\n",
      "    size_pooling: 12\n",
      "    drop_f: 0.37338562115361634\n",
      "    nb_num: 13\n",
      "    n_linear_0: 234\n",
      "    n_linear_1: 297\n",
      "    n_linear_2: 76\n",
      "    optimizer: Adam\n",
      "    lr: 0.006830808855482082\n",
      "\n",
      "Overall Results (ordered by accuracy):\n",
      "                                         protein_sequence   pH    tm  length  \\\n",
      "0      AAAAKAAALALLGEAPEVVDIWLPAGWRQPFRVFRLERKGDGVLVG...  7.0  75.7     341   \n",
      "1      AAADGEPLHNEEERAGAGQVGRSLPQESEEQRTGSRPRRRRDLGSR...  7.0  50.5     286   \n",
      "2      AAAFSTPRATSYRILSSAGSGSTRADAPQVRRLHTTRDLLAKDYYA...  7.0  40.5     497   \n",
      "3      AAASGLRTAIPAQPLRHLLQPAPRPCLRPFGLLSVRAGSARRSGLL...  7.0  47.2     265   \n",
      "4      AACFWRRTVIPKPPFRGISTTSARSTVMPAWVIDKYGKNEVLRFTQ...  7.0  48.4     380   \n",
      "...                                                  ...  ...   ...     ...   \n",
      "20505  YWFPAEEMRTRNNVNNCFKKPAFANLLRFPQLYPFLCRADFIKVAA...  7.0  48.6     300   \n",
      "20506  YYAYVVELCVSTISRTGEKGKTVVYLVAFHLFFVMFVWSYWMTIFT...  7.0  49.4     350   \n",
      "20507  YYLWHKAASTVASIHESIDKSKKRDKEVSINKKDPFSVLIMGVDER...  7.0  42.1     274   \n",
      "20508  YYNDQHRLSSYSVETAMFLSWERAIVKPGAMFKKAVIGFNCNVDLI...  7.0  37.2     469   \n",
      "20509  YYQRTLGAELLYKISFGEMPKSAQDSAENCPSGMQFPDTAIAHANV...  7.0  64.6     128   \n",
      "\n",
      "                                        encoded_sequence  \n",
      "0      [[1.0, 1.0, 1.0, 1.0, 0.0, 1.0, 1.0, 1.0, 0.0,...  \n",
      "1      [[1.0, 1.0, 1.0, 0.0, 0.0, 0.0, 0.0, 0.0, 0.0,...  \n",
      "2      [[1.0, 1.0, 1.0, 0.0, 0.0, 0.0, 0.0, 0.0, 1.0,...  \n",
      "3      [[1.0, 1.0, 1.0, 0.0, 0.0, 0.0, 0.0, 0.0, 1.0,...  \n",
      "4      [[1.0, 1.0, 0.0, 0.0, 0.0, 0.0, 0.0, 0.0, 0.0,...  \n",
      "...                                                  ...  \n",
      "20505  [[0.0, 0.0, 0.0, 0.0, 1.0, 0.0, 0.0, 0.0, 0.0,...  \n",
      "20506  [[0.0, 0.0, 1.0, 0.0, 0.0, 0.0, 0.0, 0.0, 0.0,...  \n",
      "20507  [[0.0, 0.0, 0.0, 0.0, 0.0, 0.0, 1.0, 1.0, 0.0,...  \n",
      "20508  [[0.0, 0.0, 0.0, 0.0, 0.0, 0.0, 0.0, 0.0, 0.0,...  \n",
      "20509  [[0.0, 0.0, 0.0, 0.0, 0.0, 0.0, 0.0, 1.0, 0.0,...  \n",
      "\n",
      "[20510 rows x 5 columns]\n"
     ]
    }
   ],
   "source": [
    "    criterion=nn.MSELoss()\n",
    "    n_epochs=100\n",
    "    # Use cuda if available \n",
    "    device = torch.device(\"cuda\" if torch.cuda.is_available() else \"cpu\")\n",
    "\n",
    " \n",
    "    # Parameters for the optimization\n",
    "    n_epochs = 10                         \n",
    "    batch_size_train = 64                 \n",
    "    batch_size_test = 1000                \n",
    "    number_of_trials = 20                \n",
    "    limit_obs = True                      \n",
    "\n",
    "    \n",
    "    # -------------------------------------------------------------------------\n",
    "\n",
    "    # Make runs repeatable\n",
    "    random_seed = 1\n",
    "    torch.backends.cudnn.enabled = False \n",
    "    torch.manual_seed(random_seed)\n",
    "\n",
    "    train_loader = train_dl\n",
    "\n",
    "    test_loader = val_dl\n",
    "\n",
    "    # Create an Optuna study to minimize the loss\n",
    "    study = optuna.create_study(direction=\"minimize\")\n",
    "    study.optimize(objective, n_trials=number_of_trials)\n",
    "\n",
    "    \n",
    "    #Results\n",
    "\n",
    "    trial = study.best_trial\n",
    "    print(\"Best trial:\")\n",
    "    print(\"  Value: \", trial.value)\n",
    "    print(\"  Params: \")\n",
    "    for key, value in trial.params.items():\n",
    "        print(\"    {}: {}\".format(key, value))\n",
    "\n",
    "    \n",
    "    # Display results in a dataframe\n",
    "    print(\"\\nOverall Results (ordered by accuracy):\\n {}\".format(df))\n",
    "\n",
    "\n"
   ]
  },
  {
   "cell_type": "code",
   "execution_count": 19,
   "metadata": {},
   "outputs": [],
   "source": [
    "\n",
    "\"\"\"Parameters used for the training: \n",
    "    n_filter_0: 39\n",
    "    n_filter_1: 29\n",
    "    n_filter_2: 79\n",
    "    n_filter_3: 59\n",
    "    size_pooling: 12\n",
    "    drop_f: 0.37338562115361634\n",
    "    nb_num: 13\n",
    "    n_linear_0: 234\n",
    "    n_linear_1: 297\n",
    "    n_linear_2: 76\n",
    "    optimizer: Adam\n",
    "    lr: 0.006830808855482082\n",
    "\"\"\"\n",
    "lr=0.006830808855482082\n",
    "model = Conv1D_OneChannel(trial, (39,29,79,59), 12, 0.37338562115361634, 13, (234,297,76))\n",
    "optimizer = Adam(model.parameters(), lr=lr)\n",
    "# defining the loss function\n",
    "criterion = nn.MSELoss()\n",
    "# checking if GPU is available\n",
    "if torch.cuda.is_available():\n",
    "    model = model.cuda()\n",
    "    criterion = criterion.cuda()\n",
    "\n",
    "    \n"
   ]
  },
  {
   "cell_type": "markdown",
   "metadata": {},
   "source": [
    "6. KFold"
   ]
  },
  {
   "cell_type": "markdown",
   "metadata": {},
   "source": [
    "from sklearn.model_selection import KFold"
   ]
  },
  {
   "cell_type": "markdown",
   "metadata": {
    "tags": []
   },
   "source": [
    "\n",
    "k_folds = 5\n",
    "learning_rate = 1e-4\n",
    "kfold = KFold(n_splits=k_folds, shuffle=True)\n",
    "dataset = EnzymesDataset(df.reset_index(drop=True))\n",
    "train_loss_history = []\n",
    "test_loss_history = []\n",
    "train_rho_history = []\n",
    "test_rho_history = []\n",
    "for fold, (train_ids, test_ids) in enumerate(kfold.split(dataset)):\n",
    "\n",
    "    # Print\n",
    "    print(f'FOLD {fold}')\n",
    "    print('--------------------------------')\n",
    "\n",
    "    # Sample elements randomly from a given list of ids, no replacement.\n",
    "    train_subsampler = torch.utils.data.SubsetRandomSampler(train_ids)\n",
    "    test_subsampler = torch.utils.data.SubsetRandomSampler(test_ids)\n",
    "\n",
    "    # Define data loaders for training and testing data in this fold\n",
    "    train_dl = torch.utils.data.DataLoader(\n",
    "                      dataset, \n",
    "                      batch_size=32, sampler=train_subsampler)\n",
    "    val_dl = torch.utils.data.DataLoader(\n",
    "                      dataset,\n",
    "                      batch_size=32, sampler=test_subsampler)\n",
    "\n",
    "    model = Conv1D_OneChannel()\n",
    "    optimizer = Adam(model.parameters(), lr=learning_rate)\n",
    "    # defining the loss function\n",
    "    criterion = nn.MSELoss()\n",
    "    # checking if GPU is available\n",
    "    if torch.cuda.is_available():\n",
    "        model = model.cuda()\n",
    "        criterion = criterion.cuda()\n",
    "    \n",
    "    for epoch in range(1, num_epochs + 1):\n",
    "        train_loss , rho_train = train_epoch( model, optimizer, criterion, train_dl, epoch)\n",
    "       \n",
    "\n",
    "        \n",
    "    \n",
    "    \n",
    "    test_loss , rho_test = test_epoch(model, criterion, val_dl)\n",
    "        \n",
    "\n",
    "    train_loss_history.append(train_loss)\n",
    "    train_rho_history.append(rho_train)\n",
    "    test_loss_history.append(test_loss)\n",
    "    test_rho_history.append(rho_test)\n",
    "\n",
    "    \n",
    "    \n",
    "    print(f'for fold {fold} : \\n train_loss :  {train_loss}     test_loss : {test_loss} \\n \\n')\n",
    "    \n",
    "    \n",
    "    \n",
    " \n"
   ]
  },
  {
   "cell_type": "markdown",
   "metadata": {},
   "source": [
    "7. Train the model and create plots"
   ]
  },
  {
   "cell_type": "code",
   "execution_count": 20,
   "metadata": {},
   "outputs": [
    {
     "name": "stderr",
     "output_type": "stream",
     "text": [
      "/home/ml4science/anaconda3/lib/python3.9/site-packages/torch/nn/functional.py:1331: UserWarning: dropout2d: Received a 2-D input to dropout2d, which is deprecated and will result in an error in a future release. To retain the behavior and silence this warning, please use dropout instead. Note that dropout2d exists to provide channel-wise dropout on inputs with 2 spatial dimensions, a channel dimension, and an optional batch dimension (i.e. 3D or 4D inputs).\n",
      "  warnings.warn(warn_msg)\n"
     ]
    },
    {
     "name": "stdout",
     "output_type": "stream",
     "text": [
      "Test set: Average loss: 1.47e+02 \n",
      "Test set: Average loss: 1.37e+02 \n",
      "Test set: Average loss: 1.09e+02 \n",
      "Test set: Average loss: 1.21e+02 \n",
      "Test set: Average loss: 1.30e+02 \n",
      "Test set: Average loss: 1.07e+02 \n",
      "Test set: Average loss: 1.30e+02 \n",
      "Test set: Average loss: 1.09e+02 \n",
      "Test set: Average loss: 1.16e+02 \n",
      "Test set: Average loss: 1.02e+02 \n",
      "Test set: Average loss: 1.07e+02 \n",
      "Test set: Average loss: 9.60e+01 \n",
      "Test set: Average loss: 1.09e+02 \n",
      "Test set: Average loss: 9.93e+01 \n",
      "Test set: Average loss: 9.33e+01 \n",
      "Test set: Average loss: 9.77e+01 \n",
      "Test set: Average loss: 9.33e+01 \n",
      "Test set: Average loss: 9.27e+01 \n",
      "Test set: Average loss: 9.42e+01 \n",
      "Test set: Average loss: 9.57e+01 \n",
      "Test set: Average loss: 1.00e+02 \n",
      "Test set: Average loss: 9.32e+01 \n",
      "Test set: Average loss: 9.08e+01 \n",
      "Test set: Average loss: 8.99e+01 \n",
      "Test set: Average loss: 9.26e+01 \n",
      "Test set: Average loss: 9.19e+01 \n",
      "Test set: Average loss: 9.11e+01 \n",
      "Test set: Average loss: 1.00e+02 \n",
      "Test set: Average loss: 9.18e+01 \n",
      "Test set: Average loss: 8.90e+01 \n",
      "Test set: Average loss: 1.17e+02 \n",
      "Test set: Average loss: 9.37e+01 \n",
      "Test set: Average loss: 8.94e+01 \n",
      "Test set: Average loss: 9.08e+01 \n",
      "Test set: Average loss: 8.98e+01 \n",
      "Test set: Average loss: 1.12e+02 \n",
      "Test set: Average loss: 8.79e+01 \n",
      "Test set: Average loss: 1.19e+02 \n",
      "Test set: Average loss: 8.94e+01 \n",
      "Test set: Average loss: 9.18e+01 \n",
      "Test set: Average loss: 9.40e+01 \n",
      "Test set: Average loss: 9.81e+01 \n",
      "Test set: Average loss: 8.81e+01 \n",
      "Test set: Average loss: 8.84e+01 \n",
      "Test set: Average loss: 9.45e+01 \n",
      "Test set: Average loss: 8.57e+01 \n",
      "Test set: Average loss: 9.05e+01 \n",
      "Test set: Average loss: 8.94e+01 \n",
      "Test set: Average loss: 8.75e+01 \n",
      "Train Epoch: 50  loss=6.19e+01 \n",
      "Test set: Average loss: 9.29e+01 \n",
      "Test set: Average loss: 8.90e+01 \n",
      "Test set: Average loss: 8.53e+01 \n",
      "Test set: Average loss: 8.89e+01 \n",
      "Test set: Average loss: 9.09e+01 \n",
      "Test set: Average loss: 8.94e+01 \n",
      "Test set: Average loss: 9.27e+01 \n",
      "Test set: Average loss: 8.57e+01 \n",
      "Test set: Average loss: 9.65e+01 \n",
      "Test set: Average loss: 8.79e+01 \n",
      "Test set: Average loss: 9.18e+01 \n",
      "Test set: Average loss: 8.71e+01 \n",
      "Test set: Average loss: 1.00e+02 \n",
      "Test set: Average loss: 8.75e+01 \n",
      "Test set: Average loss: 8.83e+01 \n",
      "Test set: Average loss: 9.15e+01 \n",
      "Test set: Average loss: 9.30e+01 \n",
      "Test set: Average loss: 1.00e+02 \n",
      "Test set: Average loss: 9.88e+01 \n",
      "Test set: Average loss: 8.76e+01 \n",
      "Test set: Average loss: 9.06e+01 \n",
      "Test set: Average loss: 1.01e+02 \n",
      "Test set: Average loss: 9.49e+01 \n",
      "Test set: Average loss: 8.96e+01 \n",
      "Test set: Average loss: 8.96e+01 \n",
      "Test set: Average loss: 9.15e+01 \n",
      "Test set: Average loss: 8.79e+01 \n",
      "Test set: Average loss: 9.04e+01 \n",
      "Test set: Average loss: 9.20e+01 \n",
      "Test set: Average loss: 9.22e+01 \n",
      "Test set: Average loss: 9.88e+01 \n",
      "Test set: Average loss: 9.38e+01 \n",
      "Test set: Average loss: 9.82e+01 \n",
      "Test set: Average loss: 9.59e+01 \n",
      "Test set: Average loss: 9.08e+01 \n",
      "Test set: Average loss: 8.96e+01 \n",
      "Test set: Average loss: 9.49e+01 \n",
      "Test set: Average loss: 9.18e+01 \n",
      "Test set: Average loss: 9.61e+01 \n",
      "Test set: Average loss: 9.40e+01 \n",
      "Test set: Average loss: 1.01e+02 \n",
      "Test set: Average loss: 8.94e+01 \n",
      "Test set: Average loss: 9.71e+01 \n",
      "Test set: Average loss: 9.44e+01 \n",
      "Test set: Average loss: 9.18e+01 \n",
      "Test set: Average loss: 8.95e+01 \n",
      "Test set: Average loss: 1.02e+02 \n",
      "Test set: Average loss: 9.58e+01 \n",
      "Test set: Average loss: 9.78e+01 \n",
      "Test set: Average loss: 9.86e+01 \n",
      "Train Epoch: 100  loss=4.92e+01 \n",
      "Test set: Average loss: 1.11e+02 \n"
     ]
    }
   ],
   "source": [
    "#Train model\n",
    "    \n",
    "train_loss_history = []\n",
    "test_loss_history = []\n",
    "train_rho_history = []\n",
    "test_rho_history = []\n",
    "for epoch in range(1, num_epochs + 1):\n",
    "    train_loss , rho_train = train_epoch(\n",
    "        model, optimizer, criterion, train_dl, epoch\n",
    "    )\n",
    "    train_loss_history.append(train_loss)\n",
    "    train_rho_history.append(rho_train)\n",
    "\n",
    "    \n",
    "    test_loss , rho_test = test_epoch(model, criterion, val_dl)\n",
    "    test_loss_history.append(test_loss)\n",
    "    test_rho_history.append(rho_test)\n",
    "   \n"
   ]
  },
  {
   "cell_type": "code",
   "execution_count": 21,
   "metadata": {},
   "outputs": [
    {
     "data": {
      "image/png": "[encoded data removed]",
      "text/plain": [
       "<Figure size 640x480 with 1 Axes>"
      ]
     },
     "metadata": {},
     "output_type": "display_data"
    }
   ],
   "source": [
    "#create loss plot\n",
    "\n",
    "plt.plot(train_loss_history, label='train loss')\n",
    "plt.plot(test_loss_history, label='test loss')\n",
    "plt.xlabel('Epoch')\n",
    "plt.ylabel('MSE')\n",
    "plt.title(' train and test MSE Loss')\n",
    "plt.legend()\n",
    "plt.savefig('6_optimized_CNN_loss.png')\n"
   ]
  },
  {
   "cell_type": "code",
   "execution_count": 22,
   "metadata": {},
   "outputs": [
    {
     "data": {
      "image/png": "[encoded data removed]",
      "text/plain": [
       "<Figure size 640x480 with 1 Axes>"
      ]
     },
     "metadata": {},
     "output_type": "display_data"
    }
   ],
   "source": [
    "#Spearman's coefficient plot\n",
    "plt.plot(train_rho_history, label='train rho')\n",
    "plt.plot(test_rho_history, label='test rho')\n",
    "plt.xlabel('Epoch')\n",
    "plt.ylabel('rho')\n",
    "plt.title(' Spearman\\'s rank correlation coefficient')\n",
    "plt.legend()\n",
    "plt.savefig('6-Optimized_CNN_tho.png')"
   ]
  },
  {
   "cell_type": "markdown",
   "metadata": {},
   "source": [
    "8. Create submission"
   ]
  },
  {
   "cell_type": "code",
   "execution_count": 23,
   "metadata": {},
   "outputs": [
    {
     "name": "stderr",
     "output_type": "stream",
     "text": [
      "/home/ml4science/anaconda3/lib/python3.9/site-packages/torch/nn/functional.py:1331: UserWarning: dropout2d: Received a 2-D input to dropout2d, which is deprecated and will result in an error in a future release. To retain the behavior and silence this warning, please use dropout instead. Note that dropout2d exists to provide channel-wise dropout on inputs with 2 spatial dimensions, a channel dimension, and an optional batch dimension (i.e. 3D or 4D inputs).\n",
      "  warnings.warn(warn_msg)\n"
     ]
    }
   ],
   "source": [
    "#Prediction for Kaggle's submission\n",
    "test_d = EnzymesDataset(test_df, False)\n",
    "\n",
    "# create pytorch dataloaders\n",
    "sub_dl = torch.utils.data.DataLoader(test_d, batch_size=batch_size, shuffle=True)\n",
    "submission_df =  predict(model,sub_dl)"
   ]
  },
  {
   "cell_type": "code",
   "execution_count": 27,
   "metadata": {},
   "outputs": [
    {
     "ename": "SyntaxError",
     "evalue": "invalid syntax (3678752899.py, line 3)",
     "output_type": "error",
     "traceback": [
      "\u001b[0;36m  File \u001b[0;32m\"/tmp/ipykernel_1411985/3678752899.py\"\u001b[0;36m, line \u001b[0;32m3\u001b[0m\n\u001b[0;31m    sub = sub.drop(columns=['protein_sequence','pH','data_source'])sub.to_csv('6-Optimized_CNN.csv', index=True)\u001b[0m\n\u001b[0m                                                                   ^\u001b[0m\n\u001b[0;31mSyntaxError\u001b[0m\u001b[0;31m:\u001b[0m invalid syntax\n"
     ]
    }
   ],
   "source": [
    "sub = pd.read_csv(path+ 'test.csv',index_col='seq_id')\n",
    "sub['tm']=submission_df\n",
    "sub = sub.drop(columns=['protein_sequence','pH','data_source'])"
   ]
  },
  {
   "cell_type": "code",
   "execution_count": 29,
   "metadata": {},
   "outputs": [],
   "source": [
    "sub.to_csv('6-Optimized_CNN.csv', index=True)"
   ]
  }
 ],
 "metadata": {
  "kernelspec": {
   "display_name": "Python 3 (ipykernel)",
   "language": "python",
   "name": "python3"
  },
  "language_info": {
   "codemirror_mode": {
    "name": "ipython",
    "version": 3
   },
   "file_extension": ".py",
   "mimetype": "text/x-python",
   "name": "python",
   "nbconvert_exporter": "python",
   "pygments_lexer": "ipython3",
   "version": "3.9.13"
  },
  "vscode": {
   "interpreter": {
    "hash": "a401f25d14e4726c47ec3d51a0ef0f076129e7cc070ddb98f69a4ab74ec023d7"
   }
  }
 },
 "nbformat": 4,
 "nbformat_minor": 4
}
