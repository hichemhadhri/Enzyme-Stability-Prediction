{
 "cells": [
  {
   "cell_type": "markdown",
   "metadata": {
    "id": "DupCLlNQ5z-A"
   },
   "source": [
    "# Language model :ProtBert  \n"
   ]
  },
  {
   "cell_type": "markdown",
   "metadata": {
    "tags": []
   },
   "source": [
    "### Note :This notebook was ran on google colab \n",
    "\n",
    "submission in folder under the name `submission_prot.csv`\n"
   ]
  },
  {
   "cell_type": "code",
   "execution_count": 4,
   "metadata": {
    "colab": {
     "base_uri": "https://localhost:8080/"
    },
    "executionInfo": {
     "elapsed": 24362,
     "status": "ok",
     "timestamp": 1671716142517,
     "user": {
      "displayName": "Hichem Hadhri",
      "userId": "12616591780675551937"
     },
     "user_tz": -60
    },
    "id": "_Dc_icJr51ls",
    "outputId": "7750a895-2779-4cfe-9e79-377ef149fd3d"
   },
   "outputs": [
    {
     "name": "stdout",
     "output_type": "stream",
     "text": [
      "Mounted at /content/drive\n"
     ]
    }
   ],
   "source": [
    "from google.colab import drive\n",
    "drive.mount('/content/drive')"
   ]
  },
  {
   "cell_type": "code",
   "execution_count": 5,
   "metadata": {
    "executionInfo": {
     "elapsed": 20997,
     "status": "ok",
     "timestamp": 1671716163509,
     "user": {
      "displayName": "Hichem Hadhri",
      "userId": "12616591780675551937"
     },
     "user_tz": -60
    },
    "id": "BDagHWuT5z-E"
   },
   "outputs": [],
   "source": [
    "import pandas as pd\n",
    "import numpy as np \n",
    "import matplotlib.pyplot as plt\n",
    "import torch \n",
    "from torch.utils.data import Dataset\n",
    "import torch.nn as nn\n",
    "from torch.nn import Linear, ReLU, CrossEntropyLoss, Sequential, Conv2d, MaxPool2d, Module, Softmax, BatchNorm2d, Dropout\n",
    "from torch.optim import Adam\n",
    "\n",
    "from scipy.stats import spearmanr\n",
    "from scipy.stats import rankdata\n",
    "import os\n",
    "os.system('pip install tokenizers')\n",
    "os.system('pip install transformers')\n",
    "from transformers import BertModel, BertTokenizer\n",
    "from sklearn.metrics import mean_squared_error\n",
    "from sklearn import metrics\n",
    "\n",
    "from transformers import AutoTokenizer, AutoModel, AutoConfig\n",
    "\n"
   ]
  },
  {
   "cell_type": "markdown",
   "metadata": {
    "id": "gPNqhuYz5z-G"
   },
   "source": [
    "Global Constants"
   ]
  },
  {
   "cell_type": "code",
   "execution_count": 6,
   "metadata": {
    "executionInfo": {
     "elapsed": 9,
     "status": "ok",
     "timestamp": 1671716163509,
     "user": {
      "displayName": "Hichem Hadhri",
      "userId": "12616591780675551937"
     },
     "user_tz": -60
    },
    "id": "OXUPk-Mv5z-G"
   },
   "outputs": [],
   "source": [
    "MODEL = 'Rostlab/prot_bert'\n",
    "SAVE_PATH = '/content/drive/MyDrive/ml/data/'\n",
    "\n",
    "MAX_LEN = 512 # protein sequence max length \n",
    "BATCH_SIZE = 6\n",
    "VER =1 # version of experiment"
   ]
  },
  {
   "cell_type": "markdown",
   "metadata": {
    "id": "v_ofWMGI5z-G"
   },
   "source": [
    "1. Load the dataset  lean_train_data.csv (from kaggle)"
   ]
  },
  {
   "cell_type": "code",
   "execution_count": 7,
   "metadata": {
    "executionInfo": {
     "elapsed": 2858,
     "status": "ok",
     "timestamp": 1671716166359,
     "user": {
      "displayName": "Hichem Hadhri",
      "userId": "12616591780675551937"
     },
     "user_tz": -60
    },
    "id": "hHvwKMDL5z-H"
   },
   "outputs": [],
   "source": [
    "\n",
    "#### put in function ####\n",
    "path = '/content/drive/MyDrive/ml/data/'\n",
    "\n",
    "train = pd.read_csv(path+'clean_train_data.csv')\n",
    "train = train.drop(columns=['operation','position2','change1','change2','pH2','group2','data_source1','data_source2'])\n",
    "train = train.rename(columns={\"position1\": \"position\"})\n",
    "\n",
    "test = pd.read_csv(path+'test_mutations.csv')\n",
    "submission = pd.read_csv(path+'sample_submission.csv')\n"
   ]
  },
  {
   "cell_type": "code",
   "execution_count": 15,
   "metadata": {
    "executionInfo": {
     "elapsed": 2,
     "status": "ok",
     "timestamp": 1671711817420,
     "user": {
      "displayName": "Hichem Hadhri",
      "userId": "12616591780675551937"
     },
     "user_tz": -60
    },
    "id": "1gFMlTbk5z-H"
   },
   "outputs": [],
   "source": []
  },
  {
   "cell_type": "code",
   "execution_count": 8,
   "metadata": {
    "executionInfo": {
     "elapsed": 11,
     "status": "ok",
     "timestamp": 1671716166359,
     "user": {
      "displayName": "Hichem Hadhri",
      "userId": "12616591780675551937"
     },
     "user_tz": -60
    },
    "id": "EpztCVEf5z-H"
   },
   "outputs": [],
   "source": [
    "# test wildtype sequence (original sequence)\n",
    "test_wildtype = 'VPVNPEPDATSVENVALKTGSGDSQSDPIKADLEVKGQSALPFDVDCWAILCKGAPNVLQRVNEKTKNSNRDRSGANKGPFKDPQKWGIKALPPKNPSWSAQDFKSPEEYAFASSLQGGTNAILAPVNLASQNSQGGVLNGFYSANKVAQFDPSKPQQTKGTWFQITKFTGAAGPYCKALGSNDKSVCDKNKNIAGDWGFDPAKWAYQYDEKNNKFNYVGK'\n",
    "\n",
    "# add to dataframe\n",
    "test['protSeq1'] = test_wildtype\n",
    "\n",
    "#rename columns to match train\n",
    "test = test.rename(columns = {'protein_sequence':'protSeq2','modif':'position'})"
   ]
  },
  {
   "cell_type": "code",
   "execution_count": 9,
   "metadata": {
    "executionInfo": {
     "elapsed": 11,
     "status": "ok",
     "timestamp": 1671716166360,
     "user": {
      "displayName": "Hichem Hadhri",
      "userId": "12616591780675551937"
     },
     "user_tz": -60
    },
    "id": "j6MAtZev5z-I"
   },
   "outputs": [],
   "source": [
    "# add spaces betwwen Amnino acids letter to tokenize\n",
    "def add_spaces(x):\n",
    "    return \" \".join(list(x))\n",
    "\n",
    "\n",
    "train.protSeq1 = train.protSeq1.map(add_spaces)\n",
    "train.protSeq2 = train.protSeq2.map(add_spaces)\n",
    "\n",
    "test.protSeq1 = test.protSeq1.map(add_spaces)\n",
    "test.protSeq2 = test.protSeq2.map(add_spaces)"
   ]
  },
  {
   "cell_type": "markdown",
   "metadata": {
    "id": "lvf5R-av5z-I"
   },
   "source": [
    "As mentioned in the report, we rank normalize the train data **dtm** for each group that have the same wildtype and different mutations. We saw a significant increase in the spearman correlation coefficient on test set as the model is trying to learn ranking of mutations for each group rather than just the mutation itself."
   ]
  },
  {
   "cell_type": "code",
   "execution_count": 10,
   "metadata": {
    "executionInfo": {
     "elapsed": 10,
     "status": "ok",
     "timestamp": 1671716166360,
     "user": {
      "displayName": "Hichem Hadhri",
      "userId": "12616591780675551937"
     },
     "user_tz": -60
    },
    "id": "tW1P2IRX5z-J"
   },
   "outputs": [],
   "source": [
    "# rank normalize the dTm for each group of mutations \n",
    "for p in train.group1.unique():\n",
    "    target = 'target'\n",
    "    train.loc[train.group1==p,'target'] =\\\n",
    "        rankdata( train.loc[train.group1==p,target] )/len( train.loc[train.group1==p,target] )\n",
    "train = train.reset_index(drop=True)"
   ]
  },
  {
   "cell_type": "code",
   "execution_count": 11,
   "metadata": {
    "executionInfo": {
     "elapsed": 9,
     "status": "ok",
     "timestamp": 1671716166360,
     "user": {
      "displayName": "Hichem Hadhri",
      "userId": "12616591780675551937"
     },
     "user_tz": -60
    },
    "id": "DScV0Tuj5z-J"
   },
   "outputs": [],
   "source": [
    "# reset index (to pass to dataset)\n",
    "train = train.reset_index(drop=True)\n",
    "test  = test.reset_index(drop=True)"
   ]
  },
  {
   "cell_type": "code",
   "execution_count": 9,
   "metadata": {
    "colab": {
     "base_uri": "https://localhost:8080/"
    },
    "executionInfo": {
     "elapsed": 671,
     "status": "ok",
     "timestamp": 1671677464733,
     "user": {
      "displayName": "Hichem Hadhri",
      "userId": "12616591780675551937"
     },
     "user_tz": -60
    },
    "id": "GWusB8qS5z-J",
    "outputId": "776935be-5db3-4147-eb82-096df2acb47c"
   },
   "outputs": [
    {
     "data": {
      "text/plain": [
       "('/content/drive/MyDrive/ml/data/tokenizer_config.json',\n",
       " '/content/drive/MyDrive/ml/data/special_tokens_map.json',\n",
       " '/content/drive/MyDrive/ml/data/vocab.txt',\n",
       " '/content/drive/MyDrive/ml/data/added_tokens.json',\n",
       " '/content/drive/MyDrive/ml/data/tokenizer.json')"
      ]
     },
     "execution_count": 9,
     "metadata": {},
     "output_type": "execute_result"
    }
   ],
   "source": [
    "# load pretrained Protbert tokenizer\n",
    "tokenizer = AutoTokenizer.from_pretrained(MODEL)\n",
    "tokenizer.save_pretrained(SAVE_PATH)"
   ]
  },
  {
   "cell_type": "code",
   "execution_count": 10,
   "metadata": {
    "colab": {
     "base_uri": "https://localhost:8080/",
     "height": 641
    },
    "executionInfo": {
     "elapsed": 11,
     "status": "ok",
     "timestamp": 1671677464734,
     "user": {
      "displayName": "Hichem Hadhri",
      "userId": "12616591780675551937"
     },
     "user_tz": -60
    },
    "id": "GbZSRL-H5z-K",
    "outputId": "f682c53e-bbb4-45b7-8b81-ddb0f18bea6f"
   },
   "outputs": [
    {
     "data": {
      "text/html": [
       "\n",
       "  <div id=\"df-de658e90-a045-4dfa-a0d0-f0cb8f15bd09\">\n",
       "    <div class=\"colab-df-container\">\n",
       "      <div>\n",
       "<style scoped>\n",
       "    .dataframe tbody tr th:only-of-type {\n",
       "        vertical-align: middle;\n",
       "    }\n",
       "\n",
       "    .dataframe tbody tr th {\n",
       "        vertical-align: top;\n",
       "    }\n",
       "\n",
       "    .dataframe thead th {\n",
       "        text-align: right;\n",
       "    }\n",
       "</style>\n",
       "<table border=\"1\" class=\"dataframe\">\n",
       "  <thead>\n",
       "    <tr style=\"text-align: right;\">\n",
       "      <th></th>\n",
       "      <th>protSeq1</th>\n",
       "      <th>protSeq2</th>\n",
       "      <th>position</th>\n",
       "      <th>pH1</th>\n",
       "      <th>tm1</th>\n",
       "      <th>group1</th>\n",
       "      <th>tm2</th>\n",
       "      <th>target</th>\n",
       "    </tr>\n",
       "  </thead>\n",
       "  <tbody>\n",
       "    <tr>\n",
       "      <th>0</th>\n",
       "      <td>M N A F E M L R I D E R L R L K I Y K D T E G ...</td>\n",
       "      <td>M N D F E M L R I D E R L R L K I Y K D T E G ...</td>\n",
       "      <td>2</td>\n",
       "      <td>6.5</td>\n",
       "      <td>62.9</td>\n",
       "      <td>5</td>\n",
       "      <td>56.2</td>\n",
       "      <td>0.043605</td>\n",
       "    </tr>\n",
       "    <tr>\n",
       "      <th>1</th>\n",
       "      <td>M N A F E M L R I D E R L R L K I Y K D T E G ...</td>\n",
       "      <td>M N E F E M L R I D E R L R L K I Y K D T E G ...</td>\n",
       "      <td>2</td>\n",
       "      <td>6.5</td>\n",
       "      <td>62.9</td>\n",
       "      <td>5</td>\n",
       "      <td>59.0</td>\n",
       "      <td>0.136628</td>\n",
       "    </tr>\n",
       "    <tr>\n",
       "      <th>2</th>\n",
       "      <td>M N A F E M L R I D E R L R L K I Y K D T E G ...</td>\n",
       "      <td>M N F F E M L R I D E R L R L K I Y K D T E G ...</td>\n",
       "      <td>2</td>\n",
       "      <td>6.5</td>\n",
       "      <td>62.9</td>\n",
       "      <td>5</td>\n",
       "      <td>61.7</td>\n",
       "      <td>0.380814</td>\n",
       "    </tr>\n",
       "    <tr>\n",
       "      <th>3</th>\n",
       "      <td>M N A F E M L R I D E R L R L K I Y K D T E G ...</td>\n",
       "      <td>M N G F E M L R I D E R L R L K I Y K D T E G ...</td>\n",
       "      <td>2</td>\n",
       "      <td>6.5</td>\n",
       "      <td>62.9</td>\n",
       "      <td>5</td>\n",
       "      <td>58.9</td>\n",
       "      <td>0.127907</td>\n",
       "    </tr>\n",
       "    <tr>\n",
       "      <th>4</th>\n",
       "      <td>M N A F E M L R I D E R L R L K I Y K D T E G ...</td>\n",
       "      <td>M N L F E M L R I D E R L R L K I Y K D T E G ...</td>\n",
       "      <td>2</td>\n",
       "      <td>6.5</td>\n",
       "      <td>62.9</td>\n",
       "      <td>5</td>\n",
       "      <td>65.6</td>\n",
       "      <td>0.741279</td>\n",
       "    </tr>\n",
       "    <tr>\n",
       "      <th>...</th>\n",
       "      <td>...</td>\n",
       "      <td>...</td>\n",
       "      <td>...</td>\n",
       "      <td>...</td>\n",
       "      <td>...</td>\n",
       "      <td>...</td>\n",
       "      <td>...</td>\n",
       "      <td>...</td>\n",
       "    </tr>\n",
       "    <tr>\n",
       "      <th>2291</th>\n",
       "      <td>M G C V Q C K D K E A T K L T E E R D G S L N ...</td>\n",
       "      <td>M G C V Q C K D K E A T K L T E E R D G S L N ...</td>\n",
       "      <td>86</td>\n",
       "      <td>8.0</td>\n",
       "      <td>52.9</td>\n",
       "      <td>57</td>\n",
       "      <td>65.5</td>\n",
       "      <td>0.794000</td>\n",
       "    </tr>\n",
       "    <tr>\n",
       "      <th>2292</th>\n",
       "      <td>M G C V Q C K D K E A T K L T E E R D G S L N ...</td>\n",
       "      <td>M G C V Q C K D K E A T K L T E E R D G S L N ...</td>\n",
       "      <td>86</td>\n",
       "      <td>8.0</td>\n",
       "      <td>52.9</td>\n",
       "      <td>57</td>\n",
       "      <td>78.8</td>\n",
       "      <td>0.944000</td>\n",
       "    </tr>\n",
       "    <tr>\n",
       "      <th>2293</th>\n",
       "      <td>M G C V Q C K D K E A T K L T E E R D G S L N ...</td>\n",
       "      <td>M G C V Q C K D K E A T K L T E E R D G S L N ...</td>\n",
       "      <td>86</td>\n",
       "      <td>8.0</td>\n",
       "      <td>78.8</td>\n",
       "      <td>57</td>\n",
       "      <td>71.2</td>\n",
       "      <td>0.330000</td>\n",
       "    </tr>\n",
       "    <tr>\n",
       "      <th>2294</th>\n",
       "      <td>M G C V Q C K D K E A T K L T E E R D G S L N ...</td>\n",
       "      <td>M G C V Q C K D K E A T K L T E E R D G S L N ...</td>\n",
       "      <td>86</td>\n",
       "      <td>8.0</td>\n",
       "      <td>78.8</td>\n",
       "      <td>57</td>\n",
       "      <td>65.5</td>\n",
       "      <td>0.199000</td>\n",
       "    </tr>\n",
       "    <tr>\n",
       "      <th>2295</th>\n",
       "      <td>M G C V Q C K D K E A T K L T E E R D G S L N ...</td>\n",
       "      <td>M G C V Q C K D K E A T K L T E E R D G S L N ...</td>\n",
       "      <td>86</td>\n",
       "      <td>8.0</td>\n",
       "      <td>78.8</td>\n",
       "      <td>57</td>\n",
       "      <td>52.9</td>\n",
       "      <td>0.058000</td>\n",
       "    </tr>\n",
       "  </tbody>\n",
       "</table>\n",
       "<p>2296 rows × 8 columns</p>\n",
       "</div>\n",
       "      <button class=\"colab-df-convert\" onclick=\"convertToInteractive('df-de658e90-a045-4dfa-a0d0-f0cb8f15bd09')\"\n",
       "              title=\"Convert this dataframe to an interactive table.\"\n",
       "              style=\"display:none;\">\n",
       "        \n",
       "  <svg xmlns=\"http://www.w3.org/2000/svg\" height=\"24px\"viewBox=\"0 0 24 24\"\n",
       "       width=\"24px\">\n",
       "    <path d=\"M0 0h24v24H0V0z\" fill=\"none\"/>\n",
       "    <path d=\"M18.56 5.44l.94 2.06.94-2.06 2.06-.94-2.06-.94-.94-2.06-.94 2.06-2.06.94zm-11 1L8.5 8.5l.94-2.06 2.06-.94-2.06-.94L8.5 2.5l-.94 2.06-2.06.94zm10 10l.94 2.06.94-2.06 2.06-.94-2.06-.94-.94-2.06-.94 2.06-2.06.94z\"/><path d=\"M17.41 7.96l-1.37-1.37c-.4-.4-.92-.59-1.43-.59-.52 0-1.04.2-1.43.59L10.3 9.45l-7.72 7.72c-.78.78-.78 2.05 0 2.83L4 21.41c.39.39.9.59 1.41.59.51 0 1.02-.2 1.41-.59l7.78-7.78 2.81-2.81c.8-.78.8-2.07 0-2.86zM5.41 20L4 18.59l7.72-7.72 1.47 1.35L5.41 20z\"/>\n",
       "  </svg>\n",
       "      </button>\n",
       "      \n",
       "  <style>\n",
       "    .colab-df-container {\n",
       "      display:flex;\n",
       "      flex-wrap:wrap;\n",
       "      gap: 12px;\n",
       "    }\n",
       "\n",
       "    .colab-df-convert {\n",
       "      background-color: #E8F0FE;\n",
       "      border: none;\n",
       "      border-radius: 50%;\n",
       "      cursor: pointer;\n",
       "      display: none;\n",
       "      fill: #1967D2;\n",
       "      height: 32px;\n",
       "      padding: 0 0 0 0;\n",
       "      width: 32px;\n",
       "    }\n",
       "\n",
       "    .colab-df-convert:hover {\n",
       "      background-color: #E2EBFA;\n",
       "      box-shadow: 0px 1px 2px rgba(60, 64, 67, 0.3), 0px 1px 3px 1px rgba(60, 64, 67, 0.15);\n",
       "      fill: #174EA6;\n",
       "    }\n",
       "\n",
       "    [theme=dark] .colab-df-convert {\n",
       "      background-color: #3B4455;\n",
       "      fill: #D2E3FC;\n",
       "    }\n",
       "\n",
       "    [theme=dark] .colab-df-convert:hover {\n",
       "      background-color: #434B5C;\n",
       "      box-shadow: 0px 1px 3px 1px rgba(0, 0, 0, 0.15);\n",
       "      filter: drop-shadow(0px 1px 2px rgba(0, 0, 0, 0.3));\n",
       "      fill: #FFFFFF;\n",
       "    }\n",
       "  </style>\n",
       "\n",
       "      <script>\n",
       "        const buttonEl =\n",
       "          document.querySelector('#df-de658e90-a045-4dfa-a0d0-f0cb8f15bd09 button.colab-df-convert');\n",
       "        buttonEl.style.display =\n",
       "          google.colab.kernel.accessAllowed ? 'block' : 'none';\n",
       "\n",
       "        async function convertToInteractive(key) {\n",
       "          const element = document.querySelector('#df-de658e90-a045-4dfa-a0d0-f0cb8f15bd09');\n",
       "          const dataTable =\n",
       "            await google.colab.kernel.invokeFunction('convertToInteractive',\n",
       "                                                     [key], {});\n",
       "          if (!dataTable) return;\n",
       "\n",
       "          const docLinkHtml = 'Like what you see? Visit the ' +\n",
       "            '<a target=\"_blank\" href=https://colab.research.google.com/notebooks/data_table.ipynb>data table notebook</a>'\n",
       "            + ' to learn more about interactive tables.';\n",
       "          element.innerHTML = '';\n",
       "          dataTable['output_type'] = 'display_data';\n",
       "          await google.colab.output.renderOutput(dataTable, element);\n",
       "          const docLink = document.createElement('div');\n",
       "          docLink.innerHTML = docLinkHtml;\n",
       "          element.appendChild(docLink);\n",
       "        }\n",
       "      </script>\n",
       "    </div>\n",
       "  </div>\n",
       "  "
      ],
      "text/plain": [
       "                                               protSeq1  \\\n",
       "0     M N A F E M L R I D E R L R L K I Y K D T E G ...   \n",
       "1     M N A F E M L R I D E R L R L K I Y K D T E G ...   \n",
       "2     M N A F E M L R I D E R L R L K I Y K D T E G ...   \n",
       "3     M N A F E M L R I D E R L R L K I Y K D T E G ...   \n",
       "4     M N A F E M L R I D E R L R L K I Y K D T E G ...   \n",
       "...                                                 ...   \n",
       "2291  M G C V Q C K D K E A T K L T E E R D G S L N ...   \n",
       "2292  M G C V Q C K D K E A T K L T E E R D G S L N ...   \n",
       "2293  M G C V Q C K D K E A T K L T E E R D G S L N ...   \n",
       "2294  M G C V Q C K D K E A T K L T E E R D G S L N ...   \n",
       "2295  M G C V Q C K D K E A T K L T E E R D G S L N ...   \n",
       "\n",
       "                                               protSeq2  position  pH1   tm1  \\\n",
       "0     M N D F E M L R I D E R L R L K I Y K D T E G ...         2  6.5  62.9   \n",
       "1     M N E F E M L R I D E R L R L K I Y K D T E G ...         2  6.5  62.9   \n",
       "2     M N F F E M L R I D E R L R L K I Y K D T E G ...         2  6.5  62.9   \n",
       "3     M N G F E M L R I D E R L R L K I Y K D T E G ...         2  6.5  62.9   \n",
       "4     M N L F E M L R I D E R L R L K I Y K D T E G ...         2  6.5  62.9   \n",
       "...                                                 ...       ...  ...   ...   \n",
       "2291  M G C V Q C K D K E A T K L T E E R D G S L N ...        86  8.0  52.9   \n",
       "2292  M G C V Q C K D K E A T K L T E E R D G S L N ...        86  8.0  52.9   \n",
       "2293  M G C V Q C K D K E A T K L T E E R D G S L N ...        86  8.0  78.8   \n",
       "2294  M G C V Q C K D K E A T K L T E E R D G S L N ...        86  8.0  78.8   \n",
       "2295  M G C V Q C K D K E A T K L T E E R D G S L N ...        86  8.0  78.8   \n",
       "\n",
       "      group1   tm2    target  \n",
       "0          5  56.2  0.043605  \n",
       "1          5  59.0  0.136628  \n",
       "2          5  61.7  0.380814  \n",
       "3          5  58.9  0.127907  \n",
       "4          5  65.6  0.741279  \n",
       "...      ...   ...       ...  \n",
       "2291      57  65.5  0.794000  \n",
       "2292      57  78.8  0.944000  \n",
       "2293      57  71.2  0.330000  \n",
       "2294      57  65.5  0.199000  \n",
       "2295      57  52.9  0.058000  \n",
       "\n",
       "[2296 rows x 8 columns]"
      ]
     },
     "execution_count": 10,
     "metadata": {},
     "output_type": "execute_result"
    }
   ],
   "source": [
    "train"
   ]
  },
  {
   "cell_type": "code",
   "execution_count": 12,
   "metadata": {
    "executionInfo": {
     "elapsed": 10,
     "status": "ok",
     "timestamp": 1671716166361,
     "user": {
      "displayName": "Hichem Hadhri",
      "userId": "12616591780675551937"
     },
     "user_tz": -60
    },
    "id": "71eXB3XN5z-K"
   },
   "outputs": [],
   "source": [
    "def prepare_input(tokenizer, text):\n",
    "    # tokenize text (add special tokens and pad/truncate to max length)\n",
    "    inputs = tokenizer.encode_plus(\n",
    "        text, \n",
    "        return_tensors=None, \n",
    "        add_special_tokens=True, \n",
    "        max_length=MAX_LEN,\n",
    "        pad_to_max_length=True,\n",
    "        truncation=True\n",
    "    )\n",
    "    for k, v in inputs.items():\n",
    "        inputs[k] = torch.tensor(v, dtype=torch.long)\n",
    "    return inputs\n",
    "\n",
    "\n",
    "class MutationDataset(Dataset):\n",
    "    def __init__(self,tokenizer, df):\n",
    "        self.tokenizer = tokenizer\n",
    "       \n",
    "        self.inputs1 = df['protSeq1'].values\n",
    "        self.inputs2 = df['protSeq2'].values\n",
    "        self.position = df['position'].values\n",
    "        self.labels = df['target'].values\n",
    "\n",
    "    def __len__(self):\n",
    "        return len(self.inputs1)\n",
    "\n",
    "    def __getitem__(self, item):\n",
    "\n",
    "        #tokenize input texts\n",
    "        inputs1 = prepare_input(self.tokenizer, self.inputs1[item])\n",
    "        inputs2 = prepare_input(self.tokenizer, self.inputs2[item])\n",
    "        \n",
    "        # do one hot encoding of position \n",
    "        position = np.zeros(MAX_LEN)\n",
    "        position[self.position[item]] = 1\n",
    "\n",
    "        position = torch.tensor(position, dtype=torch.int8)\n",
    "        label = torch.tensor(self.labels[item], dtype=torch.float)\n",
    "       \n",
    "        return inputs1, inputs2, position, label \n",
    "    "
   ]
  },
  {
   "cell_type": "code",
   "execution_count": 13,
   "metadata": {
    "executionInfo": {
     "elapsed": 9,
     "status": "ok",
     "timestamp": 1671716166361,
     "user": {
      "displayName": "Hichem Hadhri",
      "userId": "12616591780675551937"
     },
     "user_tz": -60
    },
    "id": "dljpOOkp5z-K"
   },
   "outputs": [],
   "source": [
    "# ====================================================\n",
    "# Model\n",
    "# ====================================================\n",
    "class MeanPooling(nn.Module):\n",
    "    def __init__(self):\n",
    "        super(MeanPooling, self).__init__()\n",
    "        \n",
    "    def forward(self, last_hidden_state, attention_mask):\n",
    "        # expandig the attention mask to match the shape of the hidden states\n",
    "        input_mask_expanded = attention_mask.unsqueeze(-1).expand(last_hidden_state.size()).float()\n",
    "\n",
    "        #averaging the embeddings\n",
    "        sum_embeddings = torch.sum(last_hidden_state * input_mask_expanded, 1)\n",
    "        sum_mask = input_mask_expanded.sum(1)\n",
    "        sum_mask = torch.clamp(sum_mask, min=1e-9)\n",
    "        mean_embeddings = sum_embeddings / sum_mask\n",
    "\n",
    "        return mean_embeddings\n",
    "    \n",
    "\n",
    "class ProtBertStab(nn.Module):\n",
    "    def __init__(self, config_path=None, pretrained=False):\n",
    "        super().__init__()\n",
    "       \n",
    "        # for model loading\n",
    "        if config_path is None:\n",
    "            self.config = AutoConfig.from_pretrained(MODEL, output_hidden_states=True)\n",
    "        else:\n",
    "            # for model inference\n",
    "            self.config = torch.load(config_path)\n",
    "        if pretrained:\n",
    "            # load pretrained model\n",
    "            self.model = AutoModel.from_pretrained(MODEL, config=self.config)\n",
    "        else:\n",
    "            # load model from config\n",
    "            self.model = AutoModel.from_config(self.config)\n",
    "      \n",
    "\n",
    "\n",
    "        self.pool = MeanPooling() # for mean pooling\n",
    "\n",
    "         # modify last layer \n",
    "        self.lin = nn.Linear(self.config.hidden_size,64)\n",
    "\n",
    "        # add layer to predict dTm\n",
    "        self.fc = nn.Linear(64*3,1)\n",
    "            \n",
    "        \n",
    "         \n",
    "            \n",
    "            \n",
    "       \n",
    "        \n",
    "    def feature(self, inputs,position):\n",
    "        \n",
    "        outputs = self.model(**inputs)\n",
    "        last_hidden_states = outputs[0]\n",
    "        \n",
    "        feature = self.pool(last_hidden_states, position)\n",
    "        return feature\n",
    "\n",
    "    def forward(self, inputs1,inputs2,position):\n",
    "        #get embedding from model \n",
    "        feature1 = self.lin(self.feature(inputs1,inputs1['attention_mask']))\n",
    "        feature2 = self.lin(self.feature(inputs2,inputs2['attention_mask']))\n",
    "       \n",
    "        # create 4  channel tensor with the 4 embeddings\n",
    "        feature = torch.concat((feature1, feature2, feature2 - feature1),axis=1)\n",
    "        #concatenate all the features with the difference between each two features (we study the difference in melting point)\n",
    "       \n",
    "\n",
    "        output = self.fc(feature)\n",
    "        \n",
    "\n",
    "        \n",
    "  \n",
    "        return output.squeeze()"
   ]
  },
  {
   "cell_type": "code",
   "execution_count": 14,
   "metadata": {
    "executionInfo": {
     "elapsed": 9,
     "status": "ok",
     "timestamp": 1671716166361,
     "user": {
      "displayName": "Hichem Hadhri",
      "userId": "12616591780675551937"
     },
     "user_tz": -60
    },
    "id": "B_riM8xO5z-L"
   },
   "outputs": [],
   "source": [
    "# Both from internet\n",
    "\n",
    "class RMSELoss(nn.Module):\n",
    "    def __init__(self, reduction='mean', eps=1e-9):\n",
    "        super().__init__()\n",
    "        self.mse = nn.MSELoss(reduction='none')\n",
    "        self.reduction = reduction\n",
    "        self.eps = eps\n",
    "\n",
    "    def forward(self, y_pred, y_true):\n",
    "        loss = torch.sqrt(self.mse(y_pred, y_true) + self.eps)\n",
    "        if self.reduction == 'none':\n",
    "            loss = loss\n",
    "        elif self.reduction == 'sum':\n",
    "            loss = loss.sum()\n",
    "        elif self.reduction == 'mean':\n",
    "            loss = loss.mean()\n",
    "        return loss\n",
    "\n",
    "class AverageMeter(object):\n",
    "    \"\"\"Computes and stores the average and current value\"\"\"\n",
    "    def __init__(self):\n",
    "        self.reset()\n",
    "\n",
    "    def reset(self):\n",
    "        self.val = 0\n",
    "        self.avg = 0\n",
    "        self.sum = 0\n",
    "        self.count = 0\n",
    "\n",
    "    def update(self, val, n=1):\n",
    "        if val == np.nan:\n",
    "          return\n",
    "        self.val = val\n",
    "        self.sum += val * n\n",
    "        self.count += n\n",
    "        self.avg = self.sum / self.count\n"
   ]
  },
  {
   "cell_type": "markdown",
   "metadata": {
    "id": "vYZRTXS65z-L"
   },
   "source": [
    "Training the model "
   ]
  },
  {
   "cell_type": "code",
   "execution_count": 14,
   "metadata": {
    "executionInfo": {
     "elapsed": 433,
     "status": "ok",
     "timestamp": 1671677465161,
     "user": {
      "displayName": "Hichem Hadhri",
      "userId": "12616591780675551937"
     },
     "user_tz": -60
    },
    "id": "avcZv8a35z-L"
   },
   "outputs": [],
   "source": [
    "#import KFold\n",
    "from sklearn.model_selection import KFold"
   ]
  },
  {
   "cell_type": "code",
   "execution_count": 16,
   "metadata": {
    "executionInfo": {
     "elapsed": 5,
     "status": "ok",
     "timestamp": 1671716174420,
     "user": {
      "displayName": "Hichem Hadhri",
      "userId": "12616591780675551937"
     },
     "user_tz": -60
    },
    "id": "35oUAikT5z-L"
   },
   "outputs": [],
   "source": [
    "device = torch.device('cuda' if torch.cuda.is_available() else 'cpu')"
   ]
  },
  {
   "cell_type": "code",
   "execution_count": 15,
   "metadata": {
    "executionInfo": {
     "elapsed": 6,
     "status": "ok",
     "timestamp": 1671677465162,
     "user": {
      "displayName": "Hichem Hadhri",
      "userId": "12616591780675551937"
     },
     "user_tz": -60
    },
    "id": "GXD9LI8B7i7r"
   },
   "outputs": [],
   "source": []
  },
  {
   "cell_type": "code",
   "execution_count": 15,
   "metadata": {
    "executionInfo": {
     "elapsed": 1,
     "status": "ok",
     "timestamp": 1671716171395,
     "user": {
      "displayName": "Hichem Hadhri",
      "userId": "12616591780675551937"
     },
     "user_tz": -60
    },
    "id": "sDi4TFPg5z-M"
   },
   "outputs": [],
   "source": [
    "def train_epoch(model, optimizer, criterion, train_loader, epoch):\n",
    "    model.train()\n",
    "    rho = AverageMeter()\n",
    "    train_loss = AverageMeter() \n",
    "   \n",
    "    for batch_idx, (inputs1, inputs2, position, target ) in enumerate(train_loader):\n",
    "        # inputs to device\n",
    "        for k, v in inputs1.items():\n",
    "            inputs1[k] = v.to(device)     \n",
    "        for k, v in inputs2.items():\n",
    "            inputs2[k] = v.to(device)\n",
    "        position = position.to(device)\n",
    "        target = target.to(device)\n",
    "       \n",
    "        #batch_size = target.size(0)\n",
    "\n",
    "        \n",
    "        output = model(inputs1,inputs2,position)\n",
    "        loss = criterion(output, target)\n",
    "\n",
    "\n",
    "        train_loss.update(loss.item(), target.shape[0])\n",
    "        rho.update(spearmanr(target.cpu().detach().numpy(), output.cpu().detach().numpy()).correlation, target.shape[0])\n",
    "        \n",
    "        loss.backward()\n",
    "        \n",
    "        optimizer.step()\n",
    "    \n",
    "        if batch_idx % 10 == 0:\n",
    "            print(f\"Train Epoch: {epoch} [{batch_idx * target.shape[0]}/{len(train_loader.dataset)} ({100. * batch_idx / len(train_loader):.0f}%)]\\tLoss: {train_loss.avg:.6f} \\t spearman: {rho.avg:.6f}\")\n",
    "\n",
    "    \n",
    "    \n",
    "\n",
    "    print(   f\"Train Epoch: {epoch} \" f\" loss={train_loss.avg:0.2e} \" f\" rho={rho.avg:0.2f} \" )\n",
    "    return train_loss.avg , rho.avg\n",
    "\n",
    "\n",
    "def test_epoch(model, criterion, test_loader):\n",
    "    model = model.eval()\n",
    "    test_loss = AverageMeter()\n",
    "    rho = AverageMeter()\n",
    "    with torch.no_grad():\n",
    "        for batch_idx, (inputs1, inputs2, position, target ) in enumerate(test_loader):\n",
    "            # inputs to device\n",
    "            for k, v in inputs1.items():\n",
    "                inputs1[k] = v.to(device)     \n",
    "            for k, v in inputs2.items():\n",
    "                inputs2[k] = v.to(device)\n",
    "            position = position.to(device)\n",
    "            target = target.to(device)\n",
    "           \n",
    "          \n",
    "            # predict\n",
    "            output = model(inputs1,inputs2,position)\n",
    "            loss = criterion(output, target)\n",
    "            test_loss.update(loss.item(), target.shape[0])\n",
    "            rho.update(spearmanr(target.cpu().detach().numpy(), output.cpu().detach().numpy()).correlation,target.shape[0])\n",
    "          \n",
    "\n",
    "            if batch_idx % 10 == 0:\n",
    "                print(f\"Test Epoch: [{batch_idx * target.shape[0]}/{len(test_loader.dataset)} ({100. * batch_idx / len(test_loader):.0f}%)]\\tLoss: {test_loss.avg:.6f} \\t spearman: {rho.avg:.6f}\")\n",
    "            \n",
    "\n",
    "    print(   f\"Test Epoch: \" f\" loss={test_loss.avg:0.2e} \" f\" rho={rho.avg:0.2f} \" )\n",
    "\n",
    "    return test_loss.avg ,rho.avg\n",
    "\n"
   ]
  },
  {
   "cell_type": "code",
   "execution_count": 17,
   "metadata": {
    "colab": {
     "base_uri": "https://localhost:8080/"
    },
    "executionInfo": {
     "elapsed": 3229496,
     "status": "ok",
     "timestamp": 1671680694653,
     "user": {
      "displayName": "Hichem Hadhri",
      "userId": "12616591780675551937"
     },
     "user_tz": -60
    },
    "id": "mzTPwL2U5z-M",
    "outputId": "799fbdac-6399-4b6c-f512-090cf52fa34e"
   },
   "outputs": [
    {
     "name": "stdout",
     "output_type": "stream",
     "text": [
      "FOLD 0\n",
      "--------------------------------\n"
     ]
    },
    {
     "name": "stderr",
     "output_type": "stream",
     "text": [
      "Some weights of the model checkpoint at Rostlab/prot_bert were not used when initializing BertModel: ['cls.predictions.bias', 'cls.predictions.decoder.bias', 'cls.predictions.transform.dense.bias', 'cls.seq_relationship.bias', 'cls.predictions.transform.LayerNorm.weight', 'cls.seq_relationship.weight', 'cls.predictions.transform.LayerNorm.bias', 'cls.predictions.decoder.weight', 'cls.predictions.transform.dense.weight']\n",
      "- This IS expected if you are initializing BertModel from the checkpoint of a model trained on another task or with another architecture (e.g. initializing a BertForSequenceClassification model from a BertForPreTraining model).\n",
      "- This IS NOT expected if you are initializing BertModel from the checkpoint of a model that you expect to be exactly identical (initializing a BertForSequenceClassification model from a BertForSequenceClassification model).\n",
      "/usr/local/lib/python3.8/dist-packages/transformers/tokenization_utils_base.py:2336: FutureWarning: The `pad_to_max_length` argument is deprecated and will be removed in a future version, use `padding=True` or `padding='longest'` to pad to the longest sequence in the batch, or use `padding='max_length'` to pad to a max length. In this case, you can give a specific length with `max_length` (e.g. `max_length=45`) or leave max_length to None to pad to the maximal input size of the model (e.g. 512 for Bert).\n",
      "  warnings.warn(\n"
     ]
    },
    {
     "name": "stdout",
     "output_type": "stream",
     "text": [
      "Train Epoch: 1 [0/2296 (0%)]\tLoss: 0.339859 \t spearman: -0.485714\n",
      "Train Epoch: 1 [30/2296 (3%)]\tLoss: 0.503134 \t spearman: -0.010238\n",
      "Train Epoch: 1 [60/2296 (7%)]\tLoss: 0.417750 \t spearman: -0.001361\n",
      "Train Epoch: 1 [90/2296 (10%)]\tLoss: 0.391066 \t spearman: 0.063594\n",
      "Train Epoch: 1 [120/2296 (13%)]\tLoss: 0.358406 \t spearman: 0.082927\n",
      "Train Epoch: 1 [150/2296 (16%)]\tLoss: 0.336285 \t spearman: 0.081232\n",
      "Train Epoch: 1 [180/2296 (20%)]\tLoss: 0.316753 \t spearman: 0.092272\n",
      "Train Epoch: 1 [210/2296 (23%)]\tLoss: 0.307072 \t spearman: 0.097787\n",
      "Train Epoch: 1 [240/2296 (26%)]\tLoss: 0.301294 \t spearman: 0.089947\n",
      "Train Epoch: 1 [270/2296 (29%)]\tLoss: 0.294091 \t spearman: 0.099529\n",
      "Train Epoch: 1 [300/2296 (33%)]\tLoss: 0.290610 \t spearman: 0.100990\n",
      "Train Epoch: 1 [330/2296 (36%)]\tLoss: 0.285515 \t spearman: 0.077477\n",
      "Train Epoch: 1 [360/2296 (39%)]\tLoss: 0.286886 \t spearman: 0.069185\n",
      "Train Epoch: 1 [390/2296 (42%)]\tLoss: 0.284104 \t spearman: 0.075249\n",
      "Train Epoch: 1 [420/2296 (46%)]\tLoss: 0.283799 \t spearman: 0.055859\n",
      "Train Epoch: 1 [450/2296 (49%)]\tLoss: 0.283330 \t spearman: 0.053412\n",
      "Train Epoch: 1 [480/2296 (52%)]\tLoss: 0.281943 \t spearman: 0.044891\n",
      "Train Epoch: 1 [510/2296 (56%)]\tLoss: 0.283060 \t spearman: 0.033578\n",
      "Train Epoch: 1 [540/2296 (59%)]\tLoss: 0.282377 \t spearman: 0.028998\n",
      "Train Epoch: 1 [570/2296 (62%)]\tLoss: 0.281856 \t spearman: 0.037775\n",
      "Train Epoch: 1 [600/2296 (65%)]\tLoss: 0.280143 \t spearman: 0.049542\n",
      "Train Epoch: 1 [630/2296 (69%)]\tLoss: 0.279675 \t spearman: 0.050444\n",
      "Train Epoch: 1 [660/2296 (72%)]\tLoss: 0.279806 \t spearman: 0.058762\n",
      "Train Epoch: 1 [690/2296 (75%)]\tLoss: 0.279336 \t spearman: 0.067874\n",
      "Train Epoch: 1 [720/2296 (78%)]\tLoss: 0.280139 \t spearman: 0.065891\n",
      "Train Epoch: 1 [750/2296 (82%)]\tLoss: 0.280454 \t spearman: 0.067352\n",
      "Train Epoch: 1 [780/2296 (85%)]\tLoss: 0.278600 \t spearman: 0.067602\n",
      "Train Epoch: 1 [810/2296 (88%)]\tLoss: 0.277598 \t spearman: 0.069324\n",
      "Train Epoch: 1 [840/2296 (92%)]\tLoss: 0.276415 \t spearman: 0.065293\n",
      "Train Epoch: 1 [870/2296 (95%)]\tLoss: 0.277072 \t spearman: 0.063038\n",
      "Train Epoch: 1 [900/2296 (98%)]\tLoss: 0.278741 \t spearman: 0.063489\n",
      "Train Epoch: 1  loss=2.79e-01  rho=0.06 \n",
      "Test Epoch: [0/2296 (0%)]\tLoss: 0.288564 \t spearman: -0.257143\n",
      "Test Epoch: [30/2296 (13%)]\tLoss: 0.308680 \t spearman: -0.075325\n",
      "Test Epoch: [60/2296 (26%)]\tLoss: 0.305335 \t spearman: 0.056299\n",
      "Test Epoch: [90/2296 (39%)]\tLoss: 0.299259 \t spearman: -0.031908\n",
      "Test Epoch: [120/2296 (52%)]\tLoss: 0.293765 \t spearman: -0.068313\n",
      "Test Epoch: [150/2296 (65%)]\tLoss: 0.299883 \t spearman: -0.040847\n",
      "Test Epoch: [180/2296 (78%)]\tLoss: 0.302643 \t spearman: -0.039125\n",
      "Test Epoch: [210/2296 (91%)]\tLoss: 0.305449 \t spearman: -0.036029\n",
      "Test Epoch:  loss=3.06e-01  rho=-0.02 \n",
      "Train Epoch: 2 [0/2296 (0%)]\tLoss: 0.497317 \t spearman: -0.085714\n",
      "Train Epoch: 2 [30/2296 (3%)]\tLoss: 0.309766 \t spearman: -0.092767\n",
      "Train Epoch: 2 [60/2296 (7%)]\tLoss: 0.308106 \t spearman: 0.012446\n",
      "Train Epoch: 2 [90/2296 (10%)]\tLoss: 0.288899 \t spearman: -0.105949\n",
      "Train Epoch: 2 [120/2296 (13%)]\tLoss: 0.277212 \t spearman: -0.099761\n",
      "Train Epoch: 2 [150/2296 (16%)]\tLoss: 0.272107 \t spearman: -0.099222\n",
      "Train Epoch: 2 [180/2296 (20%)]\tLoss: 0.273095 \t spearman: -0.073566\n",
      "Train Epoch: 2 [210/2296 (23%)]\tLoss: 0.274374 \t spearman: -0.067534\n",
      "Train Epoch: 2 [240/2296 (26%)]\tLoss: 0.272458 \t spearman: -0.069593\n",
      "Train Epoch: 2 [270/2296 (29%)]\tLoss: 0.274655 \t spearman: -0.066969\n",
      "Train Epoch: 2 [300/2296 (33%)]\tLoss: 0.279203 \t spearman: -0.067761\n",
      "Train Epoch: 2 [330/2296 (36%)]\tLoss: 0.280503 \t spearman: -0.065949\n",
      "Train Epoch: 2 [360/2296 (39%)]\tLoss: 0.280567 \t spearman: -0.068600\n",
      "Train Epoch: 2 [390/2296 (42%)]\tLoss: 0.279748 \t spearman: -0.076054\n",
      "Train Epoch: 2 [420/2296 (46%)]\tLoss: 0.278087 \t spearman: -0.065160\n",
      "Train Epoch: 2 [450/2296 (49%)]\tLoss: 0.276592 \t spearman: -0.060789\n",
      "Train Epoch: 2 [480/2296 (52%)]\tLoss: 0.274295 \t spearman: -0.048960\n",
      "Train Epoch: 2 [510/2296 (56%)]\tLoss: 0.275984 \t spearman: -0.058831\n",
      "Train Epoch: 2 [540/2296 (59%)]\tLoss: 0.276696 \t spearman: -0.044538\n",
      "Train Epoch: 2 [570/2296 (62%)]\tLoss: 0.278015 \t spearman: -0.043607\n",
      "Train Epoch: 2 [600/2296 (65%)]\tLoss: 0.281775 \t spearman: -0.044357\n",
      "Train Epoch: 2 [630/2296 (69%)]\tLoss: 0.284153 \t spearman: -0.048228\n",
      "Train Epoch: 2 [660/2296 (72%)]\tLoss: 0.287438 \t spearman: -0.054340\n",
      "Train Epoch: 2 [690/2296 (75%)]\tLoss: 0.286888 \t spearman: -0.060167\n",
      "Train Epoch: 2 [720/2296 (78%)]\tLoss: 0.285994 \t spearman: -0.059602\n",
      "Train Epoch: 2 [750/2296 (82%)]\tLoss: 0.285895 \t spearman: -0.059196\n",
      "Train Epoch: 2 [780/2296 (85%)]\tLoss: 0.284700 \t spearman: -0.063429\n",
      "Train Epoch: 2 [810/2296 (88%)]\tLoss: 0.284349 \t spearman: -0.055811\n",
      "Train Epoch: 2 [840/2296 (92%)]\tLoss: 0.283454 \t spearman: -0.054762\n",
      "Train Epoch: 2 [870/2296 (95%)]\tLoss: 0.283236 \t spearman: -0.048953\n",
      "Train Epoch: 2 [900/2296 (98%)]\tLoss: 0.283471 \t spearman: -0.040291\n",
      "Train Epoch: 2  loss=2.84e-01  rho=-0.04 \n",
      "Test Epoch: [0/2296 (0%)]\tLoss: 0.317591 \t spearman: 0.028571\n",
      "Test Epoch: [30/2296 (13%)]\tLoss: 0.314661 \t spearman: 0.061030\n",
      "Test Epoch: [60/2296 (26%)]\tLoss: 0.297570 \t spearman: 0.035930\n",
      "Test Epoch: [90/2296 (39%)]\tLoss: 0.305313 \t spearman: 0.006775\n",
      "Test Epoch: [120/2296 (52%)]\tLoss: 0.308023 \t spearman: -0.007421\n",
      "Test Epoch: [150/2296 (65%)]\tLoss: 0.308153 \t spearman: 0.008502\n",
      "Test Epoch: [180/2296 (78%)]\tLoss: 0.300826 \t spearman: 0.029450\n",
      "Test Epoch: [210/2296 (91%)]\tLoss: 0.293016 \t spearman: 0.038074\n",
      "Test Epoch:  loss=2.98e-01  rho=0.04 \n",
      "Train Epoch: 3 [0/2296 (0%)]\tLoss: 0.295316 \t spearman: 0.428571\n",
      "Train Epoch: 3 [30/2296 (3%)]\tLoss: 0.265598 \t spearman: 0.025254\n",
      "Train Epoch: 3 [60/2296 (7%)]\tLoss: 0.311967 \t spearman: -0.052078\n",
      "Train Epoch: 3 [90/2296 (10%)]\tLoss: 0.307593 \t spearman: 0.082203\n",
      "Train Epoch: 3 [120/2296 (13%)]\tLoss: 0.313050 \t spearman: 0.109026\n",
      "Train Epoch: 3 [150/2296 (16%)]\tLoss: 0.319248 \t spearman: 0.073741\n",
      "Train Epoch: 3 [180/2296 (20%)]\tLoss: 0.320516 \t spearman: 0.049033\n",
      "Train Epoch: 3 [210/2296 (23%)]\tLoss: 0.320607 \t spearman: 0.059277\n",
      "Train Epoch: 3 [240/2296 (26%)]\tLoss: 0.310965 \t spearman: 0.021806\n",
      "Train Epoch: 3 [270/2296 (29%)]\tLoss: 0.302868 \t spearman: 0.045910\n",
      "Train Epoch: 3 [300/2296 (33%)]\tLoss: 0.296255 \t spearman: 0.046021\n",
      "Train Epoch: 3 [330/2296 (36%)]\tLoss: 0.289612 \t spearman: 0.031448\n",
      "Train Epoch: 3 [360/2296 (39%)]\tLoss: 0.286629 \t spearman: 0.009546\n",
      "Train Epoch: 3 [390/2296 (42%)]\tLoss: 0.283393 \t spearman: 0.011500\n",
      "Train Epoch: 3 [420/2296 (46%)]\tLoss: 0.280908 \t spearman: 0.017563\n",
      "Train Epoch: 3 [450/2296 (49%)]\tLoss: 0.277746 \t spearman: 0.006822\n",
      "Train Epoch: 3 [480/2296 (52%)]\tLoss: 0.275743 \t spearman: -0.000899\n",
      "Train Epoch: 3 [510/2296 (56%)]\tLoss: 0.271513 \t spearman: -0.000699\n",
      "Train Epoch: 3 [540/2296 (59%)]\tLoss: 0.269912 \t spearman: -0.006871\n",
      "Train Epoch: 3 [570/2296 (62%)]\tLoss: 0.270152 \t spearman: -0.010435\n",
      "Train Epoch: 3 [600/2296 (65%)]\tLoss: 0.268970 \t spearman: -0.010643\n",
      "Train Epoch: 3 [630/2296 (69%)]\tLoss: 0.269019 \t spearman: -0.015406\n",
      "Train Epoch: 3 [660/2296 (72%)]\tLoss: 0.269283 \t spearman: -0.006387\n",
      "Train Epoch: 3 [690/2296 (75%)]\tLoss: 0.268704 \t spearman: -0.005262\n",
      "Train Epoch: 3 [720/2296 (78%)]\tLoss: 0.266516 \t spearman: -0.005536\n",
      "Train Epoch: 3 [750/2296 (82%)]\tLoss: 0.265878 \t spearman: -0.007213\n",
      "Train Epoch: 3 [780/2296 (85%)]\tLoss: 0.266243 \t spearman: -0.012156\n",
      "Train Epoch: 3 [810/2296 (88%)]\tLoss: 0.266051 \t spearman: -0.017589\n",
      "Train Epoch: 3 [840/2296 (92%)]\tLoss: 0.264903 \t spearman: -0.014743\n",
      "Train Epoch: 3 [870/2296 (95%)]\tLoss: 0.265500 \t spearman: -0.015891\n",
      "Train Epoch: 3 [900/2296 (98%)]\tLoss: 0.265898 \t spearman: -0.019093\n",
      "Train Epoch: 3  loss=2.65e-01  rho=-0.02 \n",
      "Test Epoch: [0/2296 (0%)]\tLoss: 0.311707 \t spearman: -0.716498\n",
      "Test Epoch: [30/2296 (13%)]\tLoss: 0.260585 \t spearman: 0.081852\n",
      "Test Epoch: [60/2296 (26%)]\tLoss: 0.275354 \t spearman: -0.030197\n",
      "Test Epoch: [90/2296 (39%)]\tLoss: 0.278184 \t spearman: 0.030690\n",
      "Test Epoch: [120/2296 (52%)]\tLoss: 0.278886 \t spearman: 0.067340\n",
      "Test Epoch: [150/2296 (65%)]\tLoss: 0.276166 \t spearman: 0.019690\n",
      "Test Epoch: [180/2296 (78%)]\tLoss: 0.276800 \t spearman: 0.045853\n",
      "Test Epoch: [210/2296 (91%)]\tLoss: 0.278192 \t spearman: 0.041454\n",
      "Test Epoch:  loss=2.77e-01  rho=0.04 \n",
      "Train Epoch: 4 [0/2296 (0%)]\tLoss: 0.319511 \t spearman: -0.338062\n",
      "Train Epoch: 4 [30/2296 (3%)]\tLoss: 0.221366 \t spearman: 0.108912\n",
      "Train Epoch: 4 [60/2296 (7%)]\tLoss: 0.231824 \t spearman: 0.108703\n",
      "Train Epoch: 4 [90/2296 (10%)]\tLoss: 0.236360 \t spearman: 0.066229\n",
      "Train Epoch: 4 [120/2296 (13%)]\tLoss: 0.239067 \t spearman: 0.014834\n",
      "Train Epoch: 4 [150/2296 (16%)]\tLoss: 0.249380 \t spearman: 0.005930\n",
      "Train Epoch: 4 [180/2296 (20%)]\tLoss: 0.254778 \t spearman: 0.008748\n",
      "Train Epoch: 4 [210/2296 (23%)]\tLoss: 0.252359 \t spearman: 0.001706\n",
      "Train Epoch: 4 [240/2296 (26%)]\tLoss: 0.248110 \t spearman: 0.009216\n",
      "Train Epoch: 4 [270/2296 (29%)]\tLoss: 0.249283 \t spearman: 0.015084\n",
      "Train Epoch: 4 [300/2296 (33%)]\tLoss: 0.253505 \t spearman: 0.022752\n",
      "Train Epoch: 4 [330/2296 (36%)]\tLoss: 0.256374 \t spearman: 0.017056\n",
      "Train Epoch: 4 [360/2296 (39%)]\tLoss: 0.257494 \t spearman: 0.022374\n",
      "Train Epoch: 4 [390/2296 (42%)]\tLoss: 0.260775 \t spearman: 0.027520\n",
      "Train Epoch: 4 [420/2296 (46%)]\tLoss: 0.262563 \t spearman: 0.038977\n",
      "Train Epoch: 4 [450/2296 (49%)]\tLoss: 0.264987 \t spearman: 0.035671\n",
      "Train Epoch: 4 [480/2296 (52%)]\tLoss: 0.266524 \t spearman: 0.031292\n",
      "Train Epoch: 4 [510/2296 (56%)]\tLoss: 0.266928 \t spearman: 0.036808\n",
      "Train Epoch: 4 [540/2296 (59%)]\tLoss: 0.267086 \t spearman: 0.025948\n",
      "Train Epoch: 4 [570/2296 (62%)]\tLoss: 0.269376 \t spearman: 0.007920\n",
      "Train Epoch: 4 [600/2296 (65%)]\tLoss: 0.268278 \t spearman: -0.009170\n",
      "Train Epoch: 4 [630/2296 (69%)]\tLoss: 0.266414 \t spearman: -0.010681\n",
      "Train Epoch: 4 [660/2296 (72%)]\tLoss: 0.266402 \t spearman: -0.010724\n",
      "Train Epoch: 4 [690/2296 (75%)]\tLoss: 0.266149 \t spearman: -0.019973\n",
      "Train Epoch: 4 [720/2296 (78%)]\tLoss: 0.264443 \t spearman: -0.007926\n",
      "Train Epoch: 4 [750/2296 (82%)]\tLoss: 0.262614 \t spearman: 0.001213\n",
      "Train Epoch: 4 [780/2296 (85%)]\tLoss: 0.261579 \t spearman: 0.001139\n",
      "Train Epoch: 4 [810/2296 (88%)]\tLoss: 0.261659 \t spearman: -0.006161\n",
      "Train Epoch: 4 [840/2296 (92%)]\tLoss: 0.261013 \t spearman: -0.005540\n",
      "Train Epoch: 4 [870/2296 (95%)]\tLoss: 0.261154 \t spearman: 0.003505\n",
      "Train Epoch: 4 [900/2296 (98%)]\tLoss: 0.261902 \t spearman: -0.003786\n",
      "Train Epoch: 4  loss=2.62e-01  rho=0.00 \n",
      "Test Epoch: [0/2296 (0%)]\tLoss: 0.465823 \t spearman: 0.273230\n",
      "Test Epoch: [30/2296 (13%)]\tLoss: 0.267128 \t spearman: -0.041785\n",
      "Test Epoch: [60/2296 (26%)]\tLoss: 0.265467 \t spearman: 0.028409\n",
      "Test Epoch: [90/2296 (39%)]\tLoss: 0.262379 \t spearman: 0.026856\n",
      "Test Epoch: [120/2296 (52%)]\tLoss: 0.268205 \t spearman: 0.016154\n",
      "Test Epoch: [150/2296 (65%)]\tLoss: 0.265778 \t spearman: 0.011171\n"
     ]
    },
    {
     "name": "stderr",
     "output_type": "stream",
     "text": [
      "/usr/local/lib/python3.8/dist-packages/scipy/stats/stats.py:4484: SpearmanRConstantInputWarning: An input array is constant; the correlation coefficient is not defined.\n",
      "  warnings.warn(SpearmanRConstantInputWarning())\n"
     ]
    },
    {
     "name": "stdout",
     "output_type": "stream",
     "text": [
      "Test Epoch: [180/2296 (78%)]\tLoss: 0.264730 \t spearman: nan\n",
      "Test Epoch: [210/2296 (91%)]\tLoss: 0.268064 \t spearman: nan\n",
      "Test Epoch:  loss=2.74e-01  rho=nan \n"
     ]
    }
   ],
   "source": [
    "\n",
    "k_folds = 5\n",
    "learning_rate = 5e-6\n",
    "num_epochs = 4\n",
    "kfold = KFold(n_splits=k_folds, shuffle=True)\n",
    "dataset = MutationDataset(tokenizer,train)\n",
    "train_loss_history = []\n",
    "test_loss_history = []\n",
    "train_rho_history = []\n",
    "test_rho_history = []\n",
    "for fold, (train_ids, test_ids) in enumerate(kfold.split(dataset)):\n",
    "\n",
    "    # Print\n",
    "    print(f'FOLD {fold}')\n",
    "    print('--------------------------------')\n",
    "\n",
    "    # Sample elements randomly from a given list of ids, no replacement.\n",
    "    train_subsampler = torch.utils.data.SubsetRandomSampler(train_ids)\n",
    "    test_subsampler = torch.utils.data.SubsetRandomSampler(test_ids)\n",
    "\n",
    "    # Define data loaders for training and testing data in this fold\n",
    "    train_dl = torch.utils.data.DataLoader(\n",
    "                      dataset, \n",
    "                      batch_size=BATCH_SIZE, sampler=train_subsampler)\n",
    "    val_dl = torch.utils.data.DataLoader(\n",
    "                      dataset,\n",
    "                      batch_size=BATCH_SIZE, sampler=test_subsampler)\n",
    "\n",
    "    model = ProtBertStab(pretrained=True)\n",
    "\n",
    "    num_freeze_layers = 22\n",
    "    \n",
    "    # FREEZE LAYERS\n",
    "    if num_freeze_layers>0:\n",
    "        for name, param in list(\n",
    "            model.named_parameters())[:5+16*num_freeze_layers]:     \n",
    "                param.requires_grad = False\n",
    "\n",
    "    torch.save(model.config, SAVE_PATH+'config.pth')\n",
    "    model.to(device)\n",
    "\n",
    "    optimizer = Adam(model.parameters(), lr=learning_rate)\n",
    "    # defining the loss function\n",
    "    criterion = RMSELoss()\n",
    " \n",
    "  \n",
    "    criterion = criterion.to(device)\n",
    "\n",
    "    best_rho = 0\n",
    "    for epoch in range(1, num_epochs + 1):\n",
    "        train_loss , rho_train = train_epoch( model, optimizer, criterion, train_dl, epoch)\n",
    "       \n",
    "\n",
    "        test_loss , rho_test = test_epoch(model, criterion, val_dl)\n",
    "        \n",
    "\n",
    "        train_loss_history.append(train_loss)\n",
    "        train_rho_history.append(rho_train)\n",
    "        test_loss_history.append(test_loss)\n",
    "        test_rho_history.append(rho_test)\n",
    "\n",
    "        if abs(rho_test) > best_rho : \n",
    "          best_rho = abs(rho_test)\n",
    "\n",
    "\n",
    "          torch.save(model, SAVE_PATH+ f'Prot_bert_VER-{VER}.pth')\n",
    "\n",
    "    \n",
    "    break\n",
    "\n",
    "\n",
    "\n",
    "\n",
    "    \n",
    "    \n",
    "    \n",
    "    \n",
    "    \n",
    "    \n",
    " \n"
   ]
  },
  {
   "cell_type": "code",
   "execution_count": 18,
   "metadata": {
    "executionInfo": {
     "elapsed": 7169,
     "status": "ok",
     "timestamp": 1671680739773,
     "user": {
      "displayName": "Hichem Hadhri",
      "userId": "12616591780675551937"
     },
     "user_tz": -60
    },
    "id": "vRcfUeThZeMr"
   },
   "outputs": [],
   "source": [
    "torch.save(model , SAVE_PATH+f'prot_{VER}.pth')"
   ]
  },
  {
   "cell_type": "code",
   "execution_count": 19,
   "metadata": {
    "colab": {
     "base_uri": "https://localhost:8080/",
     "height": 313
    },
    "executionInfo": {
     "elapsed": 29,
     "status": "ok",
     "timestamp": 1671680739774,
     "user": {
      "displayName": "Hichem Hadhri",
      "userId": "12616591780675551937"
     },
     "user_tz": -60
    },
    "id": "V20WQtD05z-M",
    "outputId": "39390f9c-c2ae-4b10-87bd-850891ebc7cb"
   },
   "outputs": [
    {
     "data": {
      "text/plain": [
       "<matplotlib.legend.Legend at 0x7f7bc9e476d0>"
      ]
     },
     "execution_count": 19,
     "metadata": {},
     "output_type": "execute_result"
    },
    {
     "data": {
      "image/png": "[encoded data removed]",
      "text/plain": [
       "<Figure size 432x288 with 1 Axes>"
      ]
     },
     "metadata": {
      "needs_background": "light"
     },
     "output_type": "display_data"
    }
   ],
   "source": [
    "\n",
    "plt.plot(train_loss_history, label='train loss')\n",
    "plt.plot(test_loss_history, label='test loss')\n",
    "plt.xlabel('Epoch')\n",
    "plt.ylabel('MSE')\n",
    "plt.title(' train and test MSE Loss')\n",
    "plt.legend()\n"
   ]
  },
  {
   "cell_type": "code",
   "execution_count": 20,
   "metadata": {
    "colab": {
     "base_uri": "https://localhost:8080/",
     "height": 313
    },
    "executionInfo": {
     "elapsed": 465,
     "status": "ok",
     "timestamp": 1671680740232,
     "user": {
      "displayName": "Hichem Hadhri",
      "userId": "12616591780675551937"
     },
     "user_tz": -60
    },
    "id": "cbj2v5gy5z-M",
    "outputId": "ca48ca06-d4d8-48de-ab66-6266e8225e34"
   },
   "outputs": [
    {
     "data": {
      "text/plain": [
       "<matplotlib.legend.Legend at 0x7f7bc84e5c70>"
      ]
     },
     "execution_count": 20,
     "metadata": {},
     "output_type": "execute_result"
    },
    {
     "data": {
      "image/png": "[encoded data removed]",
      "text/plain": [
       "<Figure size 432x288 with 1 Axes>"
      ]
     },
     "metadata": {
      "needs_background": "light"
     },
     "output_type": "display_data"
    }
   ],
   "source": [
    "#plot the train and test rho\n",
    "plt.plot(train_rho_history, label='train rho')\n",
    "plt.plot(test_rho_history, label='test rho')\n",
    "plt.xlabel('Epoch')\n",
    "plt.ylabel('rho')\n",
    "plt.title(' train and test rho')\n",
    "plt.legend()"
   ]
  },
  {
   "cell_type": "markdown",
   "metadata": {
    "id": "xZEs_K1mNFAn"
   },
   "source": [
    "# Submission"
   ]
  },
  {
   "cell_type": "code",
   "execution_count": null,
   "metadata": {
    "id": "tPtqnWy1xHdr"
   },
   "outputs": [],
   "source": [
    "test = pd.read_csv('test_mutations.csv')\n",
    "submission = pd.read_csv('sample_submission.csv')"
   ]
  },
  {
   "cell_type": "code",
   "execution_count": 12,
   "metadata": {
    "executionInfo": {
     "elapsed": 6,
     "status": "ok",
     "timestamp": 1671711725930,
     "user": {
      "displayName": "Hichem Hadhri",
      "userId": "12616591780675551937"
     },
     "user_tz": -60
    },
    "id": "0xpw5eUIxK8F"
   },
   "outputs": [],
   "source": [
    "# add spaces betwwen Amnino acids letter to tokenize\n",
    "def add_spaces(x):\n",
    "    return \" \".join(list(x))\n",
    "\n",
    "test.protSeq1 = test.protSeq1.apply(add_spaces)\n",
    "test.protSeq2 = test.protSeq2.apply(add_spaces)\n",
    "\n",
    "test.reset_index(drop=True, inplace=True)"
   ]
  },
  {
   "cell_type": "code",
   "execution_count": 17,
   "metadata": {
    "executionInfo": {
     "elapsed": 21338,
     "status": "ok",
     "timestamp": 1671716211455,
     "user": {
      "displayName": "Hichem Hadhri",
      "userId": "12616591780675551937"
     },
     "user_tz": -60
    },
    "id": "uixWkrtyr3iM"
   },
   "outputs": [],
   "source": [
    "# load torch model\n",
    "model = torch.load(SAVE_PATH+f'prot_{VER}.pth')"
   ]
  },
  {
   "cell_type": "code",
   "execution_count": 18,
   "metadata": {
    "executionInfo": {
     "elapsed": 1799,
     "status": "ok",
     "timestamp": 1671716213244,
     "user": {
      "displayName": "Hichem Hadhri",
      "userId": "12616591780675551937"
     },
     "user_tz": -60
    },
    "id": "USZufcLGxRML"
   },
   "outputs": [],
   "source": [
    "# load tokenizer\n",
    "tokenizer = AutoTokenizer.from_pretrained(SAVE_PATH+'tokenizer/')"
   ]
  },
  {
   "cell_type": "code",
   "execution_count": 19,
   "metadata": {
    "executionInfo": {
     "elapsed": 14,
     "status": "ok",
     "timestamp": 1671716213244,
     "user": {
      "displayName": "Hichem Hadhri",
      "userId": "12616591780675551937"
     },
     "user_tz": -60
    },
    "id": "PTCdxkoZxUpj"
   },
   "outputs": [],
   "source": [
    "class TestDataset(Dataset):\n",
    "    def __init__(self,tokenizer, df):\n",
    "        self.tokenizer = tokenizer\n",
    "        self.inputs1 = df['protSeq1'].values\n",
    "        self.inputs2 = df['protSeq2'].values\n",
    "        self.position = df['position'].values\n",
    "   \n",
    "\n",
    "    def __len__(self):\n",
    "        return len(self.inputs1)\n",
    "\n",
    "    def __getitem__(self, item):\n",
    "        \n",
    "        inputs1 = prepare_input(self.tokenizer, self.inputs1[item])\n",
    "        inputs2 = prepare_input(self.tokenizer, self.inputs2[item])\n",
    "        # do one hot encoding of position \n",
    "        position = np.zeros(MAX_LEN)\n",
    "        position[self.position[item]] = 1\n",
    "        position = torch.tensor(position, dtype=torch.int8)\n",
    "       \n",
    " \n",
    "        return inputs1, inputs2, position "
   ]
  },
  {
   "cell_type": "code",
   "execution_count": 22,
   "metadata": {
    "executionInfo": {
     "elapsed": 3,
     "status": "ok",
     "timestamp": 1671716218033,
     "user": {
      "displayName": "Hichem Hadhri",
      "userId": "12616591780675551937"
     },
     "user_tz": -60
    },
    "id": "13G49g6nz1PI"
   },
   "outputs": [],
   "source": [
    "import tqdm"
   ]
  },
  {
   "cell_type": "code",
   "execution_count": 32,
   "metadata": {
    "executionInfo": {
     "elapsed": 433,
     "status": "ok",
     "timestamp": 1671717325883,
     "user": {
      "displayName": "Hichem Hadhri",
      "userId": "12616591780675551937"
     },
     "user_tz": -60
    },
    "id": "ISNVYXJpxVkr"
   },
   "outputs": [],
   "source": [
    "def predict(model,test_loader):\n",
    "    model = model.eval()\n",
    "    preds = []\n",
    "   \n",
    "    for batch_idx, (inputs1, inputs2, position ) in enumerate(tqdm.tqdm(test_loader)):\n",
    "          # inputs to device\n",
    "        for k, v in inputs1.items():\n",
    "            inputs1[k] = v.to(device)     \n",
    "        for k, v in inputs2.items():\n",
    "            inputs2[k] = v.to(device)\n",
    "        position = position.to(device)\n",
    "         \n",
    "        \n",
    "      \n",
    "        # predict\n",
    "        with torch.no_grad():\n",
    "            output = model(inputs1,inputs2,position)\n",
    "            preds.append(output.cpu().numpy())\n",
    "\n",
    "          \n",
    "        #bug fix with shape of last output\n",
    "        predictions = np.concatenate(preds[:-1])\n",
    "        predcitions = np.concatenate([preditions,preds[-1].reshape(1)]) \n",
    "            \n",
    "   \n",
    "    return a"
   ]
  },
  {
   "cell_type": "code",
   "execution_count": 33,
   "metadata": {
    "executionInfo": {
     "elapsed": 6,
     "status": "ok",
     "timestamp": 1671717326321,
     "user": {
      "displayName": "Hichem Hadhri",
      "userId": "12616591780675551937"
     },
     "user_tz": -60
    },
    "id": "8J6lSmUtxZfs"
   },
   "outputs": [],
   "source": [
    "test['target'] = 0  # placeholder"
   ]
  },
  {
   "cell_type": "code",
   "execution_count": null,
   "metadata": {
    "colab": {
     "base_uri": "https://localhost:8080/"
    },
    "id": "bk3wAwh1xf4e",
    "outputId": "ac5dbd4c-f1b2-4e1c-9480-da3e5c3cdf08"
   },
   "outputs": [
    {
     "name": "stderr",
     "output_type": "stream",
     "text": [
      "  0%|          | 0/403 [00:00<?, ?it/s]/usr/local/lib/python3.8/dist-packages/transformers/tokenization_utils_base.py:2336: FutureWarning: The `pad_to_max_length` argument is deprecated and will be removed in a future version, use `padding=True` or `padding='longest'` to pad to the longest sequence in the batch, or use `padding='max_length'` to pad to a max length. In this case, you can give a specific length with `max_length` (e.g. `max_length=45`) or leave max_length to None to pad to the maximal input size of the model (e.g. 512 for Bert).\n",
      "  warnings.warn(\n"
     ]
    },
    {
     "name": "stdout",
     "output_type": "stream",
     "text": [
      "torch.Size([6])\n"
     ]
    },
    {
     "name": "stderr",
     "output_type": "stream",
     "text": [
      "  0%|          | 1/403 [00:01<09:47,  1.46s/it]"
     ]
    },
    {
     "name": "stdout",
     "output_type": "stream",
     "text": [
      "torch.Size([6])\n"
     ]
    },
    {
     "name": "stderr",
     "output_type": "stream",
     "text": [
      "  0%|          | 2/403 [00:02<09:28,  1.42s/it]"
     ]
    },
    {
     "name": "stdout",
     "output_type": "stream",
     "text": [
      "torch.Size([6])\n"
     ]
    },
    {
     "name": "stderr",
     "output_type": "stream",
     "text": [
      "  1%|          | 3/403 [00:04<09:23,  1.41s/it]"
     ]
    },
    {
     "name": "stdout",
     "output_type": "stream",
     "text": [
      "torch.Size([6])\n"
     ]
    },
    {
     "name": "stderr",
     "output_type": "stream",
     "text": [
      "  1%|          | 4/403 [00:05<09:20,  1.41s/it]"
     ]
    },
    {
     "name": "stdout",
     "output_type": "stream",
     "text": [
      "torch.Size([6])\n"
     ]
    },
    {
     "name": "stderr",
     "output_type": "stream",
     "text": [
      "  1%|          | 5/403 [00:07<09:20,  1.41s/it]"
     ]
    },
    {
     "name": "stdout",
     "output_type": "stream",
     "text": [
      "torch.Size([6])\n"
     ]
    },
    {
     "name": "stderr",
     "output_type": "stream",
     "text": [
      "  1%|▏         | 6/403 [00:08<09:20,  1.41s/it]"
     ]
    },
    {
     "name": "stdout",
     "output_type": "stream",
     "text": [
      "torch.Size([6])\n"
     ]
    },
    {
     "name": "stderr",
     "output_type": "stream",
     "text": [
      "  2%|▏         | 7/403 [00:09<09:18,  1.41s/it]"
     ]
    },
    {
     "name": "stdout",
     "output_type": "stream",
     "text": [
      "torch.Size([6])\n"
     ]
    },
    {
     "name": "stderr",
     "output_type": "stream",
     "text": [
      "  2%|▏         | 8/403 [00:11<09:16,  1.41s/it]"
     ]
    },
    {
     "name": "stdout",
     "output_type": "stream",
     "text": [
      "torch.Size([6])\n"
     ]
    },
    {
     "name": "stderr",
     "output_type": "stream",
     "text": [
      "  2%|▏         | 9/403 [00:12<09:15,  1.41s/it]"
     ]
    },
    {
     "name": "stdout",
     "output_type": "stream",
     "text": [
      "torch.Size([6])\n"
     ]
    },
    {
     "name": "stderr",
     "output_type": "stream",
     "text": [
      "  2%|▏         | 10/403 [00:14<09:13,  1.41s/it]"
     ]
    },
    {
     "name": "stdout",
     "output_type": "stream",
     "text": [
      "torch.Size([6])\n"
     ]
    },
    {
     "name": "stderr",
     "output_type": "stream",
     "text": [
      "  3%|▎         | 11/403 [00:15<09:12,  1.41s/it]"
     ]
    },
    {
     "name": "stdout",
     "output_type": "stream",
     "text": [
      "torch.Size([6])\n"
     ]
    },
    {
     "name": "stderr",
     "output_type": "stream",
     "text": [
      "  3%|▎         | 12/403 [00:16<09:11,  1.41s/it]"
     ]
    },
    {
     "name": "stdout",
     "output_type": "stream",
     "text": [
      "torch.Size([6])\n"
     ]
    },
    {
     "name": "stderr",
     "output_type": "stream",
     "text": [
      "  3%|▎         | 13/403 [00:18<09:10,  1.41s/it]"
     ]
    },
    {
     "name": "stdout",
     "output_type": "stream",
     "text": [
      "torch.Size([6])\n"
     ]
    },
    {
     "name": "stderr",
     "output_type": "stream",
     "text": [
      "  3%|▎         | 14/403 [00:19<09:09,  1.41s/it]"
     ]
    },
    {
     "name": "stdout",
     "output_type": "stream",
     "text": [
      "torch.Size([6])\n"
     ]
    },
    {
     "name": "stderr",
     "output_type": "stream",
     "text": [
      "  4%|▎         | 15/403 [00:21<09:08,  1.41s/it]"
     ]
    },
    {
     "name": "stdout",
     "output_type": "stream",
     "text": [
      "torch.Size([6])\n"
     ]
    },
    {
     "name": "stderr",
     "output_type": "stream",
     "text": [
      "  4%|▍         | 16/403 [00:22<09:08,  1.42s/it]"
     ]
    },
    {
     "name": "stdout",
     "output_type": "stream",
     "text": [
      "torch.Size([6])\n"
     ]
    },
    {
     "name": "stderr",
     "output_type": "stream",
     "text": [
      "  4%|▍         | 17/403 [00:24<09:07,  1.42s/it]"
     ]
    },
    {
     "name": "stdout",
     "output_type": "stream",
     "text": [
      "torch.Size([6])\n"
     ]
    },
    {
     "name": "stderr",
     "output_type": "stream",
     "text": [
      "  4%|▍         | 18/403 [00:25<09:07,  1.42s/it]"
     ]
    },
    {
     "name": "stdout",
     "output_type": "stream",
     "text": [
      "torch.Size([6])\n"
     ]
    },
    {
     "name": "stderr",
     "output_type": "stream",
     "text": [
      "  5%|▍         | 19/403 [00:26<09:07,  1.42s/it]"
     ]
    },
    {
     "name": "stdout",
     "output_type": "stream",
     "text": [
      "torch.Size([6])\n"
     ]
    },
    {
     "name": "stderr",
     "output_type": "stream",
     "text": [
      "  5%|▍         | 20/403 [00:28<09:06,  1.43s/it]"
     ]
    },
    {
     "name": "stdout",
     "output_type": "stream",
     "text": [
      "torch.Size([6])\n"
     ]
    },
    {
     "name": "stderr",
     "output_type": "stream",
     "text": [
      "  5%|▌         | 21/403 [00:29<09:05,  1.43s/it]"
     ]
    },
    {
     "name": "stdout",
     "output_type": "stream",
     "text": [
      "torch.Size([6])\n"
     ]
    },
    {
     "name": "stderr",
     "output_type": "stream",
     "text": [
      "  5%|▌         | 22/403 [00:31<09:05,  1.43s/it]"
     ]
    },
    {
     "name": "stdout",
     "output_type": "stream",
     "text": [
      "torch.Size([6])\n"
     ]
    },
    {
     "name": "stderr",
     "output_type": "stream",
     "text": [
      "  6%|▌         | 23/403 [00:32<09:05,  1.43s/it]"
     ]
    },
    {
     "name": "stdout",
     "output_type": "stream",
     "text": [
      "torch.Size([6])\n"
     ]
    },
    {
     "name": "stderr",
     "output_type": "stream",
     "text": [
      "  6%|▌         | 24/403 [00:34<09:04,  1.44s/it]"
     ]
    },
    {
     "name": "stdout",
     "output_type": "stream",
     "text": [
      "torch.Size([6])\n"
     ]
    },
    {
     "name": "stderr",
     "output_type": "stream",
     "text": [
      "  6%|▌         | 25/403 [00:35<09:04,  1.44s/it]"
     ]
    },
    {
     "name": "stdout",
     "output_type": "stream",
     "text": [
      "torch.Size([6])\n"
     ]
    },
    {
     "name": "stderr",
     "output_type": "stream",
     "text": [
      "  6%|▋         | 26/403 [00:36<09:03,  1.44s/it]"
     ]
    },
    {
     "name": "stdout",
     "output_type": "stream",
     "text": [
      "torch.Size([6])\n"
     ]
    },
    {
     "name": "stderr",
     "output_type": "stream",
     "text": [
      "  7%|▋         | 27/403 [00:38<09:23,  1.50s/it]"
     ]
    },
    {
     "name": "stdout",
     "output_type": "stream",
     "text": [
      "torch.Size([6])\n"
     ]
    },
    {
     "name": "stderr",
     "output_type": "stream",
     "text": [
      "  7%|▋         | 28/403 [00:40<09:17,  1.49s/it]"
     ]
    },
    {
     "name": "stdout",
     "output_type": "stream",
     "text": [
      "torch.Size([6])\n"
     ]
    },
    {
     "name": "stderr",
     "output_type": "stream",
     "text": [
      "  7%|▋         | 29/403 [00:41<09:12,  1.48s/it]"
     ]
    },
    {
     "name": "stdout",
     "output_type": "stream",
     "text": [
      "torch.Size([6])\n"
     ]
    },
    {
     "name": "stderr",
     "output_type": "stream",
     "text": [
      "  7%|▋         | 30/403 [00:42<09:08,  1.47s/it]"
     ]
    },
    {
     "name": "stdout",
     "output_type": "stream",
     "text": [
      "torch.Size([6])\n"
     ]
    },
    {
     "name": "stderr",
     "output_type": "stream",
     "text": [
      "  8%|▊         | 31/403 [00:44<09:05,  1.47s/it]"
     ]
    },
    {
     "name": "stdout",
     "output_type": "stream",
     "text": [
      "torch.Size([6])\n"
     ]
    },
    {
     "name": "stderr",
     "output_type": "stream",
     "text": [
      "  8%|▊         | 32/403 [00:45<09:04,  1.47s/it]"
     ]
    },
    {
     "name": "stdout",
     "output_type": "stream",
     "text": [
      "torch.Size([6])\n"
     ]
    },
    {
     "name": "stderr",
     "output_type": "stream",
     "text": [
      "  8%|▊         | 33/403 [00:47<09:02,  1.47s/it]"
     ]
    },
    {
     "name": "stdout",
     "output_type": "stream",
     "text": [
      "torch.Size([6])\n"
     ]
    },
    {
     "name": "stderr",
     "output_type": "stream",
     "text": [
      "  8%|▊         | 34/403 [00:48<09:01,  1.47s/it]"
     ]
    },
    {
     "name": "stdout",
     "output_type": "stream",
     "text": [
      "torch.Size([6])\n"
     ]
    },
    {
     "name": "stderr",
     "output_type": "stream",
     "text": [
      "  9%|▊         | 35/403 [00:50<09:00,  1.47s/it]"
     ]
    },
    {
     "name": "stdout",
     "output_type": "stream",
     "text": [
      "torch.Size([6])\n"
     ]
    },
    {
     "name": "stderr",
     "output_type": "stream",
     "text": [
      "  9%|▉         | 36/403 [00:51<08:59,  1.47s/it]"
     ]
    },
    {
     "name": "stdout",
     "output_type": "stream",
     "text": [
      "torch.Size([6])\n"
     ]
    },
    {
     "name": "stderr",
     "output_type": "stream",
     "text": [
      "  9%|▉         | 37/403 [00:53<08:58,  1.47s/it]"
     ]
    },
    {
     "name": "stdout",
     "output_type": "stream",
     "text": [
      "torch.Size([6])\n"
     ]
    },
    {
     "name": "stderr",
     "output_type": "stream",
     "text": [
      "  9%|▉         | 38/403 [00:54<08:57,  1.47s/it]"
     ]
    },
    {
     "name": "stdout",
     "output_type": "stream",
     "text": [
      "torch.Size([6])\n"
     ]
    },
    {
     "name": "stderr",
     "output_type": "stream",
     "text": [
      " 10%|▉         | 39/403 [00:56<08:56,  1.47s/it]"
     ]
    },
    {
     "name": "stdout",
     "output_type": "stream",
     "text": [
      "torch.Size([6])\n"
     ]
    },
    {
     "name": "stderr",
     "output_type": "stream",
     "text": [
      " 10%|▉         | 40/403 [00:57<08:55,  1.48s/it]"
     ]
    },
    {
     "name": "stdout",
     "output_type": "stream",
     "text": [
      "torch.Size([6])\n"
     ]
    },
    {
     "name": "stderr",
     "output_type": "stream",
     "text": [
      " 10%|█         | 41/403 [00:59<08:54,  1.48s/it]"
     ]
    },
    {
     "name": "stdout",
     "output_type": "stream",
     "text": [
      "torch.Size([6])\n"
     ]
    },
    {
     "name": "stderr",
     "output_type": "stream",
     "text": [
      " 10%|█         | 42/403 [01:00<08:53,  1.48s/it]"
     ]
    },
    {
     "name": "stdout",
     "output_type": "stream",
     "text": [
      "torch.Size([6])\n"
     ]
    },
    {
     "name": "stderr",
     "output_type": "stream",
     "text": [
      " 11%|█         | 43/403 [01:02<08:51,  1.48s/it]"
     ]
    },
    {
     "name": "stdout",
     "output_type": "stream",
     "text": [
      "torch.Size([6])\n"
     ]
    },
    {
     "name": "stderr",
     "output_type": "stream",
     "text": [
      " 11%|█         | 44/403 [01:03<08:50,  1.48s/it]"
     ]
    },
    {
     "name": "stdout",
     "output_type": "stream",
     "text": [
      "torch.Size([6])\n"
     ]
    },
    {
     "name": "stderr",
     "output_type": "stream",
     "text": [
      " 11%|█         | 45/403 [01:05<08:47,  1.47s/it]"
     ]
    },
    {
     "name": "stdout",
     "output_type": "stream",
     "text": [
      "torch.Size([6])\n"
     ]
    },
    {
     "name": "stderr",
     "output_type": "stream",
     "text": [
      " 11%|█▏        | 46/403 [01:06<08:45,  1.47s/it]"
     ]
    },
    {
     "name": "stdout",
     "output_type": "stream",
     "text": [
      "torch.Size([6])\n"
     ]
    },
    {
     "name": "stderr",
     "output_type": "stream",
     "text": [
      " 12%|█▏        | 47/403 [01:07<08:44,  1.47s/it]"
     ]
    },
    {
     "name": "stdout",
     "output_type": "stream",
     "text": [
      "torch.Size([6])\n"
     ]
    },
    {
     "name": "stderr",
     "output_type": "stream",
     "text": [
      " 12%|█▏        | 48/403 [01:09<08:41,  1.47s/it]"
     ]
    },
    {
     "name": "stdout",
     "output_type": "stream",
     "text": [
      "torch.Size([6])\n"
     ]
    },
    {
     "name": "stderr",
     "output_type": "stream",
     "text": [
      " 12%|█▏        | 49/403 [01:10<08:39,  1.47s/it]"
     ]
    },
    {
     "name": "stdout",
     "output_type": "stream",
     "text": [
      "torch.Size([6])\n"
     ]
    },
    {
     "name": "stderr",
     "output_type": "stream",
     "text": [
      " 12%|█▏        | 50/403 [01:12<08:37,  1.47s/it]"
     ]
    },
    {
     "name": "stdout",
     "output_type": "stream",
     "text": [
      "torch.Size([6])\n"
     ]
    },
    {
     "name": "stderr",
     "output_type": "stream",
     "text": [
      " 13%|█▎        | 51/403 [01:13<08:34,  1.46s/it]"
     ]
    },
    {
     "name": "stdout",
     "output_type": "stream",
     "text": [
      "torch.Size([6])\n"
     ]
    },
    {
     "name": "stderr",
     "output_type": "stream",
     "text": [
      " 13%|█▎        | 52/403 [01:15<08:32,  1.46s/it]"
     ]
    },
    {
     "name": "stdout",
     "output_type": "stream",
     "text": [
      "torch.Size([6])\n"
     ]
    },
    {
     "name": "stderr",
     "output_type": "stream",
     "text": [
      " 13%|█▎        | 53/403 [01:16<08:30,  1.46s/it]"
     ]
    },
    {
     "name": "stdout",
     "output_type": "stream",
     "text": [
      "torch.Size([6])\n"
     ]
    },
    {
     "name": "stderr",
     "output_type": "stream",
     "text": [
      " 13%|█▎        | 54/403 [01:18<08:28,  1.46s/it]"
     ]
    },
    {
     "name": "stdout",
     "output_type": "stream",
     "text": [
      "torch.Size([6])\n"
     ]
    },
    {
     "name": "stderr",
     "output_type": "stream",
     "text": [
      " 14%|█▎        | 55/403 [01:19<08:25,  1.45s/it]"
     ]
    },
    {
     "name": "stdout",
     "output_type": "stream",
     "text": [
      "torch.Size([6])\n"
     ]
    },
    {
     "name": "stderr",
     "output_type": "stream",
     "text": [
      " 14%|█▍        | 56/403 [01:21<08:23,  1.45s/it]"
     ]
    },
    {
     "name": "stdout",
     "output_type": "stream",
     "text": [
      "torch.Size([6])\n"
     ]
    },
    {
     "name": "stderr",
     "output_type": "stream",
     "text": [
      " 14%|█▍        | 57/403 [01:22<08:23,  1.46s/it]"
     ]
    },
    {
     "name": "stdout",
     "output_type": "stream",
     "text": [
      "torch.Size([6])\n"
     ]
    },
    {
     "name": "stderr",
     "output_type": "stream",
     "text": [
      " 14%|█▍        | 58/403 [01:24<08:22,  1.46s/it]"
     ]
    },
    {
     "name": "stdout",
     "output_type": "stream",
     "text": [
      "torch.Size([6])\n"
     ]
    },
    {
     "name": "stderr",
     "output_type": "stream",
     "text": [
      " 15%|█▍        | 59/403 [01:25<08:21,  1.46s/it]"
     ]
    },
    {
     "name": "stdout",
     "output_type": "stream",
     "text": [
      "torch.Size([6])\n"
     ]
    },
    {
     "name": "stderr",
     "output_type": "stream",
     "text": [
      " 15%|█▍        | 60/403 [01:26<08:18,  1.45s/it]"
     ]
    },
    {
     "name": "stdout",
     "output_type": "stream",
     "text": [
      "torch.Size([6])\n"
     ]
    },
    {
     "name": "stderr",
     "output_type": "stream",
     "text": [
      " 15%|█▌        | 61/403 [01:28<08:15,  1.45s/it]"
     ]
    },
    {
     "name": "stdout",
     "output_type": "stream",
     "text": [
      "torch.Size([6])\n"
     ]
    },
    {
     "name": "stderr",
     "output_type": "stream",
     "text": [
      " 15%|█▌        | 62/403 [01:29<08:13,  1.45s/it]"
     ]
    },
    {
     "name": "stdout",
     "output_type": "stream",
     "text": [
      "torch.Size([6])\n"
     ]
    },
    {
     "name": "stderr",
     "output_type": "stream",
     "text": [
      " 16%|█▌        | 63/403 [01:31<08:11,  1.44s/it]"
     ]
    }
   ],
   "source": [
    "test_dataset = TestDataset(tokenizer,test)\n",
    "test_loader = torch.utils.data.DataLoader(test_dataset, batch_size=BATCH_SIZE, shuffle=False)\n",
    "\n",
    "preds = predict(model,test_loader)\n",
    "\n",
    "\n",
    "\n",
    "test['target'] = preds\n",
    "\n",
    "#groupb by group1 and group2 and take the mean of the target\n",
    "mean = test.groupby(['operation']).mean()['target']['replace']\n",
    "\n",
    "test['target'] = test.apply(lambda row : mean if row['operation'] == 'delete' else row['target'], axis=1)\n",
    "\n",
    "submission['tm'] = test['target'].values\n",
    "\n",
    "\n",
    "submission.to_csv('submissions/submission_prot.csv', index=False)\n"
   ]
  },
  {
   "cell_type": "code",
   "execution_count": null,
   "metadata": {
    "id": "i0H4NovfGvda"
   },
   "outputs": [],
   "source": []
  }
 ],
 "metadata": {
  "accelerator": "GPU",
  "colab": {
   "provenance": []
  },
  "gpuClass": "standard",
  "kernelspec": {
   "display_name": "Python 3 (ipykernel)",
   "language": "python",
   "name": "python3"
  },
  "language_info": {
   "codemirror_mode": {
    "name": "ipython",
    "version": 3
   },
   "file_extension": ".py",
   "mimetype": "text/x-python",
   "name": "python",
   "nbconvert_exporter": "python",
   "pygments_lexer": "ipython3",
   "version": "3.9.13"
  },
  "vscode": {
   "interpreter": {
    "hash": "31f2aee4e71d21fbe5cf8b01ff0e069b9275f58929596ceb00d14d90e3e16cd6"
   }
  }
 },
 "nbformat": 4,
 "nbformat_minor": 4
}
