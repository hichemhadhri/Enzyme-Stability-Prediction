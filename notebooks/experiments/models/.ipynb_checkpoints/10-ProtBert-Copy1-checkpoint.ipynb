{
 "cells": [
  {
   "cell_type": "code",
   "execution_count": 1,
   "metadata": {},
   "outputs": [],
   "source": [
    "import pandas as pd\n",
    "import numpy as np \n",
    "import matplotlib.pyplot as plt\n",
    "import torch \n",
    "from torch.utils.data import Dataset\n",
    "import torch.nn as nn\n",
    "from torch.nn import Linear, ReLU, CrossEntropyLoss, Sequential, Conv2d, MaxPool2d, Module, Softmax, BatchNorm2d, Dropout\n",
    "from torch.optim import Adam\n",
    "\n",
    "from scipy.stats import spearmanr\n",
    "\n",
    "from transformers import BertModel, BertTokenizer\n",
    "from sklearn.metrics import mean_squared_error\n",
    "from sklearn import metrics\n",
    "\n",
    "import os\n",
    "from collections import Counter"
   ]
  },
  {
   "cell_type": "markdown",
   "metadata": {},
   "source": [
    "1. Load the dataset "
   ]
  },
  {
   "cell_type": "code",
   "execution_count": 2,
   "metadata": {},
   "outputs": [
    {
     "data": {
      "text/html": [
       "<div>\n",
       "<style scoped>\n",
       "    .dataframe tbody tr th:only-of-type {\n",
       "        vertical-align: middle;\n",
       "    }\n",
       "\n",
       "    .dataframe tbody tr th {\n",
       "        vertical-align: top;\n",
       "    }\n",
       "\n",
       "    .dataframe thead th {\n",
       "        text-align: right;\n",
       "    }\n",
       "</style>\n",
       "<table border=\"1\" class=\"dataframe\">\n",
       "  <thead>\n",
       "    <tr style=\"text-align: right;\">\n",
       "      <th></th>\n",
       "      <th>protein_sequence</th>\n",
       "      <th>pH</th>\n",
       "      <th>tm</th>\n",
       "    </tr>\n",
       "    <tr>\n",
       "      <th>seq_id</th>\n",
       "      <th></th>\n",
       "      <th></th>\n",
       "      <th></th>\n",
       "    </tr>\n",
       "  </thead>\n",
       "  <tbody>\n",
       "    <tr>\n",
       "      <th>0</th>\n",
       "      <td>AAAAKAAALALLGEAPEVVDIWLPAGWRQPFRVFRLERKGDGVLVG...</td>\n",
       "      <td>7.0</td>\n",
       "      <td>75.7</td>\n",
       "    </tr>\n",
       "    <tr>\n",
       "      <th>1</th>\n",
       "      <td>AAADGEPLHNEEERAGAGQVGRSLPQESEEQRTGSRPRRRRDLGSR...</td>\n",
       "      <td>7.0</td>\n",
       "      <td>50.5</td>\n",
       "    </tr>\n",
       "    <tr>\n",
       "      <th>2</th>\n",
       "      <td>AAAFSTPRATSYRILSSAGSGSTRADAPQVRRLHTTRDLLAKDYYA...</td>\n",
       "      <td>7.0</td>\n",
       "      <td>40.5</td>\n",
       "    </tr>\n",
       "    <tr>\n",
       "      <th>3</th>\n",
       "      <td>AAASGLRTAIPAQPLRHLLQPAPRPCLRPFGLLSVRAGSARRSGLL...</td>\n",
       "      <td>7.0</td>\n",
       "      <td>47.2</td>\n",
       "    </tr>\n",
       "    <tr>\n",
       "      <th>4</th>\n",
       "      <td>AAATKSGPRRQSQGASVRTFTPFYFLVEPVDTLSVRGSSVILNCSA...</td>\n",
       "      <td>7.0</td>\n",
       "      <td>49.5</td>\n",
       "    </tr>\n",
       "  </tbody>\n",
       "</table>\n",
       "</div>"
      ],
      "text/plain": [
       "                                         protein_sequence   pH    tm\n",
       "seq_id                                                              \n",
       "0       AAAAKAAALALLGEAPEVVDIWLPAGWRQPFRVFRLERKGDGVLVG...  7.0  75.7\n",
       "1       AAADGEPLHNEEERAGAGQVGRSLPQESEEQRTGSRPRRRRDLGSR...  7.0  50.5\n",
       "2       AAAFSTPRATSYRILSSAGSGSTRADAPQVRRLHTTRDLLAKDYYA...  7.0  40.5\n",
       "3       AAASGLRTAIPAQPLRHLLQPAPRPCLRPFGLLSVRAGSARRSGLL...  7.0  47.2\n",
       "4       AAATKSGPRRQSQGASVRTFTPFYFLVEPVDTLSVRGSSVILNCSA...  7.0  49.5"
      ]
     },
     "execution_count": 2,
     "metadata": {},
     "output_type": "execute_result"
    }
   ],
   "source": [
    "#load training data (will be put in a function later)  \n",
    "path = os.getcwd()\n",
    "for i in range(3) :\n",
    "\n",
    "    path = os.path.dirname(path)\n",
    "\n",
    "path += '/data/'\n",
    "train_df = pd.read_csv(path + 'train_v1.csv',index_col=\"seq_id\")\n",
    "train_df = train_df.drop(columns=['data_source'])\n",
    "train_df = train_df.dropna()\n",
    "train_df.head()"
   ]
  },
  {
   "cell_type": "code",
   "execution_count": 3,
   "metadata": {},
   "outputs": [
    {
     "data": {
      "text/plain": [
       "'AAAAKAAALALLGEAPEVVDIWLPAGWRQPFRVFRLERKGDGVLVGMIKDAGDDPDVTHGAEIQAFVRFASEDRLEGGEGVGVVTKPGLGVPVGEPAINPVPRRMIWEAVREVTERPLAVTIAIPGGEELAKKTLNPRLGILGGLSVLGTTGVVKPYSTSAFRMSVVQAVGVARANGLLEIAATTGGKSERFAQRLLPHLPEMAFIEMGDFVGDVLRAARKVGVEVVRVVGMIGKISKMADGKTMTHAAGGEVNLSLLLSLLKEAGASPKALKEAEGAATARRFLEIALEEGLELFFVNLVRLAQEKLQAYIGERPFVSVALTDFDEGRCLAAWPDREVYR'"
      ]
     },
     "execution_count": 3,
     "metadata": {},
     "output_type": "execute_result"
    }
   ],
   "source": [
    "train_df.iloc[0]['protein_sequence']"
   ]
  },
  {
   "cell_type": "code",
   "execution_count": 4,
   "metadata": {},
   "outputs": [],
   "source": [
    "test_df = pd.read_csv(path+ 'test.csv',index_col='seq_id')\n",
    "test_df = test_df.drop(columns=['data_source'])\n"
   ]
  },
  {
   "cell_type": "code",
   "execution_count": 5,
   "metadata": {},
   "outputs": [],
   "source": [
    "test_df['length'] = test_df['protein_sequence'].str.len()"
   ]
  },
  {
   "cell_type": "markdown",
   "metadata": {},
   "source": [
    "2. Translate Amino-acids to numbers and create a One-Channel array for each sequence"
   ]
  },
  {
   "cell_type": "code",
   "execution_count": 6,
   "metadata": {},
   "outputs": [],
   "source": [
    "#add a new column that contains the length of each protein sequence (before padding)\n",
    "train_df['length'] = train_df['protein_sequence'].str.len()"
   ]
  },
  {
   "cell_type": "code",
   "execution_count": 7,
   "metadata": {},
   "outputs": [],
   "source": [
    "# fix max_length to be 500\n",
    "max_length = 500\n",
    "\n",
    "#drop rows that exceeds this value\n",
    "\n",
    "train_df = train_df[train_df['length'] < max_length]\n",
    "\n"
   ]
  },
  {
   "cell_type": "code",
   "execution_count": 8,
   "metadata": {},
   "outputs": [
    {
     "data": {
      "text/plain": [
       "20510"
      ]
     },
     "execution_count": 8,
     "metadata": {},
     "output_type": "execute_result"
    }
   ],
   "source": [
    "len(train_df)"
   ]
  },
  {
   "cell_type": "code",
   "execution_count": 9,
   "metadata": {},
   "outputs": [],
   "source": [
    "df = train_df.copy()"
   ]
  },
  {
   "cell_type": "code",
   "execution_count": 10,
   "metadata": {},
   "outputs": [],
   "source": [
    "df = df.reset_index(drop=True)\n"
   ]
  },
  {
   "cell_type": "code",
   "execution_count": 11,
   "metadata": {},
   "outputs": [],
   "source": [
    "test_df = test_df.reset_index(drop=True)"
   ]
  },
  {
   "cell_type": "markdown",
   "metadata": {},
   "source": [
    "Split to train and validation sets"
   ]
  },
  {
   "cell_type": "code",
   "execution_count": 12,
   "metadata": {},
   "outputs": [],
   "source": [
    "#splot padded_train_df into train and validation sets (will be put in a function later)\n",
    "train_df = df.sample(frac=0.8,random_state=24)\n",
    "val_df = df.drop(train_df.index)\n",
    "\n",
    "train_df = train_df.reset_index(drop=True)\n",
    "val_df = val_df.reset_index(drop=True)\n"
   ]
  },
  {
   "cell_type": "code",
   "execution_count": null,
   "metadata": {},
   "outputs": [],
   "source": []
  },
  {
   "cell_type": "code",
   "execution_count": 13,
   "metadata": {},
   "outputs": [
    {
     "name": "stdout",
     "output_type": "stream",
     "text": [
      "16408 4102\n"
     ]
    }
   ],
   "source": [
    "print(len(train_df),len(val_df))"
   ]
  },
  {
   "cell_type": "markdown",
   "metadata": {},
   "source": [
    "tokenizer = BertTokenizer.from_pretrained(\"Rostlab/prot_bert\", do_lower_case=False )\n",
    "model = BertModel.from_pretrained(\"Rostlab/prot_bert\")"
   ]
  },
  {
   "cell_type": "code",
   "execution_count": 273,
   "metadata": {},
   "outputs": [
    {
     "data": {
      "text/html": [
       "<div>\n",
       "<style scoped>\n",
       "    .dataframe tbody tr th:only-of-type {\n",
       "        vertical-align: middle;\n",
       "    }\n",
       "\n",
       "    .dataframe tbody tr th {\n",
       "        vertical-align: top;\n",
       "    }\n",
       "\n",
       "    .dataframe thead th {\n",
       "        text-align: right;\n",
       "    }\n",
       "</style>\n",
       "<table border=\"1\" class=\"dataframe\">\n",
       "  <thead>\n",
       "    <tr style=\"text-align: right;\">\n",
       "      <th></th>\n",
       "      <th>protSeq1</th>\n",
       "      <th>protSeq2</th>\n",
       "      <th>operation</th>\n",
       "      <th>position1</th>\n",
       "      <th>position2</th>\n",
       "      <th>change1</th>\n",
       "      <th>change2</th>\n",
       "      <th>pH1</th>\n",
       "      <th>data_source1</th>\n",
       "      <th>tm1</th>\n",
       "      <th>group1</th>\n",
       "      <th>pH2</th>\n",
       "      <th>data_source2</th>\n",
       "      <th>tm2</th>\n",
       "      <th>group2</th>\n",
       "      <th>target</th>\n",
       "    </tr>\n",
       "  </thead>\n",
       "  <tbody>\n",
       "    <tr>\n",
       "      <th>0</th>\n",
       "      <td>MNAFEMLRIDERLRLKIYKDTEGYYTIGIGHLLTKSPSLNAAKSEL...</td>\n",
       "      <td>MNDFEMLRIDERLRLKIYKDTEGYYTIGIGHLLTKSPSLNAAKSEL...</td>\n",
       "      <td>replace</td>\n",
       "      <td>2</td>\n",
       "      <td>2</td>\n",
       "      <td>A</td>\n",
       "      <td>D</td>\n",
       "      <td>6.5</td>\n",
       "      <td>10.1038/334406a0</td>\n",
       "      <td>62.9</td>\n",
       "      <td>5</td>\n",
       "      <td>6.5</td>\n",
       "      <td>10.1038/334406a0</td>\n",
       "      <td>56.2</td>\n",
       "      <td>5</td>\n",
       "      <td>-6.7</td>\n",
       "    </tr>\n",
       "    <tr>\n",
       "      <th>1</th>\n",
       "      <td>MNAFEMLRIDERLRLKIYKDTEGYYTIGIGHLLTKSPSLNAAKSEL...</td>\n",
       "      <td>MNEFEMLRIDERLRLKIYKDTEGYYTIGIGHLLTKSPSLNAAKSEL...</td>\n",
       "      <td>replace</td>\n",
       "      <td>2</td>\n",
       "      <td>2</td>\n",
       "      <td>A</td>\n",
       "      <td>E</td>\n",
       "      <td>6.5</td>\n",
       "      <td>10.1038/334406a0</td>\n",
       "      <td>62.9</td>\n",
       "      <td>5</td>\n",
       "      <td>6.5</td>\n",
       "      <td>10.1038/334406a0</td>\n",
       "      <td>59.0</td>\n",
       "      <td>5</td>\n",
       "      <td>-3.9</td>\n",
       "    </tr>\n",
       "    <tr>\n",
       "      <th>2</th>\n",
       "      <td>MNAFEMLRIDERLRLKIYKDTEGYYTIGIGHLLTKSPSLNAAKSEL...</td>\n",
       "      <td>MNFFEMLRIDERLRLKIYKDTEGYYTIGIGHLLTKSPSLNAAKSEL...</td>\n",
       "      <td>replace</td>\n",
       "      <td>2</td>\n",
       "      <td>2</td>\n",
       "      <td>A</td>\n",
       "      <td>F</td>\n",
       "      <td>6.5</td>\n",
       "      <td>10.1038/334406a0</td>\n",
       "      <td>62.9</td>\n",
       "      <td>5</td>\n",
       "      <td>6.5</td>\n",
       "      <td>10.1038/334406a0</td>\n",
       "      <td>61.7</td>\n",
       "      <td>5</td>\n",
       "      <td>-1.2</td>\n",
       "    </tr>\n",
       "    <tr>\n",
       "      <th>3</th>\n",
       "      <td>MNAFEMLRIDERLRLKIYKDTEGYYTIGIGHLLTKSPSLNAAKSEL...</td>\n",
       "      <td>MNGFEMLRIDERLRLKIYKDTEGYYTIGIGHLLTKSPSLNAAKSEL...</td>\n",
       "      <td>replace</td>\n",
       "      <td>2</td>\n",
       "      <td>2</td>\n",
       "      <td>A</td>\n",
       "      <td>G</td>\n",
       "      <td>6.5</td>\n",
       "      <td>10.1038/334406a0</td>\n",
       "      <td>62.9</td>\n",
       "      <td>5</td>\n",
       "      <td>6.5</td>\n",
       "      <td>10.1038/334406a0</td>\n",
       "      <td>58.9</td>\n",
       "      <td>5</td>\n",
       "      <td>-4.0</td>\n",
       "    </tr>\n",
       "    <tr>\n",
       "      <th>4</th>\n",
       "      <td>MNAFEMLRIDERLRLKIYKDTEGYYTIGIGHLLTKSPSLNAAKSEL...</td>\n",
       "      <td>MNLFEMLRIDERLRLKIYKDTEGYYTIGIGHLLTKSPSLNAAKSEL...</td>\n",
       "      <td>replace</td>\n",
       "      <td>2</td>\n",
       "      <td>2</td>\n",
       "      <td>A</td>\n",
       "      <td>L</td>\n",
       "      <td>6.5</td>\n",
       "      <td>10.1038/334406a0</td>\n",
       "      <td>62.9</td>\n",
       "      <td>5</td>\n",
       "      <td>6.5</td>\n",
       "      <td>10.1038/334406a0</td>\n",
       "      <td>65.6</td>\n",
       "      <td>5</td>\n",
       "      <td>2.7</td>\n",
       "    </tr>\n",
       "  </tbody>\n",
       "</table>\n",
       "</div>"
      ],
      "text/plain": [
       "                                            protSeq1  \\\n",
       "0  MNAFEMLRIDERLRLKIYKDTEGYYTIGIGHLLTKSPSLNAAKSEL...   \n",
       "1  MNAFEMLRIDERLRLKIYKDTEGYYTIGIGHLLTKSPSLNAAKSEL...   \n",
       "2  MNAFEMLRIDERLRLKIYKDTEGYYTIGIGHLLTKSPSLNAAKSEL...   \n",
       "3  MNAFEMLRIDERLRLKIYKDTEGYYTIGIGHLLTKSPSLNAAKSEL...   \n",
       "4  MNAFEMLRIDERLRLKIYKDTEGYYTIGIGHLLTKSPSLNAAKSEL...   \n",
       "\n",
       "                                            protSeq2 operation  position1  \\\n",
       "0  MNDFEMLRIDERLRLKIYKDTEGYYTIGIGHLLTKSPSLNAAKSEL...   replace          2   \n",
       "1  MNEFEMLRIDERLRLKIYKDTEGYYTIGIGHLLTKSPSLNAAKSEL...   replace          2   \n",
       "2  MNFFEMLRIDERLRLKIYKDTEGYYTIGIGHLLTKSPSLNAAKSEL...   replace          2   \n",
       "3  MNGFEMLRIDERLRLKIYKDTEGYYTIGIGHLLTKSPSLNAAKSEL...   replace          2   \n",
       "4  MNLFEMLRIDERLRLKIYKDTEGYYTIGIGHLLTKSPSLNAAKSEL...   replace          2   \n",
       "\n",
       "   position2 change1 change2  pH1      data_source1   tm1  group1  pH2  \\\n",
       "0          2       A       D  6.5  10.1038/334406a0  62.9       5  6.5   \n",
       "1          2       A       E  6.5  10.1038/334406a0  62.9       5  6.5   \n",
       "2          2       A       F  6.5  10.1038/334406a0  62.9       5  6.5   \n",
       "3          2       A       G  6.5  10.1038/334406a0  62.9       5  6.5   \n",
       "4          2       A       L  6.5  10.1038/334406a0  62.9       5  6.5   \n",
       "\n",
       "       data_source2   tm2  group2  target  \n",
       "0  10.1038/334406a0  56.2       5    -6.7  \n",
       "1  10.1038/334406a0  59.0       5    -3.9  \n",
       "2  10.1038/334406a0  61.7       5    -1.2  \n",
       "3  10.1038/334406a0  58.9       5    -4.0  \n",
       "4  10.1038/334406a0  65.6       5     2.7  "
      ]
     },
     "execution_count": 273,
     "metadata": {},
     "output_type": "execute_result"
    }
   ],
   "source": [
    "#load training data (will be put in a function later)  \n",
    "path = os.getcwd()\n",
    "for i in range(3) :\n",
    "\n",
    "    path = os.path.dirname(path)\n",
    "\n",
    "path += '/data/'\n",
    "train_df = pd.read_csv(path + 'clean_train_data.csv')\n",
    "train_df = train_df.dropna()\n",
    "train_df.head()"
   ]
  },
  {
   "cell_type": "code",
   "execution_count": 274,
   "metadata": {},
   "outputs": [],
   "source": [
    "train_df['length'] = train_df['protSeq1'].str.len()"
   ]
  },
  {
   "cell_type": "code",
   "execution_count": 275,
   "metadata": {},
   "outputs": [],
   "source": [
    "train_df = train_df.drop(columns=['position2','pH2','data_source1','data_source2','group2'])"
   ]
  },
  {
   "cell_type": "code",
   "execution_count": 276,
   "metadata": {},
   "outputs": [],
   "source": [
    "train_df = train_df.drop(columns=['operation'])"
   ]
  },
  {
   "cell_type": "code",
   "execution_count": 277,
   "metadata": {},
   "outputs": [
    {
     "data": {
      "text/html": [
       "<div>\n",
       "<style scoped>\n",
       "    .dataframe tbody tr th:only-of-type {\n",
       "        vertical-align: middle;\n",
       "    }\n",
       "\n",
       "    .dataframe tbody tr th {\n",
       "        vertical-align: top;\n",
       "    }\n",
       "\n",
       "    .dataframe thead th {\n",
       "        text-align: right;\n",
       "    }\n",
       "</style>\n",
       "<table border=\"1\" class=\"dataframe\">\n",
       "  <thead>\n",
       "    <tr style=\"text-align: right;\">\n",
       "      <th></th>\n",
       "      <th>protSeq1</th>\n",
       "      <th>protSeq2</th>\n",
       "      <th>position1</th>\n",
       "      <th>change1</th>\n",
       "      <th>change2</th>\n",
       "      <th>pH1</th>\n",
       "      <th>tm1</th>\n",
       "      <th>group1</th>\n",
       "      <th>tm2</th>\n",
       "      <th>target</th>\n",
       "      <th>length</th>\n",
       "    </tr>\n",
       "  </thead>\n",
       "  <tbody>\n",
       "    <tr>\n",
       "      <th>0</th>\n",
       "      <td>MNAFEMLRIDERLRLKIYKDTEGYYTIGIGHLLTKSPSLNAAKSEL...</td>\n",
       "      <td>MNDFEMLRIDERLRLKIYKDTEGYYTIGIGHLLTKSPSLNAAKSEL...</td>\n",
       "      <td>2</td>\n",
       "      <td>A</td>\n",
       "      <td>D</td>\n",
       "      <td>6.5</td>\n",
       "      <td>62.9</td>\n",
       "      <td>5</td>\n",
       "      <td>56.2</td>\n",
       "      <td>-6.7</td>\n",
       "      <td>164</td>\n",
       "    </tr>\n",
       "    <tr>\n",
       "      <th>1</th>\n",
       "      <td>MNAFEMLRIDERLRLKIYKDTEGYYTIGIGHLLTKSPSLNAAKSEL...</td>\n",
       "      <td>MNEFEMLRIDERLRLKIYKDTEGYYTIGIGHLLTKSPSLNAAKSEL...</td>\n",
       "      <td>2</td>\n",
       "      <td>A</td>\n",
       "      <td>E</td>\n",
       "      <td>6.5</td>\n",
       "      <td>62.9</td>\n",
       "      <td>5</td>\n",
       "      <td>59.0</td>\n",
       "      <td>-3.9</td>\n",
       "      <td>164</td>\n",
       "    </tr>\n",
       "    <tr>\n",
       "      <th>2</th>\n",
       "      <td>MNAFEMLRIDERLRLKIYKDTEGYYTIGIGHLLTKSPSLNAAKSEL...</td>\n",
       "      <td>MNFFEMLRIDERLRLKIYKDTEGYYTIGIGHLLTKSPSLNAAKSEL...</td>\n",
       "      <td>2</td>\n",
       "      <td>A</td>\n",
       "      <td>F</td>\n",
       "      <td>6.5</td>\n",
       "      <td>62.9</td>\n",
       "      <td>5</td>\n",
       "      <td>61.7</td>\n",
       "      <td>-1.2</td>\n",
       "      <td>164</td>\n",
       "    </tr>\n",
       "    <tr>\n",
       "      <th>3</th>\n",
       "      <td>MNAFEMLRIDERLRLKIYKDTEGYYTIGIGHLLTKSPSLNAAKSEL...</td>\n",
       "      <td>MNGFEMLRIDERLRLKIYKDTEGYYTIGIGHLLTKSPSLNAAKSEL...</td>\n",
       "      <td>2</td>\n",
       "      <td>A</td>\n",
       "      <td>G</td>\n",
       "      <td>6.5</td>\n",
       "      <td>62.9</td>\n",
       "      <td>5</td>\n",
       "      <td>58.9</td>\n",
       "      <td>-4.0</td>\n",
       "      <td>164</td>\n",
       "    </tr>\n",
       "    <tr>\n",
       "      <th>4</th>\n",
       "      <td>MNAFEMLRIDERLRLKIYKDTEGYYTIGIGHLLTKSPSLNAAKSEL...</td>\n",
       "      <td>MNLFEMLRIDERLRLKIYKDTEGYYTIGIGHLLTKSPSLNAAKSEL...</td>\n",
       "      <td>2</td>\n",
       "      <td>A</td>\n",
       "      <td>L</td>\n",
       "      <td>6.5</td>\n",
       "      <td>62.9</td>\n",
       "      <td>5</td>\n",
       "      <td>65.6</td>\n",
       "      <td>2.7</td>\n",
       "      <td>164</td>\n",
       "    </tr>\n",
       "    <tr>\n",
       "      <th>...</th>\n",
       "      <td>...</td>\n",
       "      <td>...</td>\n",
       "      <td>...</td>\n",
       "      <td>...</td>\n",
       "      <td>...</td>\n",
       "      <td>...</td>\n",
       "      <td>...</td>\n",
       "      <td>...</td>\n",
       "      <td>...</td>\n",
       "      <td>...</td>\n",
       "      <td>...</td>\n",
       "    </tr>\n",
       "    <tr>\n",
       "      <th>2291</th>\n",
       "      <td>MGCVQCKDKEATKLTEERDGSLNQSSGYRYGTDPTPQHYPSFGVTS...</td>\n",
       "      <td>MGCVQCKDKEATKLTEERDGSLNQSSGYRYGTDPTPQHYPSFGVTS...</td>\n",
       "      <td>86</td>\n",
       "      <td>S</td>\n",
       "      <td>L</td>\n",
       "      <td>8.0</td>\n",
       "      <td>52.9</td>\n",
       "      <td>57</td>\n",
       "      <td>65.5</td>\n",
       "      <td>12.6</td>\n",
       "      <td>537</td>\n",
       "    </tr>\n",
       "    <tr>\n",
       "      <th>2292</th>\n",
       "      <td>MGCVQCKDKEATKLTEERDGSLNQSSGYRYGTDPTPQHYPSFGVTS...</td>\n",
       "      <td>MGCVQCKDKEATKLTEERDGSLNQSSGYRYGTDPTPQHYPSFGVTS...</td>\n",
       "      <td>86</td>\n",
       "      <td>S</td>\n",
       "      <td>V</td>\n",
       "      <td>8.0</td>\n",
       "      <td>52.9</td>\n",
       "      <td>57</td>\n",
       "      <td>78.8</td>\n",
       "      <td>25.9</td>\n",
       "      <td>537</td>\n",
       "    </tr>\n",
       "    <tr>\n",
       "      <th>2293</th>\n",
       "      <td>MGCVQCKDKEATKLTEERDGSLNQSSGYRYGTDPTPQHYPSFGVTS...</td>\n",
       "      <td>MGCVQCKDKEATKLTEERDGSLNQSSGYRYGTDPTPQHYPSFGVTS...</td>\n",
       "      <td>86</td>\n",
       "      <td>V</td>\n",
       "      <td>A</td>\n",
       "      <td>8.0</td>\n",
       "      <td>78.8</td>\n",
       "      <td>57</td>\n",
       "      <td>71.2</td>\n",
       "      <td>-7.6</td>\n",
       "      <td>537</td>\n",
       "    </tr>\n",
       "    <tr>\n",
       "      <th>2294</th>\n",
       "      <td>MGCVQCKDKEATKLTEERDGSLNQSSGYRYGTDPTPQHYPSFGVTS...</td>\n",
       "      <td>MGCVQCKDKEATKLTEERDGSLNQSSGYRYGTDPTPQHYPSFGVTS...</td>\n",
       "      <td>86</td>\n",
       "      <td>V</td>\n",
       "      <td>L</td>\n",
       "      <td>8.0</td>\n",
       "      <td>78.8</td>\n",
       "      <td>57</td>\n",
       "      <td>65.5</td>\n",
       "      <td>-13.3</td>\n",
       "      <td>537</td>\n",
       "    </tr>\n",
       "    <tr>\n",
       "      <th>2295</th>\n",
       "      <td>MGCVQCKDKEATKLTEERDGSLNQSSGYRYGTDPTPQHYPSFGVTS...</td>\n",
       "      <td>MGCVQCKDKEATKLTEERDGSLNQSSGYRYGTDPTPQHYPSFGVTS...</td>\n",
       "      <td>86</td>\n",
       "      <td>V</td>\n",
       "      <td>S</td>\n",
       "      <td>8.0</td>\n",
       "      <td>78.8</td>\n",
       "      <td>57</td>\n",
       "      <td>52.9</td>\n",
       "      <td>-25.9</td>\n",
       "      <td>537</td>\n",
       "    </tr>\n",
       "  </tbody>\n",
       "</table>\n",
       "<p>2296 rows × 11 columns</p>\n",
       "</div>"
      ],
      "text/plain": [
       "                                               protSeq1  \\\n",
       "0     MNAFEMLRIDERLRLKIYKDTEGYYTIGIGHLLTKSPSLNAAKSEL...   \n",
       "1     MNAFEMLRIDERLRLKIYKDTEGYYTIGIGHLLTKSPSLNAAKSEL...   \n",
       "2     MNAFEMLRIDERLRLKIYKDTEGYYTIGIGHLLTKSPSLNAAKSEL...   \n",
       "3     MNAFEMLRIDERLRLKIYKDTEGYYTIGIGHLLTKSPSLNAAKSEL...   \n",
       "4     MNAFEMLRIDERLRLKIYKDTEGYYTIGIGHLLTKSPSLNAAKSEL...   \n",
       "...                                                 ...   \n",
       "2291  MGCVQCKDKEATKLTEERDGSLNQSSGYRYGTDPTPQHYPSFGVTS...   \n",
       "2292  MGCVQCKDKEATKLTEERDGSLNQSSGYRYGTDPTPQHYPSFGVTS...   \n",
       "2293  MGCVQCKDKEATKLTEERDGSLNQSSGYRYGTDPTPQHYPSFGVTS...   \n",
       "2294  MGCVQCKDKEATKLTEERDGSLNQSSGYRYGTDPTPQHYPSFGVTS...   \n",
       "2295  MGCVQCKDKEATKLTEERDGSLNQSSGYRYGTDPTPQHYPSFGVTS...   \n",
       "\n",
       "                                               protSeq2  position1 change1  \\\n",
       "0     MNDFEMLRIDERLRLKIYKDTEGYYTIGIGHLLTKSPSLNAAKSEL...          2       A   \n",
       "1     MNEFEMLRIDERLRLKIYKDTEGYYTIGIGHLLTKSPSLNAAKSEL...          2       A   \n",
       "2     MNFFEMLRIDERLRLKIYKDTEGYYTIGIGHLLTKSPSLNAAKSEL...          2       A   \n",
       "3     MNGFEMLRIDERLRLKIYKDTEGYYTIGIGHLLTKSPSLNAAKSEL...          2       A   \n",
       "4     MNLFEMLRIDERLRLKIYKDTEGYYTIGIGHLLTKSPSLNAAKSEL...          2       A   \n",
       "...                                                 ...        ...     ...   \n",
       "2291  MGCVQCKDKEATKLTEERDGSLNQSSGYRYGTDPTPQHYPSFGVTS...         86       S   \n",
       "2292  MGCVQCKDKEATKLTEERDGSLNQSSGYRYGTDPTPQHYPSFGVTS...         86       S   \n",
       "2293  MGCVQCKDKEATKLTEERDGSLNQSSGYRYGTDPTPQHYPSFGVTS...         86       V   \n",
       "2294  MGCVQCKDKEATKLTEERDGSLNQSSGYRYGTDPTPQHYPSFGVTS...         86       V   \n",
       "2295  MGCVQCKDKEATKLTEERDGSLNQSSGYRYGTDPTPQHYPSFGVTS...         86       V   \n",
       "\n",
       "     change2  pH1   tm1  group1   tm2  target  length  \n",
       "0          D  6.5  62.9       5  56.2    -6.7     164  \n",
       "1          E  6.5  62.9       5  59.0    -3.9     164  \n",
       "2          F  6.5  62.9       5  61.7    -1.2     164  \n",
       "3          G  6.5  62.9       5  58.9    -4.0     164  \n",
       "4          L  6.5  62.9       5  65.6     2.7     164  \n",
       "...      ...  ...   ...     ...   ...     ...     ...  \n",
       "2291       L  8.0  52.9      57  65.5    12.6     537  \n",
       "2292       V  8.0  52.9      57  78.8    25.9     537  \n",
       "2293       A  8.0  78.8      57  71.2    -7.6     537  \n",
       "2294       L  8.0  78.8      57  65.5   -13.3     537  \n",
       "2295       S  8.0  78.8      57  52.9   -25.9     537  \n",
       "\n",
       "[2296 rows x 11 columns]"
      ]
     },
     "execution_count": 277,
     "metadata": {},
     "output_type": "execute_result"
    }
   ],
   "source": [
    "train_df"
   ]
  },
  {
   "cell_type": "code",
   "execution_count": 18,
   "metadata": {},
   "outputs": [],
   "source": [
    "from tqdm import tqdm"
   ]
  },
  {
   "cell_type": "markdown",
   "metadata": {},
   "source": [
    "\n",
    "embeddings_list_1 = []\n",
    "for i in tqdm(range(0, len(train_df))):\n",
    "    sequence_Example = ' '.join([*train_df['protSeq1'].iloc[i]])\n",
    "    encoded_input = tokenizer(sequence_Example, add_special_tokens=True, padding=True, is_split_into_words=True, return_tensors=\"pt\")\n",
    "    output = model(**encoded_input)\n",
    "    output = output[1].detach().cpu().numpy()[0]\n",
    "    embeddings_list_1.append(output)"
   ]
  },
  {
   "cell_type": "markdown",
   "metadata": {},
   "source": [
    "embeddings_list_2 = []\n",
    "for i in tqdm(range(0, len(train_df))):\n",
    "    sequence_Example = ' '.join([*train_df['protSeq2'].iloc[i]])\n",
    "    encoded_input = tokenizer(sequence_Example, add_special_tokens=True, padding=True, is_split_into_words=True, return_tensors=\"pt\")\n",
    "    output = model(**encoded_input)\n",
    "    output = output[1].detach().cpu().numpy()[0]\n",
    "    embeddings_list_2.append(output)"
   ]
  },
  {
   "cell_type": "code",
   "execution_count": null,
   "metadata": {},
   "outputs": [],
   "source": []
  },
  {
   "cell_type": "code",
   "execution_count": null,
   "metadata": {},
   "outputs": [],
   "source": []
  },
  {
   "cell_type": "code",
   "execution_count": 278,
   "metadata": {},
   "outputs": [],
   "source": [
    "with open('prot_bert.npy', 'rb') as f:\n",
    "    emb1 = np.load(f)\n",
    "    emb2 = np.load(f)"
   ]
  },
  {
   "cell_type": "code",
   "execution_count": 279,
   "metadata": {},
   "outputs": [],
   "source": [
    "emb_2_channels = np.stack((emb1,emb2),axis=1)"
   ]
  },
  {
   "cell_type": "code",
   "execution_count": 280,
   "metadata": {},
   "outputs": [
    {
     "data": {
      "text/plain": [
       "(2296, 2, 1024)"
      ]
     },
     "execution_count": 280,
     "metadata": {},
     "output_type": "execute_result"
    }
   ],
   "source": [
    "emb_2_channels.shape"
   ]
  },
  {
   "cell_type": "code",
   "execution_count": 281,
   "metadata": {},
   "outputs": [],
   "source": [
    "emb_conc = np.concatenate((emb1,emb2),axis=1)"
   ]
  },
  {
   "cell_type": "code",
   "execution_count": 282,
   "metadata": {},
   "outputs": [
    {
     "data": {
      "text/plain": [
       "(2296, 2048)"
      ]
     },
     "execution_count": 282,
     "metadata": {},
     "output_type": "execute_result"
    }
   ],
   "source": [
    "emb_conc.shape"
   ]
  },
  {
   "cell_type": "markdown",
   "metadata": {},
   "source": [
    "with open('prot_bert.npy', 'wb') as f:\n",
    "    np.save(f, emb1)\n",
    "    np.save(f, emb2)"
   ]
  },
  {
   "cell_type": "code",
   "execution_count": 283,
   "metadata": {},
   "outputs": [],
   "source": [
    "new_df['emb_conc'] = emb_conc.tolist()"
   ]
  },
  {
   "cell_type": "code",
   "execution_count": 284,
   "metadata": {},
   "outputs": [
    {
     "data": {
      "text/html": [
       "<div>\n",
       "<style scoped>\n",
       "    .dataframe tbody tr th:only-of-type {\n",
       "        vertical-align: middle;\n",
       "    }\n",
       "\n",
       "    .dataframe tbody tr th {\n",
       "        vertical-align: top;\n",
       "    }\n",
       "\n",
       "    .dataframe thead th {\n",
       "        text-align: right;\n",
       "    }\n",
       "</style>\n",
       "<table border=\"1\" class=\"dataframe\">\n",
       "  <thead>\n",
       "    <tr style=\"text-align: right;\">\n",
       "      <th></th>\n",
       "      <th>target</th>\n",
       "      <th>embeddings1</th>\n",
       "      <th>embeddings2</th>\n",
       "      <th>diff</th>\n",
       "      <th>pH</th>\n",
       "      <th>2_channels</th>\n",
       "      <th>target_norm</th>\n",
       "      <th>emb_conc</th>\n",
       "      <th>emb_conc_100</th>\n",
       "    </tr>\n",
       "  </thead>\n",
       "  <tbody>\n",
       "    <tr>\n",
       "      <th>0</th>\n",
       "      <td>-6.7</td>\n",
       "      <td>[-0.2543777525424957, 0.26851749420166016, -0....</td>\n",
       "      <td>[-0.25311586260795593, 0.2672012448310852, -0....</td>\n",
       "      <td>[-0.001261889934539795, 0.0013162493705749512,...</td>\n",
       "      <td>-0.1875</td>\n",
       "      <td>[[-0.2543777525424957, 0.26851749420166016, -0...</td>\n",
       "      <td>-0.727216</td>\n",
       "      <td>[-0.2543777525424957, 0.26851749420166016, -0....</td>\n",
       "      <td>[-25.437774658203125, 26.851749420166016, -24....</td>\n",
       "    </tr>\n",
       "    <tr>\n",
       "      <th>1</th>\n",
       "      <td>-3.9</td>\n",
       "      <td>[-0.2543777525424957, 0.26851749420166016, -0....</td>\n",
       "      <td>[-0.2523089051246643, 0.2663576900959015, -0.2...</td>\n",
       "      <td>[-0.002068847417831421, 0.002159804105758667, ...</td>\n",
       "      <td>-0.1875</td>\n",
       "      <td>[[-0.2543777525424957, 0.26851749420166016, -0...</td>\n",
       "      <td>-0.423305</td>\n",
       "      <td>[-0.2543777525424957, 0.26851749420166016, -0....</td>\n",
       "      <td>[-25.437774658203125, 26.851749420166016, -24....</td>\n",
       "    </tr>\n",
       "    <tr>\n",
       "      <th>2</th>\n",
       "      <td>-1.2</td>\n",
       "      <td>[-0.2543777525424957, 0.26851749420166016, -0....</td>\n",
       "      <td>[-0.2531052827835083, 0.2671898603439331, -0.2...</td>\n",
       "      <td>[-0.0012724697589874268, 0.0013276338577270508...</td>\n",
       "      <td>-0.1875</td>\n",
       "      <td>[[-0.2543777525424957, 0.26851749420166016, -0...</td>\n",
       "      <td>-0.130248</td>\n",
       "      <td>[-0.2543777525424957, 0.26851749420166016, -0....</td>\n",
       "      <td>[-25.437774658203125, 26.851749420166016, -24....</td>\n",
       "    </tr>\n",
       "    <tr>\n",
       "      <th>3</th>\n",
       "      <td>-4.0</td>\n",
       "      <td>[-0.2543777525424957, 0.26851749420166016, -0....</td>\n",
       "      <td>[-0.25340425968170166, 0.26750609278678894, -0...</td>\n",
       "      <td>[-0.0009734928607940674, 0.0010114014148712158...</td>\n",
       "      <td>-0.1875</td>\n",
       "      <td>[[-0.2543777525424957, 0.26851749420166016, -0...</td>\n",
       "      <td>-0.434159</td>\n",
       "      <td>[-0.2543777525424957, 0.26851749420166016, -0....</td>\n",
       "      <td>[-25.437774658203125, 26.851749420166016, -24....</td>\n",
       "    </tr>\n",
       "    <tr>\n",
       "      <th>4</th>\n",
       "      <td>2.7</td>\n",
       "      <td>[-0.2543777525424957, 0.26851749420166016, -0....</td>\n",
       "      <td>[-0.2538793981075287, 0.2679957449436188, -0.2...</td>\n",
       "      <td>[-0.000498354434967041, 0.0005217492580413818,...</td>\n",
       "      <td>-0.1875</td>\n",
       "      <td>[[-0.2543777525424957, 0.26851749420166016, -0...</td>\n",
       "      <td>0.293057</td>\n",
       "      <td>[-0.2543777525424957, 0.26851749420166016, -0....</td>\n",
       "      <td>[-25.437774658203125, 26.851749420166016, -24....</td>\n",
       "    </tr>\n",
       "    <tr>\n",
       "      <th>...</th>\n",
       "      <td>...</td>\n",
       "      <td>...</td>\n",
       "      <td>...</td>\n",
       "      <td>...</td>\n",
       "      <td>...</td>\n",
       "      <td>...</td>\n",
       "      <td>...</td>\n",
       "      <td>...</td>\n",
       "      <td>...</td>\n",
       "    </tr>\n",
       "    <tr>\n",
       "      <th>2291</th>\n",
       "      <td>12.6</td>\n",
       "      <td>[-0.2874396741390228, 0.3030060827732086, -0.2...</td>\n",
       "      <td>[-0.28740358352661133, 0.30296844244003296, -0...</td>\n",
       "      <td>[-3.6090612411499023e-05, 3.764033317565918e-0...</td>\n",
       "      <td>0.0000</td>\n",
       "      <td>[[-0.2874396741390228, 0.3030060827732086, -0....</td>\n",
       "      <td>1.367600</td>\n",
       "      <td>[-0.2874396741390228, 0.3030060827732086, -0.2...</td>\n",
       "      <td>[-28.743967056274414, 30.300607681274414, -27....</td>\n",
       "    </tr>\n",
       "    <tr>\n",
       "      <th>2292</th>\n",
       "      <td>25.9</td>\n",
       "      <td>[-0.2874396741390228, 0.3030060827732086, -0.2...</td>\n",
       "      <td>[-0.28744038939476013, 0.3030068576335907, -0....</td>\n",
       "      <td>[7.152557373046875e-07, -7.748603820800781e-07...</td>\n",
       "      <td>0.0000</td>\n",
       "      <td>[[-0.2874396741390228, 0.3030060827732086, -0....</td>\n",
       "      <td>2.811178</td>\n",
       "      <td>[-0.2874396741390228, 0.3030060827732086, -0.2...</td>\n",
       "      <td>[-28.743967056274414, 30.300607681274414, -27....</td>\n",
       "    </tr>\n",
       "    <tr>\n",
       "      <th>2293</th>\n",
       "      <td>-7.6</td>\n",
       "      <td>[-0.28744038939476013, 0.3030068576335907, -0....</td>\n",
       "      <td>[-0.2874530553817749, 0.30302003026008606, -0....</td>\n",
       "      <td>[1.2665987014770508e-05, -1.3172626495361328e-...</td>\n",
       "      <td>0.0000</td>\n",
       "      <td>[[-0.28744038939476013, 0.3030068576335907, -0...</td>\n",
       "      <td>-0.824902</td>\n",
       "      <td>[-0.28744038939476013, 0.3030068576335907, -0....</td>\n",
       "      <td>[-28.74403953552246, 30.30068588256836, -27.39...</td>\n",
       "    </tr>\n",
       "    <tr>\n",
       "      <th>2294</th>\n",
       "      <td>-13.3</td>\n",
       "      <td>[-0.28744038939476013, 0.3030068576335907, -0....</td>\n",
       "      <td>[-0.28740358352661133, 0.30296844244003296, -0...</td>\n",
       "      <td>[-3.680586814880371e-05, 3.841519355773926e-05...</td>\n",
       "      <td>0.0000</td>\n",
       "      <td>[[-0.28744038939476013, 0.3030068576335907, -0...</td>\n",
       "      <td>-1.443578</td>\n",
       "      <td>[-0.28744038939476013, 0.3030068576335907, -0....</td>\n",
       "      <td>[-28.74403953552246, 30.30068588256836, -27.39...</td>\n",
       "    </tr>\n",
       "    <tr>\n",
       "      <th>2295</th>\n",
       "      <td>-25.9</td>\n",
       "      <td>[-0.28744038939476013, 0.3030068576335907, -0....</td>\n",
       "      <td>[-0.2874396741390228, 0.3030060827732086, -0.2...</td>\n",
       "      <td>[-7.152557373046875e-07, 7.748603820800781e-07...</td>\n",
       "      <td>0.0000</td>\n",
       "      <td>[[-0.28744038939476013, 0.3030068576335907, -0...</td>\n",
       "      <td>-2.811178</td>\n",
       "      <td>[-0.28744038939476013, 0.3030068576335907, -0....</td>\n",
       "      <td>[-28.74403953552246, 30.30068588256836, -27.39...</td>\n",
       "    </tr>\n",
       "  </tbody>\n",
       "</table>\n",
       "<p>2296 rows × 9 columns</p>\n",
       "</div>"
      ],
      "text/plain": [
       "      target                                        embeddings1  \\\n",
       "0       -6.7  [-0.2543777525424957, 0.26851749420166016, -0....   \n",
       "1       -3.9  [-0.2543777525424957, 0.26851749420166016, -0....   \n",
       "2       -1.2  [-0.2543777525424957, 0.26851749420166016, -0....   \n",
       "3       -4.0  [-0.2543777525424957, 0.26851749420166016, -0....   \n",
       "4        2.7  [-0.2543777525424957, 0.26851749420166016, -0....   \n",
       "...      ...                                                ...   \n",
       "2291    12.6  [-0.2874396741390228, 0.3030060827732086, -0.2...   \n",
       "2292    25.9  [-0.2874396741390228, 0.3030060827732086, -0.2...   \n",
       "2293    -7.6  [-0.28744038939476013, 0.3030068576335907, -0....   \n",
       "2294   -13.3  [-0.28744038939476013, 0.3030068576335907, -0....   \n",
       "2295   -25.9  [-0.28744038939476013, 0.3030068576335907, -0....   \n",
       "\n",
       "                                            embeddings2  \\\n",
       "0     [-0.25311586260795593, 0.2672012448310852, -0....   \n",
       "1     [-0.2523089051246643, 0.2663576900959015, -0.2...   \n",
       "2     [-0.2531052827835083, 0.2671898603439331, -0.2...   \n",
       "3     [-0.25340425968170166, 0.26750609278678894, -0...   \n",
       "4     [-0.2538793981075287, 0.2679957449436188, -0.2...   \n",
       "...                                                 ...   \n",
       "2291  [-0.28740358352661133, 0.30296844244003296, -0...   \n",
       "2292  [-0.28744038939476013, 0.3030068576335907, -0....   \n",
       "2293  [-0.2874530553817749, 0.30302003026008606, -0....   \n",
       "2294  [-0.28740358352661133, 0.30296844244003296, -0...   \n",
       "2295  [-0.2874396741390228, 0.3030060827732086, -0.2...   \n",
       "\n",
       "                                                   diff      pH  \\\n",
       "0     [-0.001261889934539795, 0.0013162493705749512,... -0.1875   \n",
       "1     [-0.002068847417831421, 0.002159804105758667, ... -0.1875   \n",
       "2     [-0.0012724697589874268, 0.0013276338577270508... -0.1875   \n",
       "3     [-0.0009734928607940674, 0.0010114014148712158... -0.1875   \n",
       "4     [-0.000498354434967041, 0.0005217492580413818,... -0.1875   \n",
       "...                                                 ...     ...   \n",
       "2291  [-3.6090612411499023e-05, 3.764033317565918e-0...  0.0000   \n",
       "2292  [7.152557373046875e-07, -7.748603820800781e-07...  0.0000   \n",
       "2293  [1.2665987014770508e-05, -1.3172626495361328e-...  0.0000   \n",
       "2294  [-3.680586814880371e-05, 3.841519355773926e-05...  0.0000   \n",
       "2295  [-7.152557373046875e-07, 7.748603820800781e-07...  0.0000   \n",
       "\n",
       "                                             2_channels  target_norm  \\\n",
       "0     [[-0.2543777525424957, 0.26851749420166016, -0...    -0.727216   \n",
       "1     [[-0.2543777525424957, 0.26851749420166016, -0...    -0.423305   \n",
       "2     [[-0.2543777525424957, 0.26851749420166016, -0...    -0.130248   \n",
       "3     [[-0.2543777525424957, 0.26851749420166016, -0...    -0.434159   \n",
       "4     [[-0.2543777525424957, 0.26851749420166016, -0...     0.293057   \n",
       "...                                                 ...          ...   \n",
       "2291  [[-0.2874396741390228, 0.3030060827732086, -0....     1.367600   \n",
       "2292  [[-0.2874396741390228, 0.3030060827732086, -0....     2.811178   \n",
       "2293  [[-0.28744038939476013, 0.3030068576335907, -0...    -0.824902   \n",
       "2294  [[-0.28744038939476013, 0.3030068576335907, -0...    -1.443578   \n",
       "2295  [[-0.28744038939476013, 0.3030068576335907, -0...    -2.811178   \n",
       "\n",
       "                                               emb_conc  \\\n",
       "0     [-0.2543777525424957, 0.26851749420166016, -0....   \n",
       "1     [-0.2543777525424957, 0.26851749420166016, -0....   \n",
       "2     [-0.2543777525424957, 0.26851749420166016, -0....   \n",
       "3     [-0.2543777525424957, 0.26851749420166016, -0....   \n",
       "4     [-0.2543777525424957, 0.26851749420166016, -0....   \n",
       "...                                                 ...   \n",
       "2291  [-0.2874396741390228, 0.3030060827732086, -0.2...   \n",
       "2292  [-0.2874396741390228, 0.3030060827732086, -0.2...   \n",
       "2293  [-0.28744038939476013, 0.3030068576335907, -0....   \n",
       "2294  [-0.28744038939476013, 0.3030068576335907, -0....   \n",
       "2295  [-0.28744038939476013, 0.3030068576335907, -0....   \n",
       "\n",
       "                                           emb_conc_100  \n",
       "0     [-25.437774658203125, 26.851749420166016, -24....  \n",
       "1     [-25.437774658203125, 26.851749420166016, -24....  \n",
       "2     [-25.437774658203125, 26.851749420166016, -24....  \n",
       "3     [-25.437774658203125, 26.851749420166016, -24....  \n",
       "4     [-25.437774658203125, 26.851749420166016, -24....  \n",
       "...                                                 ...  \n",
       "2291  [-28.743967056274414, 30.300607681274414, -27....  \n",
       "2292  [-28.743967056274414, 30.300607681274414, -27....  \n",
       "2293  [-28.74403953552246, 30.30068588256836, -27.39...  \n",
       "2294  [-28.74403953552246, 30.30068588256836, -27.39...  \n",
       "2295  [-28.74403953552246, 30.30068588256836, -27.39...  \n",
       "\n",
       "[2296 rows x 9 columns]"
      ]
     },
     "execution_count": 284,
     "metadata": {},
     "output_type": "execute_result"
    }
   ],
   "source": [
    "new_df"
   ]
  },
  {
   "cell_type": "code",
   "execution_count": 285,
   "metadata": {},
   "outputs": [],
   "source": [
    "new_df['emb_conc_100']  = (emb_conc *100).tolist()"
   ]
  },
  {
   "cell_type": "code",
   "execution_count": null,
   "metadata": {},
   "outputs": [],
   "source": []
  },
  {
   "cell_type": "code",
   "execution_count": 286,
   "metadata": {},
   "outputs": [],
   "source": [
    "new_df = train_df['target'].to_frame()"
   ]
  },
  {
   "cell_type": "code",
   "execution_count": 287,
   "metadata": {},
   "outputs": [],
   "source": [
    "new_df['2_channels'] = emb_2_channels.tolist()"
   ]
  },
  {
   "cell_type": "code",
   "execution_count": 288,
   "metadata": {},
   "outputs": [],
   "source": [
    "\n",
    "#column to datafram\n",
    "new_df['embeddings1'] = emb1.tolist()\n",
    "\n",
    "# add difference of embeddings to dataframe\n",
    "new_df['embeddings2'] = emb2.tolist()"
   ]
  },
  {
   "cell_type": "code",
   "execution_count": 289,
   "metadata": {},
   "outputs": [],
   "source": [
    "new_df['diff'] = new_df.apply(lambda row : np.array(row['embeddings1'])- np.array(row['embeddings2']),axis=1)"
   ]
  },
  {
   "cell_type": "code",
   "execution_count": 290,
   "metadata": {},
   "outputs": [],
   "source": [
    "new_df['pH'] = train_df['pH1']"
   ]
  },
  {
   "cell_type": "code",
   "execution_count": 291,
   "metadata": {},
   "outputs": [],
   "source": [
    "new_df['diff*10000']  = new_df['diff']* 10000"
   ]
  },
  {
   "cell_type": "code",
   "execution_count": 292,
   "metadata": {},
   "outputs": [],
   "source": [
    "new_df['pH'] = (new_df['pH'] - 8) / max(new_df['pH'])"
   ]
  },
  {
   "cell_type": "code",
   "execution_count": 294,
   "metadata": {},
   "outputs": [],
   "source": [
    "new_df['length'] = train_df['length']"
   ]
  },
  {
   "cell_type": "markdown",
   "metadata": {},
   "source": [
    "new_df.to_csv('prot_bert_embeddings.csv')"
   ]
  },
  {
   "cell_type": "code",
   "execution_count": 295,
   "metadata": {},
   "outputs": [
    {
     "data": {
      "text/html": [
       "<div>\n",
       "<style scoped>\n",
       "    .dataframe tbody tr th:only-of-type {\n",
       "        vertical-align: middle;\n",
       "    }\n",
       "\n",
       "    .dataframe tbody tr th {\n",
       "        vertical-align: top;\n",
       "    }\n",
       "\n",
       "    .dataframe thead th {\n",
       "        text-align: right;\n",
       "    }\n",
       "</style>\n",
       "<table border=\"1\" class=\"dataframe\">\n",
       "  <thead>\n",
       "    <tr style=\"text-align: right;\">\n",
       "      <th></th>\n",
       "      <th>target</th>\n",
       "      <th>2_channels</th>\n",
       "      <th>embeddings1</th>\n",
       "      <th>embeddings2</th>\n",
       "      <th>diff</th>\n",
       "      <th>pH</th>\n",
       "      <th>diff*10000</th>\n",
       "      <th>length</th>\n",
       "    </tr>\n",
       "  </thead>\n",
       "  <tbody>\n",
       "    <tr>\n",
       "      <th>0</th>\n",
       "      <td>-6.7</td>\n",
       "      <td>[[-0.2543777525424957, 0.26851749420166016, -0...</td>\n",
       "      <td>[-0.2543777525424957, 0.26851749420166016, -0....</td>\n",
       "      <td>[-0.25311586260795593, 0.2672012448310852, -0....</td>\n",
       "      <td>[-0.001261889934539795, 0.0013162493705749512,...</td>\n",
       "      <td>-0.1875</td>\n",
       "      <td>[-12.61889934539795, 13.162493705749512, -12.1...</td>\n",
       "      <td>164</td>\n",
       "    </tr>\n",
       "    <tr>\n",
       "      <th>1</th>\n",
       "      <td>-3.9</td>\n",
       "      <td>[[-0.2543777525424957, 0.26851749420166016, -0...</td>\n",
       "      <td>[-0.2543777525424957, 0.26851749420166016, -0....</td>\n",
       "      <td>[-0.2523089051246643, 0.2663576900959015, -0.2...</td>\n",
       "      <td>[-0.002068847417831421, 0.002159804105758667, ...</td>\n",
       "      <td>-0.1875</td>\n",
       "      <td>[-20.68847417831421, 21.59804105758667, -19.86...</td>\n",
       "      <td>164</td>\n",
       "    </tr>\n",
       "    <tr>\n",
       "      <th>2</th>\n",
       "      <td>-1.2</td>\n",
       "      <td>[[-0.2543777525424957, 0.26851749420166016, -0...</td>\n",
       "      <td>[-0.2543777525424957, 0.26851749420166016, -0....</td>\n",
       "      <td>[-0.2531052827835083, 0.2671898603439331, -0.2...</td>\n",
       "      <td>[-0.0012724697589874268, 0.0013276338577270508...</td>\n",
       "      <td>-0.1875</td>\n",
       "      <td>[-12.724697589874268, 13.276338577270508, -12....</td>\n",
       "      <td>164</td>\n",
       "    </tr>\n",
       "    <tr>\n",
       "      <th>3</th>\n",
       "      <td>-4.0</td>\n",
       "      <td>[[-0.2543777525424957, 0.26851749420166016, -0...</td>\n",
       "      <td>[-0.2543777525424957, 0.26851749420166016, -0....</td>\n",
       "      <td>[-0.25340425968170166, 0.26750609278678894, -0...</td>\n",
       "      <td>[-0.0009734928607940674, 0.0010114014148712158...</td>\n",
       "      <td>-0.1875</td>\n",
       "      <td>[-9.734928607940674, 10.114014148712158, -9.38...</td>\n",
       "      <td>164</td>\n",
       "    </tr>\n",
       "    <tr>\n",
       "      <th>4</th>\n",
       "      <td>2.7</td>\n",
       "      <td>[[-0.2543777525424957, 0.26851749420166016, -0...</td>\n",
       "      <td>[-0.2543777525424957, 0.26851749420166016, -0....</td>\n",
       "      <td>[-0.2538793981075287, 0.2679957449436188, -0.2...</td>\n",
       "      <td>[-0.000498354434967041, 0.0005217492580413818,...</td>\n",
       "      <td>-0.1875</td>\n",
       "      <td>[-4.98354434967041, 5.217492580413818, -4.7753...</td>\n",
       "      <td>164</td>\n",
       "    </tr>\n",
       "    <tr>\n",
       "      <th>...</th>\n",
       "      <td>...</td>\n",
       "      <td>...</td>\n",
       "      <td>...</td>\n",
       "      <td>...</td>\n",
       "      <td>...</td>\n",
       "      <td>...</td>\n",
       "      <td>...</td>\n",
       "      <td>...</td>\n",
       "    </tr>\n",
       "    <tr>\n",
       "      <th>2291</th>\n",
       "      <td>12.6</td>\n",
       "      <td>[[-0.2874396741390228, 0.3030060827732086, -0....</td>\n",
       "      <td>[-0.2874396741390228, 0.3030060827732086, -0.2...</td>\n",
       "      <td>[-0.28740358352661133, 0.30296844244003296, -0...</td>\n",
       "      <td>[-3.6090612411499023e-05, 3.764033317565918e-0...</td>\n",
       "      <td>0.0000</td>\n",
       "      <td>[-0.36090612411499023, 0.3764033317565918, -0....</td>\n",
       "      <td>537</td>\n",
       "    </tr>\n",
       "    <tr>\n",
       "      <th>2292</th>\n",
       "      <td>25.9</td>\n",
       "      <td>[[-0.2874396741390228, 0.3030060827732086, -0....</td>\n",
       "      <td>[-0.2874396741390228, 0.3030060827732086, -0.2...</td>\n",
       "      <td>[-0.28744038939476013, 0.3030068576335907, -0....</td>\n",
       "      <td>[7.152557373046875e-07, -7.748603820800781e-07...</td>\n",
       "      <td>0.0000</td>\n",
       "      <td>[0.007152557373046875, -0.007748603820800781, ...</td>\n",
       "      <td>537</td>\n",
       "    </tr>\n",
       "    <tr>\n",
       "      <th>2293</th>\n",
       "      <td>-7.6</td>\n",
       "      <td>[[-0.28744038939476013, 0.3030068576335907, -0...</td>\n",
       "      <td>[-0.28744038939476013, 0.3030068576335907, -0....</td>\n",
       "      <td>[-0.2874530553817749, 0.30302003026008606, -0....</td>\n",
       "      <td>[1.2665987014770508e-05, -1.3172626495361328e-...</td>\n",
       "      <td>0.0000</td>\n",
       "      <td>[0.12665987014770508, -0.13172626495361328, 0....</td>\n",
       "      <td>537</td>\n",
       "    </tr>\n",
       "    <tr>\n",
       "      <th>2294</th>\n",
       "      <td>-13.3</td>\n",
       "      <td>[[-0.28744038939476013, 0.3030068576335907, -0...</td>\n",
       "      <td>[-0.28744038939476013, 0.3030068576335907, -0....</td>\n",
       "      <td>[-0.28740358352661133, 0.30296844244003296, -0...</td>\n",
       "      <td>[-3.680586814880371e-05, 3.841519355773926e-05...</td>\n",
       "      <td>0.0000</td>\n",
       "      <td>[-0.3680586814880371, 0.3841519355773926, -0.3...</td>\n",
       "      <td>537</td>\n",
       "    </tr>\n",
       "    <tr>\n",
       "      <th>2295</th>\n",
       "      <td>-25.9</td>\n",
       "      <td>[[-0.28744038939476013, 0.3030068576335907, -0...</td>\n",
       "      <td>[-0.28744038939476013, 0.3030068576335907, -0....</td>\n",
       "      <td>[-0.2874396741390228, 0.3030060827732086, -0.2...</td>\n",
       "      <td>[-7.152557373046875e-07, 7.748603820800781e-07...</td>\n",
       "      <td>0.0000</td>\n",
       "      <td>[-0.007152557373046875, 0.007748603820800781, ...</td>\n",
       "      <td>537</td>\n",
       "    </tr>\n",
       "  </tbody>\n",
       "</table>\n",
       "<p>2296 rows × 8 columns</p>\n",
       "</div>"
      ],
      "text/plain": [
       "      target                                         2_channels  \\\n",
       "0       -6.7  [[-0.2543777525424957, 0.26851749420166016, -0...   \n",
       "1       -3.9  [[-0.2543777525424957, 0.26851749420166016, -0...   \n",
       "2       -1.2  [[-0.2543777525424957, 0.26851749420166016, -0...   \n",
       "3       -4.0  [[-0.2543777525424957, 0.26851749420166016, -0...   \n",
       "4        2.7  [[-0.2543777525424957, 0.26851749420166016, -0...   \n",
       "...      ...                                                ...   \n",
       "2291    12.6  [[-0.2874396741390228, 0.3030060827732086, -0....   \n",
       "2292    25.9  [[-0.2874396741390228, 0.3030060827732086, -0....   \n",
       "2293    -7.6  [[-0.28744038939476013, 0.3030068576335907, -0...   \n",
       "2294   -13.3  [[-0.28744038939476013, 0.3030068576335907, -0...   \n",
       "2295   -25.9  [[-0.28744038939476013, 0.3030068576335907, -0...   \n",
       "\n",
       "                                            embeddings1  \\\n",
       "0     [-0.2543777525424957, 0.26851749420166016, -0....   \n",
       "1     [-0.2543777525424957, 0.26851749420166016, -0....   \n",
       "2     [-0.2543777525424957, 0.26851749420166016, -0....   \n",
       "3     [-0.2543777525424957, 0.26851749420166016, -0....   \n",
       "4     [-0.2543777525424957, 0.26851749420166016, -0....   \n",
       "...                                                 ...   \n",
       "2291  [-0.2874396741390228, 0.3030060827732086, -0.2...   \n",
       "2292  [-0.2874396741390228, 0.3030060827732086, -0.2...   \n",
       "2293  [-0.28744038939476013, 0.3030068576335907, -0....   \n",
       "2294  [-0.28744038939476013, 0.3030068576335907, -0....   \n",
       "2295  [-0.28744038939476013, 0.3030068576335907, -0....   \n",
       "\n",
       "                                            embeddings2  \\\n",
       "0     [-0.25311586260795593, 0.2672012448310852, -0....   \n",
       "1     [-0.2523089051246643, 0.2663576900959015, -0.2...   \n",
       "2     [-0.2531052827835083, 0.2671898603439331, -0.2...   \n",
       "3     [-0.25340425968170166, 0.26750609278678894, -0...   \n",
       "4     [-0.2538793981075287, 0.2679957449436188, -0.2...   \n",
       "...                                                 ...   \n",
       "2291  [-0.28740358352661133, 0.30296844244003296, -0...   \n",
       "2292  [-0.28744038939476013, 0.3030068576335907, -0....   \n",
       "2293  [-0.2874530553817749, 0.30302003026008606, -0....   \n",
       "2294  [-0.28740358352661133, 0.30296844244003296, -0...   \n",
       "2295  [-0.2874396741390228, 0.3030060827732086, -0.2...   \n",
       "\n",
       "                                                   diff      pH  \\\n",
       "0     [-0.001261889934539795, 0.0013162493705749512,... -0.1875   \n",
       "1     [-0.002068847417831421, 0.002159804105758667, ... -0.1875   \n",
       "2     [-0.0012724697589874268, 0.0013276338577270508... -0.1875   \n",
       "3     [-0.0009734928607940674, 0.0010114014148712158... -0.1875   \n",
       "4     [-0.000498354434967041, 0.0005217492580413818,... -0.1875   \n",
       "...                                                 ...     ...   \n",
       "2291  [-3.6090612411499023e-05, 3.764033317565918e-0...  0.0000   \n",
       "2292  [7.152557373046875e-07, -7.748603820800781e-07...  0.0000   \n",
       "2293  [1.2665987014770508e-05, -1.3172626495361328e-...  0.0000   \n",
       "2294  [-3.680586814880371e-05, 3.841519355773926e-05...  0.0000   \n",
       "2295  [-7.152557373046875e-07, 7.748603820800781e-07...  0.0000   \n",
       "\n",
       "                                             diff*10000  length  \n",
       "0     [-12.61889934539795, 13.162493705749512, -12.1...     164  \n",
       "1     [-20.68847417831421, 21.59804105758667, -19.86...     164  \n",
       "2     [-12.724697589874268, 13.276338577270508, -12....     164  \n",
       "3     [-9.734928607940674, 10.114014148712158, -9.38...     164  \n",
       "4     [-4.98354434967041, 5.217492580413818, -4.7753...     164  \n",
       "...                                                 ...     ...  \n",
       "2291  [-0.36090612411499023, 0.3764033317565918, -0....     537  \n",
       "2292  [0.007152557373046875, -0.007748603820800781, ...     537  \n",
       "2293  [0.12665987014770508, -0.13172626495361328, 0....     537  \n",
       "2294  [-0.3680586814880371, 0.3841519355773926, -0.3...     537  \n",
       "2295  [-0.007152557373046875, 0.007748603820800781, ...     537  \n",
       "\n",
       "[2296 rows x 8 columns]"
      ]
     },
     "execution_count": 295,
     "metadata": {},
     "output_type": "execute_result"
    }
   ],
   "source": [
    "new_df"
   ]
  },
  {
   "cell_type": "code",
   "execution_count": 156,
   "metadata": {},
   "outputs": [],
   "source": [
    "new_df['target_norm'] = ( new_df['target'] - new_df['target'].mean() ) / new_df['target'].std()"
   ]
  },
  {
   "cell_type": "code",
   "execution_count": 342,
   "metadata": {},
   "outputs": [],
   "source": [
    "class Emb2torch(Dataset):\n",
    " \n",
    "    def __init__(self,df,train=True):\n",
    "    \n",
    "        # the Amino acid sequences as an int array\n",
    "        sequence= df['diff']\n",
    "        # numerical : pH and length\n",
    "        numerical = df[['pH','length']].values\n",
    "        print(numerical.shape)\n",
    "        # y : the target (tm)\n",
    "        if train == True : \n",
    "            y=df['target'].values\n",
    "        else : \n",
    "            y = np.zeros(len(sequence))\n",
    "            \n",
    "            \n",
    "        self.y=torch.tensor(y,dtype=torch.float32)\n",
    "        #creta tensors from the numpy arrays\n",
    "        self.x_sequence=torch.tensor(sequence)\n",
    "       \n",
    "        self.num=torch.tensor(numerical,dtype=torch.float32)\n",
    "   \n",
    " \n",
    "    def __len__(self):\n",
    "        return len(self.y)\n",
    "   \n",
    "    def __getitem__(self,idx):\n",
    "        return self.x_sequence[idx],self.y[idx] , self.num[idx]"
   ]
  },
  {
   "cell_type": "code",
   "execution_count": 343,
   "metadata": {},
   "outputs": [],
   "source": [
    "train_df = new_df.sample(frac=0.8,random_state=24)\n",
    "val_df = new_df.drop(train_df.index)\n",
    "\n",
    "train_df = train_df.reset_index(drop=True)\n",
    "val_df = val_df.reset_index(drop=True)\n"
   ]
  },
  {
   "cell_type": "code",
   "execution_count": 344,
   "metadata": {},
   "outputs": [],
   "source": [
    "# hyperparameters\n",
    "batch_size = 64\n",
    "learning_rate = 0.001 # Suggested for Adam\n",
    "num_epochs = 100\n"
   ]
  },
  {
   "cell_type": "code",
   "execution_count": 345,
   "metadata": {},
   "outputs": [
    {
     "name": "stdout",
     "output_type": "stream",
     "text": [
      "(1837, 2)\n",
      "(459, 2)\n"
     ]
    }
   ],
   "source": [
    "# create pytorch dataframes\n",
    "train_d = Emb2torch(train_df)\n",
    "val_d = Emb2torch(val_df)\n",
    "\n",
    "\n",
    "# create pytorch dataloaders\n",
    "train_dl = torch.utils.data.DataLoader(train_d, batch_size=batch_size, shuffle=True)\n",
    "val_dl = torch.utils.data.DataLoader(val_d, batch_size=batch_size, shuffle=True)"
   ]
  },
  {
   "cell_type": "markdown",
   "metadata": {},
   "source": [
    "class EnzymesDataset(Dataset):\n",
    " \n",
    "    def __init__(self,df,train=True):\n",
    "    \n",
    "        # the Amino acid sequences as an int array\n",
    "        sequence= df['encoded_sequence']\n",
    "        # numerical : pH and length\n",
    "        numerical = df[['pH','length']].values\n",
    "\n",
    "        # y : the target (tm)\n",
    "        if train == True : \n",
    "            y=df['tm'].values\n",
    "        else : \n",
    "            y = np.zeros(len(sequence))\n",
    "        self.y=torch.tensor(y,dtype=torch.float32)\n",
    "        #creta tensors from the numpy arrays\n",
    "        self.x_sequence=torch.tensor(sequence)\n",
    "       \n",
    "        self.num=torch.tensor(numerical,dtype=torch.float32)\n",
    "   \n",
    " \n",
    "    def __len__(self):\n",
    "        return len(self.y)\n",
    "   \n",
    "    def __getitem__(self,idx):\n",
    "        return self.x_sequence[idx],self.y[idx] , self.num[idx]"
   ]
  },
  {
   "cell_type": "markdown",
   "metadata": {},
   "source": [
    "## Create 1d conv net"
   ]
  },
  {
   "cell_type": "markdown",
   "metadata": {},
   "source": [
    "1. get DataLoader from train_dl"
   ]
  },
  {
   "cell_type": "markdown",
   "metadata": {},
   "source": [
    "class EnzymesDataset(Dataset):\n",
    " \n",
    "    def __init__(self,df,train=True):\n",
    "    \n",
    "        # the Amino acid sequences as an int array\n",
    "        sequence= df['encoded_sequence']\n",
    "        # numerical : pH and length\n",
    "        numerical = df[['pH','length']].values\n",
    "\n",
    "        # y : the target (tm)\n",
    "        if train == True : \n",
    "            y=df['tm'].values\n",
    "        else : \n",
    "            y = np.zeros(len(sequence))\n",
    "        self.y=torch.tensor(y,dtype=torch.float32)\n",
    "        #creta tensors from the numpy arrays\n",
    "        self.x_sequence=torch.tensor(sequence)\n",
    "       \n",
    "        self.num=torch.tensor(numerical,dtype=torch.float32)\n",
    "   \n",
    " \n",
    "    def __len__(self):\n",
    "        return len(self.y)\n",
    "   \n",
    "    def __getitem__(self,idx):\n",
    "        return self.x_sequence[idx],self.y[idx] , self.num[idx]\n"
   ]
  },
  {
   "cell_type": "code",
   "execution_count": null,
   "metadata": {},
   "outputs": [],
   "source": []
  },
  {
   "cell_type": "code",
   "execution_count": null,
   "metadata": {},
   "outputs": [],
   "source": []
  },
  {
   "cell_type": "markdown",
   "metadata": {},
   "source": [
    "a faire : apres avoir fait one hot encoding, trouver comment mettre l'info de plusieurs channels dans le dataframe, sans qu'il mette d'erreur sur la taille. \n",
    "Voir comment mettre un tableau = 1 aa puis la longueur de la ligne = longueur totale (juste transposer ?)\n"
   ]
  },
  {
   "cell_type": "markdown",
   "metadata": {},
   "source": [
    "class MyLoss(torch.nn.Module):\n",
    "    def __init__(self, batch_size, classes):\n",
    "        super(MyLoss, self).__init__()\n",
    "        # define some attributes\n",
    "        self.y_true_one_hot = torch.FloatTensor(batch_size, classes, length)\n",
    "\n",
    "    def forward(self, y_pred, y_true):\n",
    "        with torch.no_grad():\n",
    "            self.y_true_one_hot.zero_().scatter_(1, y_true, 1) # permet one hot encoding\n",
    "        # do some operations\n",
    "        return loss\n",
    "\n",
    "\n",
    "Or use cross entropy loss ?"
   ]
  },
  {
   "cell_type": "markdown",
   "metadata": {},
   "source": [
    "# create pytorch dataframes\n",
    "train_d = EnzymesDataset(df)\n",
    "val_d = EnzymesDataset(test_df,train=False)\n",
    "\n",
    "\n",
    "# create pytorch dataloaders\n",
    "train_dl = torch.utils.data.DataLoader(train_d, batch_size=batch_size, shuffle=True)\n",
    "val_dl = torch.utils.data.DataLoader(val_d, batch_size=batch_size, shuffle=True)"
   ]
  },
  {
   "cell_type": "code",
   "execution_count": null,
   "metadata": {},
   "outputs": [],
   "source": [
    "\n"
   ]
  },
  {
   "cell_type": "code",
   "execution_count": 376,
   "metadata": {},
   "outputs": [],
   "source": [
    "class Conv1D_OneChannel(nn.Module):\n",
    "\n",
    "    def __init__(self):\n",
    "        super().__init__()\n",
    "       \n",
    "        self.prot_seq_one_pooling = nn.Sequential(\n",
    "\n",
    "\n",
    "            nn.Conv1d(2, 10,kernel_size=6, stride=1),\n",
    "            nn.ReLU(),\n",
    "            \n",
    "\n",
    "            nn.Conv1d(10, 10,kernel_size=6, stride=1), \n",
    "            nn.ReLU(), \n",
    "            \n",
    "            \n",
    "            nn.Conv1d(10, 10,kernel_size=6, stride=3), \n",
    "            nn.ReLU(), \n",
    "            \n",
    "            \n",
    "         \n",
    "            torch.nn.MaxPool1d(10), \n",
    "            \n",
    "            torch.nn.Flatten(),\n",
    "            torch.nn.Dropout(p=0.5, inplace=False),\n",
    "            \n",
    " \n",
    "            \n",
    "\n",
    "        )\n",
    "        self.numerical = nn.Sequential(\n",
    "            nn.Linear(1, 2),\n",
    "            nn.ReLU(),\n",
    "            nn.Dropout(),\n",
    "            nn.Linear(2, 2),\n",
    "            nn.ReLU(),\n",
    "            \n",
    "        )\n",
    "        self.mlp = nn.Sequential(\n",
    "          nn.Linear(1026, 1024),\n",
    "            nn.ReLU(),\n",
    "            nn.Dropout(),\n",
    "            nn.Linear(1024, 512),\n",
    "            nn.ReLU(),\n",
    "            nn.Linear(512,1)\n",
    "            \n",
    "        )\n",
    "\n",
    "    def forward(self, x,y):\n",
    "        \n",
    "    \n",
    "        \n",
    "       \n",
    "        \n",
    "        x = torch.cat((x, y), 1)\n",
    "      \n",
    "      \n",
    "        x = self.mlp(x.float())\n",
    "        return x"
   ]
  },
  {
   "cell_type": "code",
   "execution_count": 377,
   "metadata": {},
   "outputs": [
    {
     "data": {
      "text/plain": [
       "(2296, 2048)"
      ]
     },
     "execution_count": 377,
     "metadata": {},
     "output_type": "execute_result"
    }
   ],
   "source": [
    "emb_conc.shape"
   ]
  },
  {
   "cell_type": "code",
   "execution_count": null,
   "metadata": {},
   "outputs": [],
   "source": []
  },
  {
   "cell_type": "code",
   "execution_count": 378,
   "metadata": {},
   "outputs": [],
   "source": [
    "\n",
    "model = Conv1D_OneChannel()\n",
    "optimizer = Adam(model.parameters(), lr=learning_rate)\n",
    "# defining the loss function\n",
    "criterion = nn.MSELoss()\n",
    "# checking if GPU is available\n",
    "if torch.cuda.is_available():\n",
    "    model = model.cuda()\n",
    "    criterion = criterion.cuda()\n",
    "\n",
    "    \n"
   ]
  },
  {
   "cell_type": "code",
   "execution_count": 379,
   "metadata": {},
   "outputs": [],
   "source": [
    "def Scoring(df_te, df_predicted):\n",
    "    df = {\n",
    "    \"true\": df_te['tm'],\n",
    "    \"predicted\": df_predicted['tm']\n",
    "}\n",
    "    pearson = df.corr(method='pearson')\n",
    "    rmse = mean_squared_error(df_te['tm'], df_predicted['tm'], squared=False)\n",
    "    auc = metrics.roc_auc_score(df_te['tm'], df_predicted['tm'])\n",
    "    \n",
    "    print('Pearson: %.3f, RMSE %.3f, AUC: %.3f' %(pearson, rmse, auc))\n",
    "    return pearson, rmse, auc"
   ]
  },
  {
   "cell_type": "code",
   "execution_count": 380,
   "metadata": {},
   "outputs": [],
   "source": [
    "def train_epoch(model, optimizer, criterion, train_loader, epoch):\n",
    "    model.train()\n",
    "    rho = 0 \n",
    "    train_loss = 0 \n",
    "    for batch_idx, (seq, target,num) in enumerate(train_loader):\n",
    "        if torch.cuda.is_available():\n",
    "            seq = seq.cuda()\n",
    "            target = target.cuda()\n",
    "            num = num.cuda()\n",
    "        optimizer.zero_grad()\n",
    "        \n",
    "        output = model(seq,num)\n",
    "        loss = criterion(output.squeeze(), target)\n",
    "        train_loss += loss.item()\n",
    "        loss.backward()\n",
    "        \n",
    "        optimizer.step()\n",
    "        # calculate Spearman's rank correlation coefficient\n",
    "        p, _ = spearmanr(target.cpu().detach().numpy(), output.squeeze().cpu().detach().numpy())\n",
    "        rho += p\n",
    "    \n",
    "    train_loss /= len(train_loader)\n",
    "    \n",
    "    if epoch % 100 == 0 :\n",
    "        print(   f\"Train Epoch: {epoch} \" f\" loss={train_loss:0.2e} \" )\n",
    "\n",
    "    rho = rho / len(train_loader)\n",
    "    return train_loss , rho"
   ]
  },
  {
   "cell_type": "code",
   "execution_count": 381,
   "metadata": {},
   "outputs": [],
   "source": [
    "def test_epoch(model, criterion, test_loader):\n",
    "    model = model.eval()\n",
    "    test_loss = 0\n",
    "    rho = 0\n",
    "    with torch.no_grad():\n",
    "        for seq, target,num in test_loader:\n",
    "            if torch.cuda.is_available():\n",
    "                seq = seq.cuda()\n",
    "                target = target.cuda()\n",
    "                num = num.cuda()\n",
    "            output = model(seq,num)\n",
    "            test_loss += criterion(output.squeeze(), target).item()  # sum up batch loss\n",
    "            # calculate pearson correlation \n",
    "            #pearson, rmse, auc = Scoring(target.cpu().detach(), output.cpu().detach())\n",
    "            p, _ =  spearmanr(target.cpu().detach().numpy(), output.cpu().detach().numpy())\n",
    "            rho += p\n",
    "            \n",
    "\n",
    "    test_loss /= len(test_loader)\n",
    "    rho = rho / len(test_loader)\n",
    "    if epoch % 100 == 0 :\n",
    "        print(\n",
    "            f\"Test set: Average loss: {test_loss:0.2e} \"\n",
    "        )\n",
    "\n",
    "    return test_loss ,rho"
   ]
  },
  {
   "cell_type": "code",
   "execution_count": 382,
   "metadata": {},
   "outputs": [],
   "source": [
    "def predict(model,test_loader):\n",
    "    model = model.eval()\n",
    "    df_predicted = pd.DataFrame()\n",
    "    with torch.no_grad():\n",
    "        for seq, target,num in test_loader:\n",
    "            if torch.cuda.is_available():\n",
    "                seq = seq.cuda()\n",
    "                target = target.cuda()\n",
    "                num = num.cuda()\n",
    "            output = model(seq,num)\n",
    "            df_predicted = df_predicted.append(pd.DataFrame({'tm':output.squeeze().cpu().detach().numpy()}))\n",
    "    return df_predicted"
   ]
  },
  {
   "cell_type": "code",
   "execution_count": 383,
   "metadata": {},
   "outputs": [],
   "source": [
    "from sklearn.model_selection import KFold"
   ]
  },
  {
   "cell_type": "markdown",
   "metadata": {},
   "source": [
    "\n",
    "k_folds = 5\n",
    "learning_rate = 1e-4\n",
    "kfold = KFold(n_splits=k_folds, shuffle=True)\n",
    "dataset = EnzymesDataset(df.reset_index(drop=True))\n",
    "train_loss_history = []\n",
    "test_loss_history = []\n",
    "train_rho_history = []\n",
    "test_rho_history = []\n",
    "for fold, (train_ids, test_ids) in enumerate(kfold.split(dataset)):\n",
    "\n",
    "    # Print\n",
    "    print(f'FOLD {fold}')\n",
    "    print('--------------------------------')\n",
    "\n",
    "    # Sample elements randomly from a given list of ids, no replacement.\n",
    "    train_subsampler = torch.utils.data.SubsetRandomSampler(train_ids)\n",
    "    test_subsampler = torch.utils.data.SubsetRandomSampler(test_ids)\n",
    "\n",
    "    # Define data loaders for training and testing data in this fold\n",
    "    train_dl = torch.utils.data.DataLoader(\n",
    "                      dataset, \n",
    "                      batch_size=32, sampler=train_subsampler)\n",
    "    val_dl = torch.utils.data.DataLoader(\n",
    "                      dataset,\n",
    "                      batch_size=32, sampler=test_subsampler)\n",
    "\n",
    "    model = Conv1D_OneChannel()\n",
    "    optimizer = Adam(model.parameters(), lr=learning_rate)\n",
    "    # defining the loss function\n",
    "    criterion = nn.MSELoss()\n",
    "    # checking if GPU is available\n",
    "    if torch.cuda.is_available():\n",
    "        model = model.cuda()\n",
    "        criterion = criterion.cuda()\n",
    "    \n",
    "    for epoch in range(1, num_epochs + 1):\n",
    "        train_loss , rho_train = train_epoch( model, optimizer, criterion, train_dl, epoch)\n",
    "       \n",
    "\n",
    "        \n",
    "    \n",
    "    \n",
    "    test_loss , rho_test = test_epoch(model, criterion, val_dl)\n",
    "        \n",
    "\n",
    "    train_loss_history.append(train_loss)\n",
    "    train_rho_history.append(rho_train)\n",
    "    test_loss_history.append(test_loss)\n",
    "    test_rho_history.append(rho_test)\n",
    "\n",
    "    \n",
    "    \n",
    "    print(f'for fold {fold} : \\n train_loss :  {train_loss}     test_loss : {test_loss} \\n \\n')\n",
    "    \n",
    "    \n",
    "    \n",
    " \n"
   ]
  },
  {
   "cell_type": "code",
   "execution_count": 384,
   "metadata": {},
   "outputs": [],
   "source": [
    "num_epochs = 1000"
   ]
  },
  {
   "cell_type": "code",
   "execution_count": 385,
   "metadata": {},
   "outputs": [
    {
     "name": "stdout",
     "output_type": "stream",
     "text": [
      "Train Epoch: 100  loss=7.44e+01 \n",
      "Test set: Average loss: 5.90e+01 \n",
      "Train Epoch: 200  loss=7.40e+01 \n",
      "Test set: Average loss: 5.87e+01 \n",
      "Train Epoch: 300  loss=7.36e+01 \n",
      "Test set: Average loss: 7.38e+01 \n",
      "Train Epoch: 400  loss=7.49e+01 \n",
      "Test set: Average loss: 5.68e+01 \n",
      "Train Epoch: 500  loss=7.36e+01 \n",
      "Test set: Average loss: 5.93e+01 \n",
      "Train Epoch: 600  loss=7.31e+01 \n",
      "Test set: Average loss: 5.90e+01 \n",
      "Train Epoch: 700  loss=7.38e+01 \n",
      "Test set: Average loss: 6.06e+01 \n",
      "Train Epoch: 800  loss=7.30e+01 \n",
      "Test set: Average loss: 6.34e+01 \n",
      "Train Epoch: 900  loss=7.31e+01 \n",
      "Test set: Average loss: 6.15e+01 \n",
      "Train Epoch: 1000  loss=7.31e+01 \n",
      "Test set: Average loss: 5.73e+01 \n"
     ]
    }
   ],
   "source": [
    "# train and test the model (save it after each epoch)\n",
    "train_loss_history = []\n",
    "test_loss_history = []\n",
    "train_rho_history = []\n",
    "test_rho_history = []\n",
    "for epoch in range(1, num_epochs + 1):\n",
    "    train_loss , rho_train = train_epoch(\n",
    "        model, optimizer, criterion, train_dl, epoch\n",
    "    )\n",
    "    train_loss_history.append(train_loss)\n",
    "    train_rho_history.append(rho_train)\n",
    "\n",
    "    \n",
    "    \n",
    "    test_loss , rho_test = test_epoch(model, criterion, val_dl)\n",
    "    test_loss_history.append(test_loss)\n",
    "    test_rho_history.append(rho_test)\n",
    "    \n",
    "    #torch.save(model.state_dict(), f\"2-Conv1d_OneHot_model_{epoch}.pth\")\n"
   ]
  },
  {
   "cell_type": "markdown",
   "metadata": {},
   "source": [
    "#train model and preditct\n",
    "train_rho_history = []\n",
    "train_loss_history = []\n",
    "for epoch in range(1, num_epochs + 1):\n",
    "    train_loss , rho_train = train_epoch(\n",
    "        model, optimizer, criterion, train_dl, epoch\n",
    "    )\n",
    "    train_loss_history.append(train_loss)\n",
    "    train_rho_history.append(rho_train)\n",
    "\n",
    "   \n",
    "   \n",
    "\n",
    "submission_df =  predict(model,val_dl)"
   ]
  },
  {
   "cell_type": "code",
   "execution_count": 271,
   "metadata": {},
   "outputs": [
    {
     "data": {
      "text/plain": [
       "<matplotlib.legend.Legend at 0x7f0a8a43be20>"
      ]
     },
     "execution_count": 271,
     "metadata": {},
     "output_type": "execute_result"
    },
    {
     "data": {
      "image/png": "[encoded data removed]",
      "text/plain": [
       "<Figure size 640x480 with 1 Axes>"
      ]
     },
     "metadata": {},
     "output_type": "display_data"
    }
   ],
   "source": [
    "#create loss plot\n",
    "\n",
    "plt.plot(train_loss_history, label='train loss')\n",
    "plt.plot(test_loss_history, label='test loss')\n",
    "plt.xlabel('Epoch')\n",
    "plt.ylabel('MSE')\n",
    "plt.title(' train and test MSE Loss')\n",
    "plt.legend()\n",
    "#plt.savefig('2-conv1d_OneHot-Loss-2pool.png')\n"
   ]
  },
  {
   "cell_type": "code",
   "execution_count": 272,
   "metadata": {},
   "outputs": [
    {
     "data": {
      "text/plain": [
       "<matplotlib.legend.Legend at 0x7f0a8a3d5370>"
      ]
     },
     "execution_count": 272,
     "metadata": {},
     "output_type": "execute_result"
    },
    {
     "data": {
      "image/png": "[encoded data removed]",
      "text/plain": [
       "<Figure size 640x480 with 1 Axes>"
      ]
     },
     "metadata": {},
     "output_type": "display_data"
    }
   ],
   "source": [
    "plt.plot(train_rho_history, label='train rho')\n",
    "plt.plot(test_rho_history, label='test rho')\n",
    "plt.xlabel('Epoch')\n",
    "plt.ylabel('rho')\n",
    "plt.title(' Spearman\\'s rank correlation coefficient')\n",
    "plt.legend()\n",
    "#plt.savefig('2-conv1d_OneHot-rho-2pool.png')"
   ]
  },
  {
   "cell_type": "code",
   "execution_count": null,
   "metadata": {},
   "outputs": [],
   "source": [
    "torch.save(model.state_dict(), f\"4-Test_Model_DeepSF.pth\")"
   ]
  },
  {
   "cell_type": "code",
   "execution_count": null,
   "metadata": {},
   "outputs": [],
   "source": [
    "test_df = pd.read_csv(path+ 'test.csv',index_col='seq_id')\n",
    "test_df['tm']=submission_df['tm'].values\n",
    "test_df = test_df.drop(columns=['protein_sequence','pH','data_source'])\n",
    "test_df.to_csv('4-Test_Model_DeepSF.csv', index=True)"
   ]
  },
  {
   "cell_type": "code",
   "execution_count": null,
   "metadata": {},
   "outputs": [],
   "source": []
  }
 ],
 "metadata": {
  "kernelspec": {
   "display_name": "Python 3 (ipykernel)",
   "language": "python",
   "name": "python3"
  },
  "language_info": {
   "codemirror_mode": {
    "name": "ipython",
    "version": 3
   },
   "file_extension": ".py",
   "mimetype": "text/x-python",
   "name": "python",
   "nbconvert_exporter": "python",
   "pygments_lexer": "ipython3",
   "version": "3.9.13"
  },
  "vscode": {
   "interpreter": {
    "hash": "9bed6b85c9b3e27cd25415a3806882bf36aa2546112033e7d0217f843875ed1d"
   }
  }
 },
 "nbformat": 4,
 "nbformat_minor": 4
}
