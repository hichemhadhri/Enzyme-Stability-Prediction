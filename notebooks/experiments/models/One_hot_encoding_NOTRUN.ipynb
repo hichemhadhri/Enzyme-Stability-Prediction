{
 "cells": [
  {
   "cell_type": "code",
   "execution_count": 1,
   "metadata": {},
   "outputs": [],
   "source": [
    "import pandas as pd\n",
    "import numpy as np \n",
    "import matplotlib.pyplot as plt\n",
    "import torch \n",
    "from torch.utils.data import Dataset\n",
    "import torch.nn as nn\n",
    "from torch.nn import Linear, ReLU, CrossEntropyLoss, Sequential, Conv2d, MaxPool2d, Module, Softmax, BatchNorm2d, Dropout\n",
    "from torch.optim import Adam\n",
    "\n",
    "from scipy.stats import spearmanr\n",
    "\n",
    "from sklearn.metrics import mean_squared_error\n",
    "from sklearn import metrics\n",
    "\n",
    "import os\n",
    "from collections import Counter"
   ]
  },
  {
   "cell_type": "markdown",
   "metadata": {},
   "source": [
    "1. Load the dataset "
   ]
  },
  {
   "cell_type": "code",
   "execution_count": 2,
   "metadata": {},
   "outputs": [
    {
     "data": {
      "text/html": [
       "<div>\n",
       "<style scoped>\n",
       "    .dataframe tbody tr th:only-of-type {\n",
       "        vertical-align: middle;\n",
       "    }\n",
       "\n",
       "    .dataframe tbody tr th {\n",
       "        vertical-align: top;\n",
       "    }\n",
       "\n",
       "    .dataframe thead th {\n",
       "        text-align: right;\n",
       "    }\n",
       "</style>\n",
       "<table border=\"1\" class=\"dataframe\">\n",
       "  <thead>\n",
       "    <tr style=\"text-align: right;\">\n",
       "      <th></th>\n",
       "      <th>protein_sequence</th>\n",
       "      <th>pH</th>\n",
       "      <th>tm</th>\n",
       "    </tr>\n",
       "    <tr>\n",
       "      <th>seq_id</th>\n",
       "      <th></th>\n",
       "      <th></th>\n",
       "      <th></th>\n",
       "    </tr>\n",
       "  </thead>\n",
       "  <tbody>\n",
       "    <tr>\n",
       "      <th>0</th>\n",
       "      <td>AAAAKAAALALLGEAPEVVDIWLPAGWRQPFRVFRLERKGDGVLVG...</td>\n",
       "      <td>7.0</td>\n",
       "      <td>75.7</td>\n",
       "    </tr>\n",
       "    <tr>\n",
       "      <th>1</th>\n",
       "      <td>AAADGEPLHNEEERAGAGQVGRSLPQESEEQRTGSRPRRRRDLGSR...</td>\n",
       "      <td>7.0</td>\n",
       "      <td>50.5</td>\n",
       "    </tr>\n",
       "    <tr>\n",
       "      <th>2</th>\n",
       "      <td>AAAFSTPRATSYRILSSAGSGSTRADAPQVRRLHTTRDLLAKDYYA...</td>\n",
       "      <td>7.0</td>\n",
       "      <td>40.5</td>\n",
       "    </tr>\n",
       "    <tr>\n",
       "      <th>3</th>\n",
       "      <td>AAASGLRTAIPAQPLRHLLQPAPRPCLRPFGLLSVRAGSARRSGLL...</td>\n",
       "      <td>7.0</td>\n",
       "      <td>47.2</td>\n",
       "    </tr>\n",
       "    <tr>\n",
       "      <th>4</th>\n",
       "      <td>AAATKSGPRRQSQGASVRTFTPFYFLVEPVDTLSVRGSSVILNCSA...</td>\n",
       "      <td>7.0</td>\n",
       "      <td>49.5</td>\n",
       "    </tr>\n",
       "  </tbody>\n",
       "</table>\n",
       "</div>"
      ],
      "text/plain": [
       "                                         protein_sequence   pH    tm\n",
       "seq_id                                                              \n",
       "0       AAAAKAAALALLGEAPEVVDIWLPAGWRQPFRVFRLERKGDGVLVG...  7.0  75.7\n",
       "1       AAADGEPLHNEEERAGAGQVGRSLPQESEEQRTGSRPRRRRDLGSR...  7.0  50.5\n",
       "2       AAAFSTPRATSYRILSSAGSGSTRADAPQVRRLHTTRDLLAKDYYA...  7.0  40.5\n",
       "3       AAASGLRTAIPAQPLRHLLQPAPRPCLRPFGLLSVRAGSARRSGLL...  7.0  47.2\n",
       "4       AAATKSGPRRQSQGASVRTFTPFYFLVEPVDTLSVRGSSVILNCSA...  7.0  49.5"
      ]
     },
     "execution_count": 2,
     "metadata": {},
     "output_type": "execute_result"
    }
   ],
   "source": [
    "#load training data (will be put in a function later)  \n",
    "path = os.getcwd()\n",
    "for i in range(3) :\n",
    "\n",
    "    path = os.path.dirname(path)\n",
    "\n",
    "path += '/data/'\n",
    "train_df = pd.read_csv(path + 'train_v1.csv',index_col=\"seq_id\")\n",
    "train_df = train_df.drop(columns=['data_source'])\n",
    "train_df = train_df.dropna()\n",
    "train_df.head()"
   ]
  },
  {
   "cell_type": "markdown",
   "metadata": {},
   "source": [
    "2. Translate Amino-acids to numbers and create a One-Channel array for each sequence"
   ]
  },
  {
   "cell_type": "code",
   "execution_count": 3,
   "metadata": {},
   "outputs": [],
   "source": [
    "#add a new column that contains the length of each protein sequence (before padding)\n",
    "train_df['length'] = train_df['protein_sequence'].str.len()"
   ]
  },
  {
   "cell_type": "code",
   "execution_count": 4,
   "metadata": {},
   "outputs": [],
   "source": [
    "# fix max_length to be 500\n",
    "max_length = 500\n",
    "\n",
    "#drop rows that exceeds this value\n",
    "\n",
    "train_df = train_df[train_df['length'] < max_length]\n",
    "\n"
   ]
  },
  {
   "cell_type": "code",
   "execution_count": 5,
   "metadata": {},
   "outputs": [
    {
     "data": {
      "text/plain": [
       "20510"
      ]
     },
     "execution_count": 5,
     "metadata": {},
     "output_type": "execute_result"
    }
   ],
   "source": [
    "len(train_df)"
   ]
  },
  {
   "cell_type": "code",
   "execution_count": 6,
   "metadata": {},
   "outputs": [],
   "source": [
    "\n",
    "def encode_seq(sequence):\n",
    "    alphabet = ['A', 'C', 'D', 'E', 'F', 'G','H', 'I', 'K', 'L', 'M', 'N', 'P', 'Q', 'R', 'S', 'T', 'V', 'W', 'Y'] # aa letters\n",
    "    char_to_int = dict((c, i) for i, c in enumerate(alphabet)) \n",
    "    integer_encoded = [char_to_int[char] for char in sequence] #each character becomes int\n",
    "    onehot_encoded = list()\n",
    "    for value in integer_encoded:\n",
    "        letter = [0 for _ in range(len(alphabet))] #0 for all letters\n",
    "        letter[value] = 1 #modify the column corresponding to the letter to 1\n",
    "        onehot_encoded.append(letter) #put in the array (1 letter = 1 array of 20 columns)\n",
    "    \n",
    "    ar =   np.transpose(np.array(onehot_encoded))\n",
    "    zeros = np.zeros([len(alphabet),max_length - len(integer_encoded)] )\n",
    "    onehot_encoded = np.concatenate((ar, zeros), axis = 1) #zero padding\n",
    "\n",
    "\n",
    "    return onehot_encoded #we have all arrays, corresponding to the whole sequence\n",
    "\n",
    "\n",
    "# new column with encoded sequence (apply for each sequence)\n",
    "train_df['encoded_sequence'] = train_df['protein_sequence'].apply(lambda x: encode_seq(x))"
   ]
  },
  {
   "cell_type": "code",
   "execution_count": 7,
   "metadata": {},
   "outputs": [
    {
     "data": {
      "text/plain": [
       "(20510,)"
      ]
     },
     "execution_count": 7,
     "metadata": {},
     "output_type": "execute_result"
    }
   ],
   "source": [
    "train_df['encoded_sequence'].shape"
   ]
  },
  {
   "cell_type": "code",
   "execution_count": 8,
   "metadata": {},
   "outputs": [
    {
     "data": {
      "text/html": [
       "<div>\n",
       "<style scoped>\n",
       "    .dataframe tbody tr th:only-of-type {\n",
       "        vertical-align: middle;\n",
       "    }\n",
       "\n",
       "    .dataframe tbody tr th {\n",
       "        vertical-align: top;\n",
       "    }\n",
       "\n",
       "    .dataframe thead th {\n",
       "        text-align: right;\n",
       "    }\n",
       "</style>\n",
       "<table border=\"1\" class=\"dataframe\">\n",
       "  <thead>\n",
       "    <tr style=\"text-align: right;\">\n",
       "      <th></th>\n",
       "      <th>protein_sequence</th>\n",
       "      <th>pH</th>\n",
       "      <th>tm</th>\n",
       "      <th>length</th>\n",
       "      <th>encoded_sequence</th>\n",
       "    </tr>\n",
       "    <tr>\n",
       "      <th>seq_id</th>\n",
       "      <th></th>\n",
       "      <th></th>\n",
       "      <th></th>\n",
       "      <th></th>\n",
       "      <th></th>\n",
       "    </tr>\n",
       "  </thead>\n",
       "  <tbody>\n",
       "    <tr>\n",
       "      <th>0</th>\n",
       "      <td>AAAAKAAALALLGEAPEVVDIWLPAGWRQPFRVFRLERKGDGVLVG...</td>\n",
       "      <td>7.0</td>\n",
       "      <td>75.7</td>\n",
       "      <td>341</td>\n",
       "      <td>[[1.0, 1.0, 1.0, 1.0, 0.0, 1.0, 1.0, 1.0, 0.0,...</td>\n",
       "    </tr>\n",
       "    <tr>\n",
       "      <th>1</th>\n",
       "      <td>AAADGEPLHNEEERAGAGQVGRSLPQESEEQRTGSRPRRRRDLGSR...</td>\n",
       "      <td>7.0</td>\n",
       "      <td>50.5</td>\n",
       "      <td>286</td>\n",
       "      <td>[[1.0, 1.0, 1.0, 0.0, 0.0, 0.0, 0.0, 0.0, 0.0,...</td>\n",
       "    </tr>\n",
       "    <tr>\n",
       "      <th>2</th>\n",
       "      <td>AAAFSTPRATSYRILSSAGSGSTRADAPQVRRLHTTRDLLAKDYYA...</td>\n",
       "      <td>7.0</td>\n",
       "      <td>40.5</td>\n",
       "      <td>497</td>\n",
       "      <td>[[1.0, 1.0, 1.0, 0.0, 0.0, 0.0, 0.0, 0.0, 1.0,...</td>\n",
       "    </tr>\n",
       "    <tr>\n",
       "      <th>3</th>\n",
       "      <td>AAASGLRTAIPAQPLRHLLQPAPRPCLRPFGLLSVRAGSARRSGLL...</td>\n",
       "      <td>7.0</td>\n",
       "      <td>47.2</td>\n",
       "      <td>265</td>\n",
       "      <td>[[1.0, 1.0, 1.0, 0.0, 0.0, 0.0, 0.0, 0.0, 1.0,...</td>\n",
       "    </tr>\n",
       "    <tr>\n",
       "      <th>5</th>\n",
       "      <td>AACFWRRTVIPKPPFRGISTTSARSTVMPAWVIDKYGKNEVLRFTQ...</td>\n",
       "      <td>7.0</td>\n",
       "      <td>48.4</td>\n",
       "      <td>380</td>\n",
       "      <td>[[1.0, 1.0, 0.0, 0.0, 0.0, 0.0, 0.0, 0.0, 0.0,...</td>\n",
       "    </tr>\n",
       "  </tbody>\n",
       "</table>\n",
       "</div>"
      ],
      "text/plain": [
       "                                         protein_sequence   pH    tm  length  \\\n",
       "seq_id                                                                         \n",
       "0       AAAAKAAALALLGEAPEVVDIWLPAGWRQPFRVFRLERKGDGVLVG...  7.0  75.7     341   \n",
       "1       AAADGEPLHNEEERAGAGQVGRSLPQESEEQRTGSRPRRRRDLGSR...  7.0  50.5     286   \n",
       "2       AAAFSTPRATSYRILSSAGSGSTRADAPQVRRLHTTRDLLAKDYYA...  7.0  40.5     497   \n",
       "3       AAASGLRTAIPAQPLRHLLQPAPRPCLRPFGLLSVRAGSARRSGLL...  7.0  47.2     265   \n",
       "5       AACFWRRTVIPKPPFRGISTTSARSTVMPAWVIDKYGKNEVLRFTQ...  7.0  48.4     380   \n",
       "\n",
       "                                         encoded_sequence  \n",
       "seq_id                                                     \n",
       "0       [[1.0, 1.0, 1.0, 1.0, 0.0, 1.0, 1.0, 1.0, 0.0,...  \n",
       "1       [[1.0, 1.0, 1.0, 0.0, 0.0, 0.0, 0.0, 0.0, 0.0,...  \n",
       "2       [[1.0, 1.0, 1.0, 0.0, 0.0, 0.0, 0.0, 0.0, 1.0,...  \n",
       "3       [[1.0, 1.0, 1.0, 0.0, 0.0, 0.0, 0.0, 0.0, 1.0,...  \n",
       "5       [[1.0, 1.0, 0.0, 0.0, 0.0, 0.0, 0.0, 0.0, 0.0,...  "
      ]
     },
     "execution_count": 8,
     "metadata": {},
     "output_type": "execute_result"
    }
   ],
   "source": [
    "#final dataframe \n",
    "train_df.head()"
   ]
  },
  {
   "cell_type": "markdown",
   "metadata": {},
   "source": [
    "# Adding inverted sequences (DISCRADED) \n",
    "**Add it to report as an experiment ?**"
   ]
  },
  {
   "cell_type": "markdown",
   "metadata": {},
   "source": [
    "\n",
    "inverted_df = train_df.copy()\n",
    "\n",
    "#inver the protein sequence\n",
    "inverted_df['protein_sequence'] = inverted_df.apply(lambda row : row['protein_sequence'][::-1],axis=1)\n",
    "inverted_df['numerical_sequence'] = inverted_df.apply(lambda row : chr_to_int(row['protein_sequence']),axis=1)\n",
    "\n",
    "# merge the original and inverted dataframes (size of dataset is doubled)\n",
    "train_df = pd.concat([train_df,inverted_df],ignore_index=True)"
   ]
  },
  {
   "cell_type": "markdown",
   "metadata": {},
   "source": [
    "## 3. Padding with zeros "
   ]
  },
  {
   "cell_type": "markdown",
   "metadata": {},
   "source": [
    "## add 0 to numerical_sequence to make all of them the same length\n",
    "padded_train_df = train_df.copy()\n",
    "padded_train_df['encoded_sequence'] = train_df.apply(lambda row : row['encoded_sequence'][:] + [0]*(max_length - row['length']),axis=1)"
   ]
  },
  {
   "cell_type": "markdown",
   "metadata": {},
   "source": [
    "#Prepare dataframe to Pass to the dataloader (will be put in a function later)\n",
    "padded_train_df.drop(columns=['protein_sequence'],inplace=True)\n",
    "padded_train_df['y'] = padded_train_df['tm']\n",
    "padded_train_df.drop(columns=['tm'],inplace=True)\n",
    "padded_train_df['numerical_sequence'] = padded_train_df.apply(lambda row : np.array(row['numerical_sequence']),axis=1)"
   ]
  },
  {
   "cell_type": "code",
   "execution_count": 9,
   "metadata": {},
   "outputs": [],
   "source": [
    "df = train_df.copy()"
   ]
  },
  {
   "cell_type": "markdown",
   "metadata": {},
   "source": [
    "Split to train and validation sets"
   ]
  },
  {
   "cell_type": "code",
   "execution_count": 10,
   "metadata": {},
   "outputs": [],
   "source": [
    "#splot padded_train_df into train and validation sets (will be put in a function later)\n",
    "train_df = df.sample(frac=0.8,random_state=302)\n",
    "val_df = df.drop(train_df.index)\n",
    "\n",
    "train_df = train_df.reset_index(drop=True)\n",
    "val_df = val_df.reset_index(drop=True)\n"
   ]
  },
  {
   "cell_type": "code",
   "execution_count": 11,
   "metadata": {},
   "outputs": [
    {
     "name": "stdout",
     "output_type": "stream",
     "text": [
      "16408 4102\n"
     ]
    }
   ],
   "source": [
    "print(len(train_df),len(val_df))"
   ]
  },
  {
   "cell_type": "markdown",
   "metadata": {},
   "source": [
    "si met la transformation dans le dataframe : le kernel dies\n",
    "Si met avant, dans le panda, les dimensions sont pas les bonnes (peut être transposer ??)"
   ]
  },
  {
   "cell_type": "code",
   "execution_count": 12,
   "metadata": {},
   "outputs": [
    {
     "data": {
      "text/html": [
       "<div>\n",
       "<style scoped>\n",
       "    .dataframe tbody tr th:only-of-type {\n",
       "        vertical-align: middle;\n",
       "    }\n",
       "\n",
       "    .dataframe tbody tr th {\n",
       "        vertical-align: top;\n",
       "    }\n",
       "\n",
       "    .dataframe thead th {\n",
       "        text-align: right;\n",
       "    }\n",
       "</style>\n",
       "<table border=\"1\" class=\"dataframe\">\n",
       "  <thead>\n",
       "    <tr style=\"text-align: right;\">\n",
       "      <th></th>\n",
       "      <th>protein_sequence</th>\n",
       "      <th>pH</th>\n",
       "      <th>tm</th>\n",
       "      <th>length</th>\n",
       "      <th>encoded_sequence</th>\n",
       "    </tr>\n",
       "  </thead>\n",
       "  <tbody>\n",
       "    <tr>\n",
       "      <th>0</th>\n",
       "      <td>MEMINIDDNIYAYINEPGTWFRGNSGFIKGNKMNIVIDSLATEDMT...</td>\n",
       "      <td>7.0</td>\n",
       "      <td>78.3</td>\n",
       "      <td>294</td>\n",
       "      <td>[[0.0, 0.0, 0.0, 0.0, 0.0, 0.0, 0.0, 0.0, 0.0,...</td>\n",
       "    </tr>\n",
       "    <tr>\n",
       "      <th>1</th>\n",
       "      <td>ACTWPAWEQFKKDYISQEGRVIDPSDARKITTSEGQSYGMFSALAA...</td>\n",
       "      <td>7.0</td>\n",
       "      <td>58.8</td>\n",
       "      <td>346</td>\n",
       "      <td>[[1.0, 0.0, 0.0, 0.0, 0.0, 1.0, 0.0, 0.0, 0.0,...</td>\n",
       "    </tr>\n",
       "    <tr>\n",
       "      <th>2</th>\n",
       "      <td>QLLRRLRGDFRPPVLPPQPGRVAIVTGATAGIGRSTARQLARLGMC...</td>\n",
       "      <td>7.0</td>\n",
       "      <td>50.2</td>\n",
       "      <td>311</td>\n",
       "      <td>[[0.0, 0.0, 0.0, 0.0, 0.0, 0.0, 0.0, 0.0, 0.0,...</td>\n",
       "    </tr>\n",
       "    <tr>\n",
       "      <th>3</th>\n",
       "      <td>MAEGEITTFTALTEKFNLPPGNYKKPKLLYCSNGGHFLRILPDGTV...</td>\n",
       "      <td>7.3</td>\n",
       "      <td>33.5</td>\n",
       "      <td>155</td>\n",
       "      <td>[[0.0, 1.0, 0.0, 0.0, 0.0, 0.0, 0.0, 0.0, 0.0,...</td>\n",
       "    </tr>\n",
       "    <tr>\n",
       "      <th>4</th>\n",
       "      <td>MLVMTEYLLSAGICMAIVSILLIGMAISNVSKGQYAKRFFFFATSC...</td>\n",
       "      <td>7.0</td>\n",
       "      <td>46.3</td>\n",
       "      <td>231</td>\n",
       "      <td>[[0.0, 0.0, 0.0, 0.0, 0.0, 0.0, 0.0, 0.0, 0.0,...</td>\n",
       "    </tr>\n",
       "    <tr>\n",
       "      <th>...</th>\n",
       "      <td>...</td>\n",
       "      <td>...</td>\n",
       "      <td>...</td>\n",
       "      <td>...</td>\n",
       "      <td>...</td>\n",
       "    </tr>\n",
       "    <tr>\n",
       "      <th>16403</th>\n",
       "      <td>MVTEKKTKKSHEGINSRLALVMKSGKYTLGYKSVLKSLRGSKGKLI...</td>\n",
       "      <td>7.0</td>\n",
       "      <td>48.8</td>\n",
       "      <td>111</td>\n",
       "      <td>[[0.0, 0.0, 0.0, 0.0, 0.0, 0.0, 0.0, 0.0, 0.0,...</td>\n",
       "    </tr>\n",
       "    <tr>\n",
       "      <th>16404</th>\n",
       "      <td>MITLLKGRRKVDTIKVGILGYGLSGSVFHGPLLDVLDEYQISKIMT...</td>\n",
       "      <td>7.0</td>\n",
       "      <td>43.7</td>\n",
       "      <td>357</td>\n",
       "      <td>[[0.0, 0.0, 0.0, 0.0, 0.0, 0.0, 0.0, 0.0, 0.0,...</td>\n",
       "    </tr>\n",
       "    <tr>\n",
       "      <th>16405</th>\n",
       "      <td>TPGLIKAKSGIDEVQGAAAEKNDARLKEIEKQTIMPLMGDDKVKKE...</td>\n",
       "      <td>7.0</td>\n",
       "      <td>42.6</td>\n",
       "      <td>161</td>\n",
       "      <td>[[0.0, 0.0, 0.0, 0.0, 0.0, 0.0, 1.0, 0.0, 0.0,...</td>\n",
       "    </tr>\n",
       "    <tr>\n",
       "      <th>16406</th>\n",
       "      <td>MDPLALLRKAGLEAEGPALPLHGGDISRVWRVGRFVVKTAQDPPPG...</td>\n",
       "      <td>7.0</td>\n",
       "      <td>84.3</td>\n",
       "      <td>261</td>\n",
       "      <td>[[0.0, 0.0, 0.0, 0.0, 1.0, 0.0, 0.0, 0.0, 0.0,...</td>\n",
       "    </tr>\n",
       "    <tr>\n",
       "      <th>16407</th>\n",
       "      <td>DRIELQSARVTNWGDWQEWKRCRDGQFVHAVNLKYEQRQHSGDDTA...</td>\n",
       "      <td>7.0</td>\n",
       "      <td>40.9</td>\n",
       "      <td>180</td>\n",
       "      <td>[[0.0, 0.0, 0.0, 0.0, 0.0, 0.0, 0.0, 1.0, 0.0,...</td>\n",
       "    </tr>\n",
       "  </tbody>\n",
       "</table>\n",
       "<p>16408 rows × 5 columns</p>\n",
       "</div>"
      ],
      "text/plain": [
       "                                        protein_sequence   pH    tm  length  \\\n",
       "0      MEMINIDDNIYAYINEPGTWFRGNSGFIKGNKMNIVIDSLATEDMT...  7.0  78.3     294   \n",
       "1      ACTWPAWEQFKKDYISQEGRVIDPSDARKITTSEGQSYGMFSALAA...  7.0  58.8     346   \n",
       "2      QLLRRLRGDFRPPVLPPQPGRVAIVTGATAGIGRSTARQLARLGMC...  7.0  50.2     311   \n",
       "3      MAEGEITTFTALTEKFNLPPGNYKKPKLLYCSNGGHFLRILPDGTV...  7.3  33.5     155   \n",
       "4      MLVMTEYLLSAGICMAIVSILLIGMAISNVSKGQYAKRFFFFATSC...  7.0  46.3     231   \n",
       "...                                                  ...  ...   ...     ...   \n",
       "16403  MVTEKKTKKSHEGINSRLALVMKSGKYTLGYKSVLKSLRGSKGKLI...  7.0  48.8     111   \n",
       "16404  MITLLKGRRKVDTIKVGILGYGLSGSVFHGPLLDVLDEYQISKIMT...  7.0  43.7     357   \n",
       "16405  TPGLIKAKSGIDEVQGAAAEKNDARLKEIEKQTIMPLMGDDKVKKE...  7.0  42.6     161   \n",
       "16406  MDPLALLRKAGLEAEGPALPLHGGDISRVWRVGRFVVKTAQDPPPG...  7.0  84.3     261   \n",
       "16407  DRIELQSARVTNWGDWQEWKRCRDGQFVHAVNLKYEQRQHSGDDTA...  7.0  40.9     180   \n",
       "\n",
       "                                        encoded_sequence  \n",
       "0      [[0.0, 0.0, 0.0, 0.0, 0.0, 0.0, 0.0, 0.0, 0.0,...  \n",
       "1      [[1.0, 0.0, 0.0, 0.0, 0.0, 1.0, 0.0, 0.0, 0.0,...  \n",
       "2      [[0.0, 0.0, 0.0, 0.0, 0.0, 0.0, 0.0, 0.0, 0.0,...  \n",
       "3      [[0.0, 1.0, 0.0, 0.0, 0.0, 0.0, 0.0, 0.0, 0.0,...  \n",
       "4      [[0.0, 0.0, 0.0, 0.0, 0.0, 0.0, 0.0, 0.0, 0.0,...  \n",
       "...                                                  ...  \n",
       "16403  [[0.0, 0.0, 0.0, 0.0, 0.0, 0.0, 0.0, 0.0, 0.0,...  \n",
       "16404  [[0.0, 0.0, 0.0, 0.0, 0.0, 0.0, 0.0, 0.0, 0.0,...  \n",
       "16405  [[0.0, 0.0, 0.0, 0.0, 0.0, 0.0, 1.0, 0.0, 0.0,...  \n",
       "16406  [[0.0, 0.0, 0.0, 0.0, 1.0, 0.0, 0.0, 0.0, 0.0,...  \n",
       "16407  [[0.0, 0.0, 0.0, 0.0, 0.0, 0.0, 0.0, 1.0, 0.0,...  \n",
       "\n",
       "[16408 rows x 5 columns]"
      ]
     },
     "execution_count": 12,
     "metadata": {},
     "output_type": "execute_result"
    }
   ],
   "source": [
    "train_df"
   ]
  },
  {
   "cell_type": "markdown",
   "metadata": {},
   "source": [
    "## Create 1d conv net"
   ]
  },
  {
   "cell_type": "markdown",
   "metadata": {},
   "source": [
    "1. get DataLoader from train_dl"
   ]
  },
  {
   "cell_type": "code",
   "execution_count": 13,
   "metadata": {},
   "outputs": [],
   "source": [
    "class EnzymesDataset(Dataset):\n",
    " \n",
    "    def __init__(self,df):\n",
    "    \n",
    "        # the Amino acid sequences as an int array\n",
    "        sequence= df['encoded_sequence']\n",
    "        # numerical : pH and length\n",
    "        numerical = df.iloc[:,[1,3]].values\n",
    "\n",
    "        # y : the target (tm)\n",
    "        y=df.iloc[:,2].values\n",
    "\n",
    "        #creta tensors from the numpy arrays\n",
    "        self.x_sequence=torch.tensor(sequence)\n",
    "        self.y=torch.tensor(y,dtype=torch.float32)\n",
    "        self.num=torch.tensor(numerical,dtype=torch.float32)\n",
    "   \n",
    " \n",
    "    def __len__(self):\n",
    "        return len(self.y)\n",
    "   \n",
    "    def __getitem__(self,idx):\n",
    "        return self.x_sequence[idx],self.y[idx] , self.num[idx]\n"
   ]
  },
  {
   "cell_type": "code",
   "execution_count": null,
   "metadata": {},
   "outputs": [],
   "source": []
  },
  {
   "cell_type": "code",
   "execution_count": 14,
   "metadata": {},
   "outputs": [],
   "source": [
    "# hyperparameters\n",
    "batch_size = 64\n",
    "learning_rate = 0.001 # Suggested for Adam\n",
    "num_epochs = 100\n"
   ]
  },
  {
   "cell_type": "markdown",
   "metadata": {},
   "source": [
    "a faire : apres avoir fait one hot encoding, trouver comment mettre l'info de plusieurs channels dans le dataframe, sans qu'il mette d'erreur sur la taille. \n",
    "Voir comment mettre un tableau = 1 aa puis la longueur de la ligne = longueur totale (juste transposer ?)\n"
   ]
  },
  {
   "cell_type": "markdown",
   "metadata": {},
   "source": [
    "class MyLoss(torch.nn.Module):\n",
    "    def __init__(self, batch_size, classes):\n",
    "        super(MyLoss, self).__init__()\n",
    "        # define some attributes\n",
    "        self.y_true_one_hot = torch.FloatTensor(batch_size, classes, length)\n",
    "\n",
    "    def forward(self, y_pred, y_true):\n",
    "        with torch.no_grad():\n",
    "            self.y_true_one_hot.zero_().scatter_(1, y_true, 1) # permet one hot encoding\n",
    "        # do some operations\n",
    "        return loss\n",
    "\n",
    "\n",
    "Or use cross entropy loss ?"
   ]
  },
  {
   "cell_type": "code",
   "execution_count": 15,
   "metadata": {},
   "outputs": [
    {
     "name": "stderr",
     "output_type": "stream",
     "text": [
      "/tmp/ipykernel_557291/394230084.py:14: UserWarning: Creating a tensor from a list of numpy.ndarrays is extremely slow. Please consider converting the list to a single numpy.ndarray with numpy.array() before converting to a tensor. (Triggered internally at ../torch/csrc/utils/tensor_new.cpp:230.)\n",
      "  self.x_sequence=torch.tensor(sequence)\n"
     ]
    }
   ],
   "source": [
    "# create pytorch dataframes\n",
    "train_d = EnzymesDataset(train_df)\n",
    "val_d = EnzymesDataset(val_df)\n",
    "\n",
    "\n",
    "# create pytorch dataloaders\n",
    "train_dl = torch.utils.data.DataLoader(train_d, batch_size=batch_size, shuffle=True)\n",
    "val_dl = torch.utils.data.DataLoader(val_d, batch_size=batch_size, shuffle=True)"
   ]
  },
  {
   "cell_type": "code",
   "execution_count": null,
   "metadata": {},
   "outputs": [],
   "source": []
  },
  {
   "cell_type": "code",
   "execution_count": 123,
   "metadata": {},
   "outputs": [],
   "source": [
    "class Conv1D_OneChannel(nn.Module):\n",
    "\n",
    "    def __init__(self):\n",
    "        super().__init__()\n",
    "       \n",
    "        self.prot_seq_one_pooling = nn.Sequential(\n",
    "\n",
    "            #With pooling only at the end (seen in paper)\n",
    "\n",
    "            nn.Conv1d(20, 20,kernel_size=7, stride=1, padding=3),\n",
    "            nn.ReLU(),\n",
    "            \n",
    "\n",
    "            \n",
    "            nn.Conv1d(20, 32,kernel_size=5, stride=1, padding=2), \n",
    "            nn.ReLU(), \n",
    "         \n",
    "      \n",
    "            \n",
    "            nn.Conv1d(32, 64, kernel_size=5, stride=1, padding=2), \n",
    "            nn.ReLU(), \n",
    "            \n",
    "            nn.AdaptiveAvgPool1d(64), #argument = output size \n",
    "            \n",
    "            nn.Conv1d(64, 1, kernel_size=5, stride=1, padding=2), \n",
    "            nn.ReLU(), \n",
    "            \n",
    "           \n",
    "            \n",
    "            \n",
    "\n",
    "        )\n",
    "        self.numerical = nn.Sequential(\n",
    "            nn.Linear(2, 2),\n",
    "            nn.ReLU(),\n",
    "            nn.Dropout(),\n",
    "            nn.Linear(2, 2),\n",
    "            nn.ReLU(),\n",
    "            \n",
    "        )\n",
    "        self.mlp = nn.Sequential(\n",
    "            nn.Linear(66, 66),#input devrait être 32 + 64 plutôt non si on utilise MaxPoolId(2)? (était marqué 128 en input avant) Comme on fait le pooling\n",
    "            nn.ReLU(),\n",
    "            nn.Linear(66, 32),\n",
    "            nn.ReLU(),\n",
    "            nn.Linear(32, 16),\n",
    "            nn.ReLU(),\n",
    "            nn.Linear(16, 1),\n",
    "           \n",
    "            \n",
    "            \n",
    "        )\n",
    "\n",
    "    def forward(self, x,y):\n",
    "        \n",
    "        x = self.prot_seq_one_pooling(x.float())\n",
    "       \n",
    "        y = self.numerical(y)\n",
    "       \n",
    "        x = torch.cat((x.squeeze(1), y), 1)\n",
    "      \n",
    "        x = self.mlp(x)\n",
    "        return x"
   ]
  },
  {
   "cell_type": "code",
   "execution_count": 124,
   "metadata": {},
   "outputs": [],
   "source": [
    "model = Conv1D_OneChannel()"
   ]
  },
  {
   "cell_type": "code",
   "execution_count": null,
   "metadata": {},
   "outputs": [],
   "source": []
  },
  {
   "cell_type": "code",
   "execution_count": 125,
   "metadata": {},
   "outputs": [],
   "source": [
    "\n",
    "optimizer = Adam(model.parameters(), lr=learning_rate)\n",
    "# defining the loss function\n",
    "criterion = nn.MSELoss()\n",
    "# checking if GPU is available\n",
    "if torch.cuda.is_available():\n",
    "    model = model.cuda()\n",
    "    criterion = criterion.cuda()\n",
    "\n",
    "    \n"
   ]
  },
  {
   "cell_type": "code",
   "execution_count": 126,
   "metadata": {},
   "outputs": [],
   "source": [
    "def Scoring(df_te, df_predicted):\n",
    "    df = {\n",
    "    \"true\": df_te['tm'],\n",
    "    \"predicted\": df_predicted['tm']\n",
    "}\n",
    "    pearson = df.corr(method='pearson')\n",
    "    rmse = mean_squared_error(df_te['tm'], df_predicted['tm'], squared=False)\n",
    "    auc = metrics.roc_auc_score(df_te['tm'], df_predicted['tm'])\n",
    "    \n",
    "    print('Pearson: %.3f, RMSE %.3f, AUC: %.3f' %(pearson, rmse, auc))\n",
    "    return pearson, rmse, auc"
   ]
  },
  {
   "cell_type": "code",
   "execution_count": 127,
   "metadata": {},
   "outputs": [],
   "source": [
    "def train_epoch(model, optimizer, criterion, train_loader, epoch):\n",
    "    model.train()\n",
    "    rho = 0 \n",
    "    train_loss = 0 \n",
    "    for batch_idx, (seq, target,num) in enumerate(train_loader):\n",
    "        if torch.cuda.is_available():\n",
    "            seq = seq.cuda()\n",
    "            target = target.cuda()\n",
    "            num = num.cuda()\n",
    "        optimizer.zero_grad()\n",
    "        \n",
    "        output = model(seq,num)\n",
    "        loss = criterion(output.squeeze(), target)\n",
    "        train_loss += loss.item()\n",
    "        loss.backward()\n",
    "        \n",
    "        optimizer.step()\n",
    "        # calculate Spearman's rank correlation coefficient\n",
    "        p, _ = spearmanr(target.cpu().detach().numpy(), output.squeeze().cpu().detach().numpy())\n",
    "        rho += p\n",
    "    \n",
    "    train_loss /= len(train_loader)\n",
    "    \n",
    "    print(   f\"Train Epoch: {epoch}\" f\"batch_loss={train_loss:0.2e} \" )\n",
    "\n",
    "    rho = rho / len(train_loader)\n",
    "    return train_loss , rho"
   ]
  },
  {
   "cell_type": "code",
   "execution_count": 128,
   "metadata": {},
   "outputs": [],
   "source": [
    "def test_epoch(model, criterion, test_loader):\n",
    "    model = model.eval()\n",
    "    test_loss = 0\n",
    "    rho = 0\n",
    "    with torch.no_grad():\n",
    "        for seq, target,num in test_loader:\n",
    "            if torch.cuda.is_available():\n",
    "                seq = seq.cuda()\n",
    "                target = target.cuda()\n",
    "                num = num.cuda()\n",
    "            output = model(seq,num)\n",
    "            test_loss += criterion(output.squeeze(), target).item()  # sum up batch loss\n",
    "            # calculate pearson correlation \n",
    "            #pearson, rmse, auc = Scoring(target.cpu().detach(), output.cpu().detach())\n",
    "            p, _ =  spearmanr(target.cpu().detach().numpy(), output.cpu().detach().numpy())\n",
    "            rho += p\n",
    "            \n",
    "\n",
    "    test_loss /= len(test_loader)\n",
    "    rho = rho / len(test_loader)\n",
    "    print(\n",
    "        f\"Test set: Average loss: {test_loss:0.2e} \"\n",
    "    )\n",
    "\n",
    "    return test_loss ,rho"
   ]
  },
  {
   "cell_type": "code",
   "execution_count": 129,
   "metadata": {},
   "outputs": [
    {
     "name": "stdout",
     "output_type": "stream",
     "text": [
      "Train Epoch: 1batch_loss=5.51e+02 \n",
      "Test set: Average loss: 1.36e+02 \n",
      "Train Epoch: 2batch_loss=1.25e+02 \n",
      "Test set: Average loss: 1.16e+02 \n",
      "Train Epoch: 3batch_loss=1.18e+02 \n",
      "Test set: Average loss: 1.13e+02 \n",
      "Train Epoch: 4batch_loss=1.14e+02 \n",
      "Test set: Average loss: 1.08e+02 \n",
      "Train Epoch: 5batch_loss=1.09e+02 \n",
      "Test set: Average loss: 1.06e+02 \n",
      "Train Epoch: 6batch_loss=1.06e+02 \n",
      "Test set: Average loss: 9.91e+01 \n",
      "Train Epoch: 7batch_loss=1.05e+02 \n",
      "Test set: Average loss: 9.82e+01 \n",
      "Train Epoch: 8batch_loss=1.01e+02 \n",
      "Test set: Average loss: 9.59e+01 \n",
      "Train Epoch: 9batch_loss=1.02e+02 \n",
      "Test set: Average loss: 1.09e+02 \n",
      "Train Epoch: 10batch_loss=1.00e+02 \n",
      "Test set: Average loss: 9.38e+01 \n",
      "Train Epoch: 11batch_loss=9.61e+01 \n",
      "Test set: Average loss: 9.65e+01 \n",
      "Train Epoch: 12batch_loss=9.50e+01 \n",
      "Test set: Average loss: 9.40e+01 \n",
      "Train Epoch: 13batch_loss=9.23e+01 \n",
      "Test set: Average loss: 9.57e+01 \n",
      "Train Epoch: 14batch_loss=9.24e+01 \n",
      "Test set: Average loss: 9.76e+01 \n",
      "Train Epoch: 15batch_loss=9.10e+01 \n",
      "Test set: Average loss: 9.06e+01 \n",
      "Train Epoch: 16batch_loss=8.83e+01 \n",
      "Test set: Average loss: 9.20e+01 \n",
      "Train Epoch: 17batch_loss=8.87e+01 \n",
      "Test set: Average loss: 9.21e+01 \n",
      "Train Epoch: 18batch_loss=8.72e+01 \n",
      "Test set: Average loss: 1.18e+02 \n",
      "Train Epoch: 19batch_loss=8.75e+01 \n",
      "Test set: Average loss: 8.78e+01 \n",
      "Train Epoch: 20batch_loss=8.57e+01 \n",
      "Test set: Average loss: 8.91e+01 \n",
      "Train Epoch: 21batch_loss=8.54e+01 \n",
      "Test set: Average loss: 8.84e+01 \n",
      "Train Epoch: 22batch_loss=8.40e+01 \n",
      "Test set: Average loss: 8.88e+01 \n",
      "Train Epoch: 23batch_loss=8.45e+01 \n",
      "Test set: Average loss: 8.87e+01 \n",
      "Train Epoch: 24batch_loss=8.23e+01 \n",
      "Test set: Average loss: 9.89e+01 \n",
      "Train Epoch: 25batch_loss=8.33e+01 \n",
      "Test set: Average loss: 8.93e+01 \n",
      "Train Epoch: 26batch_loss=7.95e+01 \n",
      "Test set: Average loss: 8.90e+01 \n",
      "Train Epoch: 27batch_loss=8.12e+01 \n",
      "Test set: Average loss: 8.73e+01 \n",
      "Train Epoch: 28batch_loss=7.82e+01 \n",
      "Test set: Average loss: 8.81e+01 \n",
      "Train Epoch: 29batch_loss=7.80e+01 \n",
      "Test set: Average loss: 8.96e+01 \n",
      "Train Epoch: 30batch_loss=7.88e+01 \n",
      "Test set: Average loss: 8.90e+01 \n",
      "Train Epoch: 31batch_loss=7.76e+01 \n",
      "Test set: Average loss: 8.87e+01 \n",
      "Train Epoch: 32batch_loss=7.75e+01 \n",
      "Test set: Average loss: 9.63e+01 \n",
      "Train Epoch: 33batch_loss=7.76e+01 \n",
      "Test set: Average loss: 8.76e+01 \n",
      "Train Epoch: 34batch_loss=7.53e+01 \n",
      "Test set: Average loss: 8.81e+01 \n",
      "Train Epoch: 35batch_loss=7.58e+01 \n",
      "Test set: Average loss: 9.95e+01 \n",
      "Train Epoch: 36batch_loss=7.68e+01 \n",
      "Test set: Average loss: 9.06e+01 \n",
      "Train Epoch: 37batch_loss=7.67e+01 \n",
      "Test set: Average loss: 9.10e+01 \n",
      "Train Epoch: 38batch_loss=7.37e+01 \n",
      "Test set: Average loss: 9.14e+01 \n",
      "Train Epoch: 39batch_loss=7.45e+01 \n",
      "Test set: Average loss: 9.59e+01 \n",
      "Train Epoch: 40batch_loss=7.38e+01 \n",
      "Test set: Average loss: 9.17e+01 \n",
      "Train Epoch: 41batch_loss=7.29e+01 \n",
      "Test set: Average loss: 9.04e+01 \n",
      "Train Epoch: 42batch_loss=7.38e+01 \n",
      "Test set: Average loss: 1.03e+02 \n",
      "Train Epoch: 43batch_loss=7.19e+01 \n",
      "Test set: Average loss: 9.58e+01 \n",
      "Train Epoch: 44batch_loss=7.18e+01 \n",
      "Test set: Average loss: 8.82e+01 \n",
      "Train Epoch: 45batch_loss=7.09e+01 \n",
      "Test set: Average loss: 9.26e+01 \n",
      "Train Epoch: 46batch_loss=7.16e+01 \n",
      "Test set: Average loss: 9.15e+01 \n",
      "Train Epoch: 47batch_loss=7.14e+01 \n",
      "Test set: Average loss: 8.85e+01 \n",
      "Train Epoch: 48batch_loss=6.99e+01 \n",
      "Test set: Average loss: 9.97e+01 \n",
      "Train Epoch: 49batch_loss=7.01e+01 \n",
      "Test set: Average loss: 9.17e+01 \n",
      "Train Epoch: 50batch_loss=7.04e+01 \n",
      "Test set: Average loss: 8.97e+01 \n",
      "Train Epoch: 51batch_loss=6.94e+01 \n",
      "Test set: Average loss: 9.14e+01 \n",
      "Train Epoch: 52batch_loss=6.98e+01 \n",
      "Test set: Average loss: 9.82e+01 \n",
      "Train Epoch: 53batch_loss=6.80e+01 \n",
      "Test set: Average loss: 1.04e+02 \n",
      "Train Epoch: 54batch_loss=6.70e+01 \n",
      "Test set: Average loss: 9.01e+01 \n",
      "Train Epoch: 55batch_loss=7.00e+01 \n",
      "Test set: Average loss: 9.14e+01 \n",
      "Train Epoch: 56batch_loss=6.79e+01 \n",
      "Test set: Average loss: 9.41e+01 \n",
      "Train Epoch: 57batch_loss=6.77e+01 \n",
      "Test set: Average loss: 1.01e+02 \n",
      "Train Epoch: 58batch_loss=6.88e+01 \n",
      "Test set: Average loss: 9.56e+01 \n",
      "Train Epoch: 59batch_loss=6.68e+01 \n",
      "Test set: Average loss: 8.84e+01 \n",
      "Train Epoch: 60batch_loss=6.76e+01 \n",
      "Test set: Average loss: 8.95e+01 \n",
      "Train Epoch: 61batch_loss=6.94e+01 \n",
      "Test set: Average loss: 9.69e+01 \n",
      "Train Epoch: 62batch_loss=6.55e+01 \n",
      "Test set: Average loss: 9.99e+01 \n",
      "Train Epoch: 63batch_loss=6.61e+01 \n",
      "Test set: Average loss: 1.09e+02 \n",
      "Train Epoch: 64batch_loss=6.55e+01 \n",
      "Test set: Average loss: 9.12e+01 \n",
      "Train Epoch: 65batch_loss=6.62e+01 \n",
      "Test set: Average loss: 9.03e+01 \n",
      "Train Epoch: 66batch_loss=6.46e+01 \n",
      "Test set: Average loss: 9.58e+01 \n",
      "Train Epoch: 67batch_loss=6.49e+01 \n",
      "Test set: Average loss: 9.67e+01 \n",
      "Train Epoch: 68batch_loss=6.54e+01 \n",
      "Test set: Average loss: 9.29e+01 \n",
      "Train Epoch: 69batch_loss=6.69e+01 \n",
      "Test set: Average loss: 9.37e+01 \n",
      "Train Epoch: 70batch_loss=6.65e+01 \n",
      "Test set: Average loss: 9.12e+01 \n",
      "Train Epoch: 71batch_loss=6.51e+01 \n",
      "Test set: Average loss: 9.16e+01 \n",
      "Train Epoch: 72batch_loss=6.38e+01 \n",
      "Test set: Average loss: 9.42e+01 \n",
      "Train Epoch: 73batch_loss=6.48e+01 \n",
      "Test set: Average loss: 1.04e+02 \n",
      "Train Epoch: 74batch_loss=6.47e+01 \n",
      "Test set: Average loss: 1.08e+02 \n",
      "Train Epoch: 75batch_loss=6.42e+01 \n",
      "Test set: Average loss: 9.48e+01 \n",
      "Train Epoch: 76batch_loss=6.41e+01 \n",
      "Test set: Average loss: 9.18e+01 \n",
      "Train Epoch: 77batch_loss=6.30e+01 \n",
      "Test set: Average loss: 1.09e+02 \n",
      "Train Epoch: 78batch_loss=6.55e+01 \n",
      "Test set: Average loss: 9.36e+01 \n",
      "Train Epoch: 79batch_loss=6.37e+01 \n",
      "Test set: Average loss: 9.70e+01 \n",
      "Train Epoch: 80batch_loss=6.36e+01 \n",
      "Test set: Average loss: 9.57e+01 \n",
      "Train Epoch: 81batch_loss=6.45e+01 \n",
      "Test set: Average loss: 9.38e+01 \n",
      "Train Epoch: 82batch_loss=6.58e+01 \n",
      "Test set: Average loss: 9.43e+01 \n",
      "Train Epoch: 83batch_loss=6.26e+01 \n",
      "Test set: Average loss: 1.13e+02 \n",
      "Train Epoch: 84batch_loss=6.29e+01 \n",
      "Test set: Average loss: 9.75e+01 \n",
      "Train Epoch: 85batch_loss=6.38e+01 \n",
      "Test set: Average loss: 1.04e+02 \n",
      "Train Epoch: 86batch_loss=6.20e+01 \n",
      "Test set: Average loss: 9.21e+01 \n",
      "Train Epoch: 87batch_loss=6.28e+01 \n",
      "Test set: Average loss: 9.84e+01 \n",
      "Train Epoch: 88batch_loss=6.28e+01 \n",
      "Test set: Average loss: 9.93e+01 \n",
      "Train Epoch: 89batch_loss=6.27e+01 \n",
      "Test set: Average loss: 9.93e+01 \n",
      "Train Epoch: 90batch_loss=6.35e+01 \n",
      "Test set: Average loss: 9.39e+01 \n",
      "Train Epoch: 91batch_loss=6.23e+01 \n",
      "Test set: Average loss: 9.24e+01 \n",
      "Train Epoch: 92batch_loss=6.24e+01 \n",
      "Test set: Average loss: 9.89e+01 \n",
      "Train Epoch: 93batch_loss=6.40e+01 \n",
      "Test set: Average loss: 9.68e+01 \n",
      "Train Epoch: 94batch_loss=6.26e+01 \n",
      "Test set: Average loss: 9.27e+01 \n",
      "Train Epoch: 95batch_loss=6.01e+01 \n",
      "Test set: Average loss: 1.03e+02 \n",
      "Train Epoch: 96batch_loss=6.02e+01 \n",
      "Test set: Average loss: 1.04e+02 \n",
      "Train Epoch: 97batch_loss=6.10e+01 \n",
      "Test set: Average loss: 1.01e+02 \n",
      "Train Epoch: 98batch_loss=6.10e+01 \n",
      "Test set: Average loss: 1.02e+02 \n",
      "Train Epoch: 99batch_loss=6.05e+01 \n",
      "Test set: Average loss: 9.74e+01 \n",
      "Train Epoch: 100batch_loss=6.07e+01 \n",
      "Test set: Average loss: 9.65e+01 \n"
     ]
    }
   ],
   "source": [
    "# train and test the model (save it after each epoch)\n",
    "train_loss_history = []\n",
    "test_loss_history = []\n",
    "train_rho_history = []\n",
    "test_rho_history = []\n",
    "for epoch in range(1, num_epochs + 1):\n",
    "    train_loss , rho_train = train_epoch(\n",
    "        model, optimizer, criterion, train_dl, epoch\n",
    "    )\n",
    "    train_loss_history.append(train_loss)\n",
    "    train_rho_history.append(rho_train)\n",
    "\n",
    "    \n",
    "    \n",
    "    test_loss , rho_test = test_epoch(model, criterion, val_dl)\n",
    "    test_loss_history.append(test_loss)\n",
    "    test_rho_history.append(rho_test)\n",
    "    \n",
    "    #torch.save(model.state_dict(), f\"2-Conv1d_OneHot_model_{epoch}.pth\")\n"
   ]
  },
  {
   "cell_type": "code",
   "execution_count": 130,
   "metadata": {},
   "outputs": [
    {
     "data": {
      "image/png": "[encoded data removed]",
      "text/plain": [
       "<Figure size 640x480 with 1 Axes>"
      ]
     },
     "metadata": {},
     "output_type": "display_data"
    }
   ],
   "source": [
    "#create loss plot\n",
    "\n",
    "plt.plot(train_loss_history, label='train loss')\n",
    "plt.plot(test_loss_history, label='test loss')\n",
    "plt.xlabel('Epoch')\n",
    "plt.ylabel('MSE')\n",
    "plt.title(' train and test MSE Loss')\n",
    "plt.legend()\n",
    "plt.savefig('1-conv1d_OneHot-Loss.png')\n"
   ]
  },
  {
   "cell_type": "code",
   "execution_count": 132,
   "metadata": {},
   "outputs": [
    {
     "data": {
      "image/png": "[encoded data removed]",
      "text/plain": [
       "<Figure size 640x480 with 1 Axes>"
      ]
     },
     "metadata": {},
     "output_type": "display_data"
    }
   ],
   "source": [
    "plt.plot(train_rho_history, label='train rho')\n",
    "plt.plot(test_rho_history, label='test rho')\n",
    "plt.xlabel('Epoch')\n",
    "plt.ylabel('rho')\n",
    "plt.title(' Spearman\\'s rank correlation coefficient')\n",
    "plt.legend()\n",
    "plt.savefig('2-conv1d_OneHot-rho.png')"
   ]
  },
  {
   "cell_type": "code",
   "execution_count": null,
   "metadata": {},
   "outputs": [],
   "source": [
    "rescale data\n",
    "increase the number of epochs\n"
   ]
  }
 ],
 "metadata": {
  "kernelspec": {
   "display_name": "Python 3 (ipykernel)",
   "language": "python",
   "name": "python3"
  },
  "language_info": {
   "codemirror_mode": {
    "name": "ipython",
    "version": 3
   },
   "file_extension": ".py",
   "mimetype": "text/x-python",
   "name": "python",
   "nbconvert_exporter": "python",
   "pygments_lexer": "ipython3",
   "version": "3.9.13"
  },
  "vscode": {
   "interpreter": {
    "hash": "a401f25d14e4726c47ec3d51a0ef0f076129e7cc070ddb98f69a4ab74ec023d7"
   }
  }
 },
 "nbformat": 4,
 "nbformat_minor": 4
}
